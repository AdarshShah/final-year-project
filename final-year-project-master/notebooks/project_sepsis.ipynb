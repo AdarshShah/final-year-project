{
 "cells": [
  {
   "cell_type": "markdown",
   "metadata": {
    "colab_type": "text",
    "id": "view-in-github"
   },
   "source": [
    "<a href=\"https://colab.research.google.com/github/AdarshShah/final-year-project/blob/master/project_sepsis.ipynb\" target=\"_parent\"><img src=\"https://colab.research.google.com/assets/colab-badge.svg\" alt=\"Open In Colab\"/></a>"
   ]
  },
  {
   "cell_type": "markdown",
   "metadata": {
    "colab_type": "text",
    "id": "gu39I2UdoNkN"
   },
   "source": [
    "#Import Libraries"
   ]
  },
  {
   "cell_type": "code",
   "execution_count": 1,
   "metadata": {
    "colab": {},
    "colab_type": "code",
    "id": "XpIrVj4Sl-Oe"
   },
   "outputs": [
    {
     "name": "stderr",
     "output_type": "stream",
     "text": [
      "/home/jay/.local/lib/python3.6/site-packages/tensorflow/python/framework/dtypes.py:516: FutureWarning: Passing (type, 1) or '1type' as a synonym of type is deprecated; in a future version of numpy, it will be understood as (type, (1,)) / '(1,)type'.\n",
      "  _np_qint8 = np.dtype([(\"qint8\", np.int8, 1)])\n",
      "/home/jay/.local/lib/python3.6/site-packages/tensorflow/python/framework/dtypes.py:517: FutureWarning: Passing (type, 1) or '1type' as a synonym of type is deprecated; in a future version of numpy, it will be understood as (type, (1,)) / '(1,)type'.\n",
      "  _np_quint8 = np.dtype([(\"quint8\", np.uint8, 1)])\n",
      "/home/jay/.local/lib/python3.6/site-packages/tensorflow/python/framework/dtypes.py:518: FutureWarning: Passing (type, 1) or '1type' as a synonym of type is deprecated; in a future version of numpy, it will be understood as (type, (1,)) / '(1,)type'.\n",
      "  _np_qint16 = np.dtype([(\"qint16\", np.int16, 1)])\n",
      "/home/jay/.local/lib/python3.6/site-packages/tensorflow/python/framework/dtypes.py:519: FutureWarning: Passing (type, 1) or '1type' as a synonym of type is deprecated; in a future version of numpy, it will be understood as (type, (1,)) / '(1,)type'.\n",
      "  _np_quint16 = np.dtype([(\"quint16\", np.uint16, 1)])\n",
      "/home/jay/.local/lib/python3.6/site-packages/tensorflow/python/framework/dtypes.py:520: FutureWarning: Passing (type, 1) or '1type' as a synonym of type is deprecated; in a future version of numpy, it will be understood as (type, (1,)) / '(1,)type'.\n",
      "  _np_qint32 = np.dtype([(\"qint32\", np.int32, 1)])\n",
      "/home/jay/.local/lib/python3.6/site-packages/tensorflow/python/framework/dtypes.py:525: FutureWarning: Passing (type, 1) or '1type' as a synonym of type is deprecated; in a future version of numpy, it will be understood as (type, (1,)) / '(1,)type'.\n",
      "  np_resource = np.dtype([(\"resource\", np.ubyte, 1)])\n",
      "/home/jay/.local/lib/python3.6/site-packages/tensorboard/compat/tensorflow_stub/dtypes.py:541: FutureWarning: Passing (type, 1) or '1type' as a synonym of type is deprecated; in a future version of numpy, it will be understood as (type, (1,)) / '(1,)type'.\n",
      "  _np_qint8 = np.dtype([(\"qint8\", np.int8, 1)])\n",
      "/home/jay/.local/lib/python3.6/site-packages/tensorboard/compat/tensorflow_stub/dtypes.py:542: FutureWarning: Passing (type, 1) or '1type' as a synonym of type is deprecated; in a future version of numpy, it will be understood as (type, (1,)) / '(1,)type'.\n",
      "  _np_quint8 = np.dtype([(\"quint8\", np.uint8, 1)])\n",
      "/home/jay/.local/lib/python3.6/site-packages/tensorboard/compat/tensorflow_stub/dtypes.py:543: FutureWarning: Passing (type, 1) or '1type' as a synonym of type is deprecated; in a future version of numpy, it will be understood as (type, (1,)) / '(1,)type'.\n",
      "  _np_qint16 = np.dtype([(\"qint16\", np.int16, 1)])\n",
      "/home/jay/.local/lib/python3.6/site-packages/tensorboard/compat/tensorflow_stub/dtypes.py:544: FutureWarning: Passing (type, 1) or '1type' as a synonym of type is deprecated; in a future version of numpy, it will be understood as (type, (1,)) / '(1,)type'.\n",
      "  _np_quint16 = np.dtype([(\"quint16\", np.uint16, 1)])\n",
      "/home/jay/.local/lib/python3.6/site-packages/tensorboard/compat/tensorflow_stub/dtypes.py:545: FutureWarning: Passing (type, 1) or '1type' as a synonym of type is deprecated; in a future version of numpy, it will be understood as (type, (1,)) / '(1,)type'.\n",
      "  _np_qint32 = np.dtype([(\"qint32\", np.int32, 1)])\n",
      "/home/jay/.local/lib/python3.6/site-packages/tensorboard/compat/tensorflow_stub/dtypes.py:550: FutureWarning: Passing (type, 1) or '1type' as a synonym of type is deprecated; in a future version of numpy, it will be understood as (type, (1,)) / '(1,)type'.\n",
      "  np_resource = np.dtype([(\"resource\", np.ubyte, 1)])\n",
      "Using TensorFlow backend.\n"
     ]
    }
   ],
   "source": [
    "import math\n",
    "import pandas as pd\n",
    "import psycopg2\n",
    "import getpass\n",
    "import numpy as np\n",
    "import tensorflow as tf\n",
    "from sklearn.preprocessing import MinMaxScaler, StandardScaler\n",
    "from sklearn.model_selection import train_test_split\n",
    "from keras.models import Model, Sequential\n",
    "from keras.layers import Input, GRU, Dense, LSTM, Flatten, Reshape, Lambda, CuDNNLSTM, Dropout\n",
    "import matplotlib.pyplot as plt"
   ]
  },
  {
   "cell_type": "markdown",
   "metadata": {
    "colab_type": "text",
    "id": "wAGLSF2-oUwi"
   },
   "source": [
    "# Declare Global Variables"
   ]
  },
  {
   "cell_type": "code",
   "execution_count": 0,
   "metadata": {
    "colab": {},
    "colab_type": "code",
    "id": "gjXc-ajOoG94"
   },
   "outputs": [],
   "source": [
    "user = 'postgres'\n",
    "host = 'localhost'\n",
    "dbname = 'mimic'\n",
    "schema = 'mimiciii'\n",
    "password = 'postgres'\n",
    "\n",
    "table = dict()\n",
    "standardScaler = StandardScaler()\n",
    "minMaxScaler = MinMaxScaler()\n",
    "\n",
    "tabs = ['uo','vitals','labs','ventsettings','vd','bgart','gcs']\n",
    "\n",
    "columns = ['icustay_id', 'hadm_id','sepsis_explicit', 'septic_shock_explicit', 'severe_sepsis_explicit',\n",
    "           'urineoutput','heartrate_min', 'heartrate_max','sysbp_min', 'sysbp_max', 'diasbp_min', 'diasbp_max', 'meanbp_min', 'meanbp_max', 'resprate_min',\n",
    "           'resprate_max', 'tempc_min', 'tempc_max', 'spo2_min', 'spo2_max', 'glucose_min', 'glucose_max','aniongap_min', 'aniongap_max', \n",
    "           'albumin_min', 'albumin_max', 'bands_min', 'bands_max', 'bicarbonate_min', 'bicarbonate_max', 'bilirubin_min', 'bilirubin_max',\n",
    "           'creatinine_min', 'creatinine_max', 'chloride_min', 'chloride_max', 'hematocrit_min', 'hematocrit_max', \n",
    "           'hemoglobin_min', 'hemoglobin_max', 'lactate_min', 'lactate_max', 'platelet_min', 'platelet_max', 'potassium_min', 'potassium_max',\n",
    "           'ptt_min', 'ptt_max', 'inr_min', 'inr_max', 'pt_min', 'pt_max', 'sodium_min', 'sodium_max', 'bun_min', 'bun_max', 'wbc_min', 'wbc_max',\n",
    "           'mechvent', 'extubated', 'selfextubated','ventnum','specimen_prob', 'so2', 'spo2', 'po2', 'pco2',\n",
    "           'fio2_chartevents', 'fio2', 'aado2', 'aado2_calc', 'pao2fio2', 'ph','baseexcess', 'bicarbonate', 'totalco2', 'hematocrit', 'hemoglobin',\n",
    "           'carboxyhemoglobin', 'methemoglobin', 'chloride', 'calcium', 'temperature', 'potassium', 'sodium', 'lactate', 'glucose', 'intubated',\n",
    "           'tidalvolume', 'ventilationrate', 'ventilator', 'peep', 'o2flow', 'requiredo2','mingcs', 'gcsmotor',\n",
    "           'gcsverbal', 'gcseyes', 'endotrachflag','specimen', 'specimen_pred']"
   ]
  },
  {
   "cell_type": "markdown",
   "metadata": {
    "colab_type": "text",
    "id": "CUWre_yIokdB"
   },
   "source": [
    "# Create Database Connection"
   ]
  },
  {
   "cell_type": "code",
   "execution_count": 0,
   "metadata": {
    "colab": {},
    "colab_type": "code",
    "id": "w5aaBL9FonQ2"
   },
   "outputs": [],
   "source": [
    "conn = psycopg2.connect(user=user,password=password,dbname=dbname,host=host)\n",
    "cur = conn.cursor()\n",
    "cur.execute('SET search_path to {}'.format(schema))"
   ]
  },
  {
   "cell_type": "markdown",
   "metadata": {
    "colab_type": "text",
    "id": "NHU4YpzUprYB"
   },
   "source": [
    "# Load Patient data\n",
    "\n",
    "\n"
   ]
  },
  {
   "cell_type": "code",
   "execution_count": 0,
   "metadata": {
    "colab": {},
    "colab_type": "code",
    "id": "oq4GQEZVMNkt"
   },
   "outputs": [],
   "source": [
    "sepsis = pd.read_csv('/home/adarsh/Documents/sepsis/dataset/sepsis3-df.csv')\n",
    "table['sepsis'] = sepsis\n",
    "\n",
    "def get_pandas(table):\n",
    "  query = \"SELECT * FROM \"+table+\";\"\n",
    "  table = pd.read_sql(query,conn)\n",
    "  return table\n",
    "\n",
    "for tab in tabs:\n",
    "  table[tab] = get_pandas(tab)\n",
    "\n",
    "del table['bgart']['charttime']\n",
    "del table['labs']['glucose_min']\n",
    "del table['labs']['glucose_max']"
   ]
  },
  {
   "cell_type": "code",
   "execution_count": 0,
   "metadata": {
    "colab": {},
    "colab_type": "code",
    "id": "02e5z-goW7ld"
   },
   "outputs": [],
   "source": [
    "sepsis_dataset = table['sepsis'].copy()\n",
    "\n",
    "for tab in tabs:\n",
    "  print(\"\\n%s:\"%tab)\n",
    "  f_key = []\n",
    "  for i in sepsis_dataset.columns:\n",
    "    if i in table[tab].columns:\n",
    "      print(i,end=' ')\n",
    "      f_key.append(i)\n",
    "  b = table[tab]\n",
    "  sepsis_dataset = pd.merge(sepsis_dataset,b,on=f_key,how='left')\n",
    "  sepsis_dataset = sepsis_dataset.drop_duplicates() "
   ]
  },
  {
   "cell_type": "markdown",
   "metadata": {
    "colab_type": "text",
    "id": "9SbCJpYp9tMD"
   },
   "source": [
    "# Data Preprocessing"
   ]
  },
  {
   "cell_type": "code",
   "execution_count": 0,
   "metadata": {
    "colab": {},
    "colab_type": "code",
    "id": "fpbpKsky9ySm"
   },
   "outputs": [],
   "source": [
    "X = sepsis_dataset[columns]\n",
    "X = X.drop_duplicates()\n",
    "X = X.fillna(value=0)  "
   ]
  },
  {
   "cell_type": "code",
   "execution_count": 0,
   "metadata": {
    "colab": {},
    "colab_type": "code",
    "id": "bVPkIp4m1HiX"
   },
   "outputs": [],
   "source": [
    "X.to_csv('/home/adarsh/Documents/sepsis/dataset/dataset_sepsis.csv')"
   ]
  }
 ],
 "metadata": {
  "colab": {
   "authorship_tag": "ABX9TyMZDJiJS8dLDCLJAZ2I5dDI",
   "collapsed_sections": [
    "gu39I2UdoNkN",
    "wAGLSF2-oUwi",
    "CUWre_yIokdB",
    "NHU4YpzUprYB"
   ],
   "include_colab_link": true,
   "name": "project-sepsis.ipynb",
   "provenance": []
  },
  "kernelspec": {
   "display_name": "Python 3",
   "language": "python",
   "name": "python3"
  },
  "language_info": {
   "codemirror_mode": {
    "name": "ipython",
    "version": 3
   },
   "file_extension": ".py",
   "mimetype": "text/x-python",
   "name": "python",
   "nbconvert_exporter": "python",
   "pygments_lexer": "ipython3",
   "version": "3.6.9"
  }
 },
 "nbformat": 4,
 "nbformat_minor": 1
}
