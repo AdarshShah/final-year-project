{
 "cells": [
  {
   "cell_type": "markdown",
   "metadata": {
    "colab_type": "text",
    "id": "view-in-github"
   },
   "source": [
    "<a href=\"https://colab.research.google.com/github/AdarshShah/final-year-project/blob/master/notebooks/sepsis_model.ipynb\" target=\"_parent\"><img src=\"https://colab.research.google.com/assets/colab-badge.svg\" alt=\"Open In Colab\"/></a>"
   ]
  },
  {
   "cell_type": "code",
   "execution_count": 2,
   "metadata": {
    "colab": {},
    "colab_type": "code",
    "id": "QKS73pQAZFf8"
   },
   "outputs": [
    {
     "name": "stderr",
     "output_type": "stream",
     "text": [
      "/home/jay/.local/lib/python3.6/site-packages/tensorflow/python/framework/dtypes.py:516: FutureWarning: Passing (type, 1) or '1type' as a synonym of type is deprecated; in a future version of numpy, it will be understood as (type, (1,)) / '(1,)type'.\n",
      "  _np_qint8 = np.dtype([(\"qint8\", np.int8, 1)])\n",
      "/home/jay/.local/lib/python3.6/site-packages/tensorflow/python/framework/dtypes.py:517: FutureWarning: Passing (type, 1) or '1type' as a synonym of type is deprecated; in a future version of numpy, it will be understood as (type, (1,)) / '(1,)type'.\n",
      "  _np_quint8 = np.dtype([(\"quint8\", np.uint8, 1)])\n",
      "/home/jay/.local/lib/python3.6/site-packages/tensorflow/python/framework/dtypes.py:518: FutureWarning: Passing (type, 1) or '1type' as a synonym of type is deprecated; in a future version of numpy, it will be understood as (type, (1,)) / '(1,)type'.\n",
      "  _np_qint16 = np.dtype([(\"qint16\", np.int16, 1)])\n",
      "/home/jay/.local/lib/python3.6/site-packages/tensorflow/python/framework/dtypes.py:519: FutureWarning: Passing (type, 1) or '1type' as a synonym of type is deprecated; in a future version of numpy, it will be understood as (type, (1,)) / '(1,)type'.\n",
      "  _np_quint16 = np.dtype([(\"quint16\", np.uint16, 1)])\n",
      "/home/jay/.local/lib/python3.6/site-packages/tensorflow/python/framework/dtypes.py:520: FutureWarning: Passing (type, 1) or '1type' as a synonym of type is deprecated; in a future version of numpy, it will be understood as (type, (1,)) / '(1,)type'.\n",
      "  _np_qint32 = np.dtype([(\"qint32\", np.int32, 1)])\n",
      "/home/jay/.local/lib/python3.6/site-packages/tensorflow/python/framework/dtypes.py:525: FutureWarning: Passing (type, 1) or '1type' as a synonym of type is deprecated; in a future version of numpy, it will be understood as (type, (1,)) / '(1,)type'.\n",
      "  np_resource = np.dtype([(\"resource\", np.ubyte, 1)])\n",
      "/home/jay/.local/lib/python3.6/site-packages/tensorboard/compat/tensorflow_stub/dtypes.py:541: FutureWarning: Passing (type, 1) or '1type' as a synonym of type is deprecated; in a future version of numpy, it will be understood as (type, (1,)) / '(1,)type'.\n",
      "  _np_qint8 = np.dtype([(\"qint8\", np.int8, 1)])\n",
      "/home/jay/.local/lib/python3.6/site-packages/tensorboard/compat/tensorflow_stub/dtypes.py:542: FutureWarning: Passing (type, 1) or '1type' as a synonym of type is deprecated; in a future version of numpy, it will be understood as (type, (1,)) / '(1,)type'.\n",
      "  _np_quint8 = np.dtype([(\"quint8\", np.uint8, 1)])\n",
      "/home/jay/.local/lib/python3.6/site-packages/tensorboard/compat/tensorflow_stub/dtypes.py:543: FutureWarning: Passing (type, 1) or '1type' as a synonym of type is deprecated; in a future version of numpy, it will be understood as (type, (1,)) / '(1,)type'.\n",
      "  _np_qint16 = np.dtype([(\"qint16\", np.int16, 1)])\n",
      "/home/jay/.local/lib/python3.6/site-packages/tensorboard/compat/tensorflow_stub/dtypes.py:544: FutureWarning: Passing (type, 1) or '1type' as a synonym of type is deprecated; in a future version of numpy, it will be understood as (type, (1,)) / '(1,)type'.\n",
      "  _np_quint16 = np.dtype([(\"quint16\", np.uint16, 1)])\n",
      "/home/jay/.local/lib/python3.6/site-packages/tensorboard/compat/tensorflow_stub/dtypes.py:545: FutureWarning: Passing (type, 1) or '1type' as a synonym of type is deprecated; in a future version of numpy, it will be understood as (type, (1,)) / '(1,)type'.\n",
      "  _np_qint32 = np.dtype([(\"qint32\", np.int32, 1)])\n",
      "/home/jay/.local/lib/python3.6/site-packages/tensorboard/compat/tensorflow_stub/dtypes.py:550: FutureWarning: Passing (type, 1) or '1type' as a synonym of type is deprecated; in a future version of numpy, it will be understood as (type, (1,)) / '(1,)type'.\n",
      "  np_resource = np.dtype([(\"resource\", np.ubyte, 1)])\n",
      "Using TensorFlow backend.\n"
     ]
    }
   ],
   "source": [
    "import math\n",
    "import pandas as pd\n",
    "import psycopg2\n",
    "import getpass\n",
    "import numpy as np\n",
    "import tensorflow as tf\n",
    "from sklearn.preprocessing import MinMaxScaler, StandardScaler\n",
    "from sklearn.model_selection import train_test_split\n",
    "from sklearn.metrics import confusion_matrix, f1_score, recall_score, precision_score\n",
    "from keras.models import Model, Sequential\n",
    "from keras.layers import Dense, LeakyReLU\n",
    "import matplotlib.pyplot as plt"
   ]
  },
  {
   "cell_type": "code",
   "execution_count": 3,
   "metadata": {
    "colab": {},
    "colab_type": "code",
    "id": "1_hawoweZSN1"
   },
   "outputs": [],
   "source": [
    "path = '/home/jay/Desktop/final-year-project-master/dataset/dataset_sepsis.csv'\n",
    "sepsis_dataset = pd.read_csv(path)"
   ]
  },
  {
   "cell_type": "code",
   "execution_count": 4,
   "metadata": {
    "colab": {},
    "colab_type": "code",
    "id": "BLWbXj3B1CD_"
   },
   "outputs": [],
   "source": [
    "sepsis = sepsis_dataset[sepsis_dataset['sepsis_explicit']==1]\n",
    "not_sepsis = sepsis_dataset[sepsis_dataset['sepsis_explicit']!=1]"
   ]
  },
  {
   "cell_type": "code",
   "execution_count": 5,
   "metadata": {
    "colab": {
     "base_uri": "https://localhost:8080/",
     "height": 34
    },
    "colab_type": "code",
    "id": "PGh97XlU1Hv9",
    "outputId": "d2b39726-69ca-489b-e1ad-4001956a79a8"
   },
   "outputs": [
    {
     "data": {
      "text/plain": [
       "1538"
      ]
     },
     "execution_count": 5,
     "metadata": {},
     "output_type": "execute_result"
    }
   ],
   "source": [
    "sepsis['icustay_id'].count()"
   ]
  },
  {
   "cell_type": "code",
   "execution_count": 6,
   "metadata": {
    "colab": {
     "base_uri": "https://localhost:8080/",
     "height": 34
    },
    "colab_type": "code",
    "id": "To1odVLn1KgH",
    "outputId": "81a9004f-02b9-4045-a2b0-9ec172ed6bd0"
   },
   "outputs": [
    {
     "data": {
      "text/plain": [
       "14000"
      ]
     },
     "execution_count": 6,
     "metadata": {},
     "output_type": "execute_result"
    }
   ],
   "source": [
    "not_sepsis['icustay_id'].count()"
   ]
  },
  {
   "cell_type": "code",
   "execution_count": 7,
   "metadata": {
    "colab": {},
    "colab_type": "code",
    "id": "t9x8gguzWff6"
   },
   "outputs": [],
   "source": [
    "X = sepsis_dataset.iloc[:,6:-2]\n",
    "Y = sepsis_dataset.iloc[:,3]\n",
    "X = MinMaxScaler().fit_transform(X.values)\n",
    "x_train, x_test, y_train, y_test = train_test_split(X,Y,test_size=0.2)"
   ]
  },
  {
   "cell_type": "code",
   "execution_count": 14,
   "metadata": {
    "colab": {},
    "colab_type": "code",
    "id": "BUxZ9JLHQO9q"
   },
   "outputs": [
    {
     "name": "stdout",
     "output_type": "stream",
     "text": [
      "Model: \"sequential_3\"\n",
      "_________________________________________________________________\n",
      "Layer (type)                 Output Shape              Param #   \n",
      "=================================================================\n",
      "dense_12 (Dense)             (None, 200)               19000     \n",
      "_________________________________________________________________\n",
      "dense_13 (Dense)             (None, 100)               20100     \n",
      "_________________________________________________________________\n",
      "dense_14 (Dense)             (None, 50)                5050      \n",
      "_________________________________________________________________\n",
      "dense_15 (Dense)             (None, 25)                1275      \n",
      "_________________________________________________________________\n",
      "dense_16 (Dense)             (None, 5)                 130       \n",
      "_________________________________________________________________\n",
      "dense_17 (Dense)             (None, 1)                 6         \n",
      "=================================================================\n",
      "Total params: 45,561\n",
      "Trainable params: 45,561\n",
      "Non-trainable params: 0\n",
      "_________________________________________________________________\n"
     ]
    }
   ],
   "source": [
    "model = Sequential()\n",
    "model.add(Dense(units=200,input_shape=(94,),activation='relu'))\n",
    "model.add(Dense(units=100,activation='relu'))\n",
    "model.add(Dense(units=50,activation='relu'))\n",
    "model.add(Dense(units=25,activation='relu'))\n",
    "model.add(Dense(units=5,activation='relu'))\n",
    "model.add(Dense(units=1,activation='sigmoid'))\n",
    "\n",
    "model.compile(optimizer='adam',loss='binary_crossentropy',metrics=['accuracy'])\n",
    "model.summary()"
   ]
  },
  {
   "cell_type": "code",
   "execution_count": 15,
   "metadata": {
    "colab": {},
    "colab_type": "code",
    "id": "a2b4Iqgt6PqQ"
   },
   "outputs": [
    {
     "name": "stdout",
     "output_type": "stream",
     "text": [
      "Train on 12430 samples, validate on 3108 samples\n",
      "Epoch 1/100\n",
      "12430/12430 [==============================] - 1s 75us/step - loss: 0.2987 - accuracy: 0.9003 - val_loss: 0.2875 - val_accuracy: 0.8983\n",
      "Epoch 2/100\n",
      "12430/12430 [==============================] - 1s 56us/step - loss: 0.2530 - accuracy: 0.9060 - val_loss: 0.2662 - val_accuracy: 0.9032\n",
      "Epoch 3/100\n",
      "12430/12430 [==============================] - 1s 59us/step - loss: 0.2446 - accuracy: 0.9122 - val_loss: 0.2648 - val_accuracy: 0.9051\n",
      "Epoch 4/100\n",
      "12430/12430 [==============================] - 1s 70us/step - loss: 0.2398 - accuracy: 0.9126 - val_loss: 0.2645 - val_accuracy: 0.9009\n",
      "Epoch 5/100\n",
      "12430/12430 [==============================] - 1s 74us/step - loss: 0.2357 - accuracy: 0.9146 - val_loss: 0.2589 - val_accuracy: 0.9060\n",
      "Epoch 6/100\n",
      "12430/12430 [==============================] - 1s 67us/step - loss: 0.2318 - accuracy: 0.9167 - val_loss: 0.2597 - val_accuracy: 0.9048\n",
      "Epoch 7/100\n",
      "12430/12430 [==============================] - 1s 69us/step - loss: 0.2274 - accuracy: 0.9188 - val_loss: 0.2635 - val_accuracy: 0.9028\n",
      "Epoch 8/100\n",
      "12430/12430 [==============================] - 1s 81us/step - loss: 0.2200 - accuracy: 0.9224 - val_loss: 0.2573 - val_accuracy: 0.9073\n",
      "Epoch 9/100\n",
      "12430/12430 [==============================] - 1s 82us/step - loss: 0.2206 - accuracy: 0.9228 - val_loss: 0.2586 - val_accuracy: 0.9099\n",
      "Epoch 10/100\n",
      "12430/12430 [==============================] - 1s 83us/step - loss: 0.2146 - accuracy: 0.9251 - val_loss: 0.2593 - val_accuracy: 0.9077\n",
      "Epoch 11/100\n",
      "12430/12430 [==============================] - 1s 80us/step - loss: 0.2095 - accuracy: 0.9276 - val_loss: 0.2561 - val_accuracy: 0.9083\n",
      "Epoch 12/100\n",
      "12430/12430 [==============================] - 1s 79us/step - loss: 0.2099 - accuracy: 0.9270 - val_loss: 0.3048 - val_accuracy: 0.8999\n",
      "Epoch 13/100\n",
      "12430/12430 [==============================] - 1s 85us/step - loss: 0.2062 - accuracy: 0.9290 - val_loss: 0.2650 - val_accuracy: 0.9077\n",
      "Epoch 14/100\n",
      "12430/12430 [==============================] - 1s 84us/step - loss: 0.2036 - accuracy: 0.9300 - val_loss: 0.2559 - val_accuracy: 0.9141\n",
      "Epoch 15/100\n",
      "12430/12430 [==============================] - 1s 77us/step - loss: 0.1986 - accuracy: 0.9309 - val_loss: 0.2657 - val_accuracy: 0.9093\n",
      "Epoch 16/100\n",
      "12430/12430 [==============================] - 1s 77us/step - loss: 0.1961 - accuracy: 0.9331 - val_loss: 0.2602 - val_accuracy: 0.9112\n",
      "Epoch 17/100\n",
      "12430/12430 [==============================] - 1s 69us/step - loss: 0.1928 - accuracy: 0.9344 - val_loss: 0.2755 - val_accuracy: 0.9147\n",
      "Epoch 18/100\n",
      "12430/12430 [==============================] - 1s 70us/step - loss: 0.1894 - accuracy: 0.9352 - val_loss: 0.2643 - val_accuracy: 0.9138\n",
      "Epoch 19/100\n",
      "12430/12430 [==============================] - 1s 68us/step - loss: 0.1874 - accuracy: 0.9356 - val_loss: 0.2769 - val_accuracy: 0.9035\n",
      "Epoch 20/100\n",
      "12430/12430 [==============================] - 1s 74us/step - loss: 0.1847 - accuracy: 0.9381 - val_loss: 0.2763 - val_accuracy: 0.9102\n",
      "Epoch 21/100\n",
      "12430/12430 [==============================] - 1s 69us/step - loss: 0.1832 - accuracy: 0.9373 - val_loss: 0.2763 - val_accuracy: 0.9128\n",
      "Epoch 22/100\n",
      "12430/12430 [==============================] - 1s 69us/step - loss: 0.1813 - accuracy: 0.9384 - val_loss: 0.2877 - val_accuracy: 0.9112\n",
      "Epoch 23/100\n",
      "12430/12430 [==============================] - 1s 73us/step - loss: 0.1784 - accuracy: 0.9395 - val_loss: 0.2691 - val_accuracy: 0.9154\n",
      "Epoch 24/100\n",
      "12430/12430 [==============================] - 1s 81us/step - loss: 0.1767 - accuracy: 0.9407 - val_loss: 0.2797 - val_accuracy: 0.9089\n",
      "Epoch 25/100\n",
      "12430/12430 [==============================] - 1s 76us/step - loss: 0.1720 - accuracy: 0.9426 - val_loss: 0.2936 - val_accuracy: 0.9122\n",
      "Epoch 26/100\n",
      "12430/12430 [==============================] - 1s 76us/step - loss: 0.1719 - accuracy: 0.9422 - val_loss: 0.2826 - val_accuracy: 0.9147\n",
      "Epoch 27/100\n",
      "12430/12430 [==============================] - 1s 77us/step - loss: 0.1670 - accuracy: 0.9438 - val_loss: 0.2892 - val_accuracy: 0.9128\n",
      "Epoch 28/100\n",
      "12430/12430 [==============================] - 1s 68us/step - loss: 0.1696 - accuracy: 0.9432 - val_loss: 0.2892 - val_accuracy: 0.9115\n",
      "Epoch 29/100\n",
      "12430/12430 [==============================] - 1s 66us/step - loss: 0.1637 - accuracy: 0.9448 - val_loss: 0.2885 - val_accuracy: 0.9118\n",
      "Epoch 30/100\n",
      "12430/12430 [==============================] - 1s 71us/step - loss: 0.1610 - accuracy: 0.9457 - val_loss: 0.3055 - val_accuracy: 0.9131\n",
      "Epoch 31/100\n",
      "12430/12430 [==============================] - 1s 65us/step - loss: 0.1658 - accuracy: 0.9453 - val_loss: 0.2981 - val_accuracy: 0.9115\n",
      "Epoch 32/100\n",
      "12430/12430 [==============================] - 1s 68us/step - loss: 0.1618 - accuracy: 0.9458 - val_loss: 0.3132 - val_accuracy: 0.9096\n",
      "Epoch 33/100\n",
      "12430/12430 [==============================] - 1s 71us/step - loss: 0.1583 - accuracy: 0.9471 - val_loss: 0.3164 - val_accuracy: 0.9134\n",
      "Epoch 34/100\n",
      "12430/12430 [==============================] - 1s 66us/step - loss: 0.1589 - accuracy: 0.9477 - val_loss: 0.3128 - val_accuracy: 0.9138\n",
      "Epoch 35/100\n",
      "12430/12430 [==============================] - 1s 65us/step - loss: 0.1536 - accuracy: 0.9486 - val_loss: 0.3440 - val_accuracy: 0.9057\n",
      "Epoch 36/100\n",
      "12430/12430 [==============================] - 1s 61us/step - loss: 0.1525 - accuracy: 0.9495 - val_loss: 0.3166 - val_accuracy: 0.9064\n",
      "Epoch 37/100\n",
      "12430/12430 [==============================] - 1s 64us/step - loss: 0.1535 - accuracy: 0.9489 - val_loss: 0.3378 - val_accuracy: 0.9035\n",
      "Epoch 38/100\n",
      "12430/12430 [==============================] - 1s 68us/step - loss: 0.1506 - accuracy: 0.9504 - val_loss: 0.3353 - val_accuracy: 0.9167\n",
      "Epoch 39/100\n",
      "12430/12430 [==============================] - 1s 62us/step - loss: 0.1485 - accuracy: 0.9503 - val_loss: 0.3129 - val_accuracy: 0.9128\n",
      "Epoch 40/100\n",
      "12430/12430 [==============================] - 1s 60us/step - loss: 0.1489 - accuracy: 0.9496 - val_loss: 0.3402 - val_accuracy: 0.9125\n",
      "Epoch 41/100\n",
      "12430/12430 [==============================] - 1s 62us/step - loss: 0.1465 - accuracy: 0.9512 - val_loss: 0.3350 - val_accuracy: 0.9154\n",
      "Epoch 42/100\n",
      "12430/12430 [==============================] - 1s 59us/step - loss: 0.1453 - accuracy: 0.9509 - val_loss: 0.3267 - val_accuracy: 0.9115\n",
      "Epoch 43/100\n",
      "12430/12430 [==============================] - 1s 57us/step - loss: 0.1385 - accuracy: 0.9553 - val_loss: 0.4014 - val_accuracy: 0.9035\n",
      "Epoch 44/100\n",
      "12430/12430 [==============================] - 1s 59us/step - loss: 0.1514 - accuracy: 0.9501 - val_loss: 0.3256 - val_accuracy: 0.9109\n",
      "Epoch 45/100\n",
      "12430/12430 [==============================] - 1s 73us/step - loss: 0.1425 - accuracy: 0.9526 - val_loss: 0.4255 - val_accuracy: 0.9118\n",
      "Epoch 46/100\n",
      "12430/12430 [==============================] - 1s 63us/step - loss: 0.1432 - accuracy: 0.9532 - val_loss: 0.3323 - val_accuracy: 0.9163\n",
      "Epoch 47/100\n",
      "12430/12430 [==============================] - 1s 64us/step - loss: 0.1387 - accuracy: 0.9530 - val_loss: 0.3518 - val_accuracy: 0.9109\n",
      "Epoch 48/100\n",
      "12430/12430 [==============================] - 1s 61us/step - loss: 0.1375 - accuracy: 0.9555 - val_loss: 0.3640 - val_accuracy: 0.9131\n",
      "Epoch 49/100\n",
      "12430/12430 [==============================] - 1s 69us/step - loss: 0.1429 - accuracy: 0.9525 - val_loss: 0.3359 - val_accuracy: 0.9118\n",
      "Epoch 50/100\n",
      "12430/12430 [==============================] - 1s 64us/step - loss: 0.1342 - accuracy: 0.9556 - val_loss: 0.3797 - val_accuracy: 0.9083\n",
      "Epoch 51/100\n",
      "12430/12430 [==============================] - 1s 67us/step - loss: 0.1395 - accuracy: 0.9550 - val_loss: 0.3600 - val_accuracy: 0.8990\n",
      "Epoch 52/100\n",
      "12430/12430 [==============================] - 1s 60us/step - loss: 0.1343 - accuracy: 0.9558 - val_loss: 0.3690 - val_accuracy: 0.9106\n",
      "Epoch 53/100\n",
      "12430/12430 [==============================] - 1s 62us/step - loss: 0.1310 - accuracy: 0.9564 - val_loss: 0.3871 - val_accuracy: 0.9118\n",
      "Epoch 54/100\n",
      "12430/12430 [==============================] - 1s 62us/step - loss: 0.1338 - accuracy: 0.9554 - val_loss: 0.3696 - val_accuracy: 0.9106\n",
      "Epoch 55/100\n",
      "12430/12430 [==============================] - 1s 67us/step - loss: 0.1354 - accuracy: 0.9558 - val_loss: 0.3641 - val_accuracy: 0.9147\n"
     ]
    },
    {
     "name": "stdout",
     "output_type": "stream",
     "text": [
      "Epoch 56/100\n",
      "12430/12430 [==============================] - 1s 54us/step - loss: 0.1313 - accuracy: 0.9566 - val_loss: 0.3788 - val_accuracy: 0.9086\n",
      "Epoch 57/100\n",
      "12430/12430 [==============================] - 1s 53us/step - loss: 0.1299 - accuracy: 0.9582 - val_loss: 0.3926 - val_accuracy: 0.9151\n",
      "Epoch 58/100\n",
      "12430/12430 [==============================] - 1s 52us/step - loss: 0.1318 - accuracy: 0.9565 - val_loss: 0.3759 - val_accuracy: 0.9144\n",
      "Epoch 59/100\n",
      "12430/12430 [==============================] - 1s 52us/step - loss: 0.1300 - accuracy: 0.9581 - val_loss: 0.3821 - val_accuracy: 0.9077\n",
      "Epoch 60/100\n",
      "12430/12430 [==============================] - 1s 52us/step - loss: 0.1263 - accuracy: 0.9595 - val_loss: 0.3725 - val_accuracy: 0.9099\n",
      "Epoch 61/100\n",
      "12430/12430 [==============================] - 1s 52us/step - loss: 0.1297 - accuracy: 0.9567 - val_loss: 0.4026 - val_accuracy: 0.9134\n",
      "Epoch 62/100\n",
      "12430/12430 [==============================] - 1s 53us/step - loss: 0.1286 - accuracy: 0.9585 - val_loss: 0.3613 - val_accuracy: 0.9122\n",
      "Epoch 63/100\n",
      "12430/12430 [==============================] - 1s 52us/step - loss: 0.1257 - accuracy: 0.9596 - val_loss: 0.3941 - val_accuracy: 0.9125\n",
      "Epoch 64/100\n",
      "12430/12430 [==============================] - 1s 53us/step - loss: 0.1233 - accuracy: 0.9608 - val_loss: 0.3923 - val_accuracy: 0.9144\n",
      "Epoch 65/100\n",
      "12430/12430 [==============================] - 1s 57us/step - loss: 0.1221 - accuracy: 0.9608 - val_loss: 0.4254 - val_accuracy: 0.9102\n",
      "Epoch 66/100\n",
      "12430/12430 [==============================] - 1s 66us/step - loss: 0.1296 - accuracy: 0.9582 - val_loss: 0.4074 - val_accuracy: 0.9089\n",
      "Epoch 67/100\n",
      "12430/12430 [==============================] - 1s 59us/step - loss: 0.1199 - accuracy: 0.9623 - val_loss: 0.4074 - val_accuracy: 0.9189\n",
      "Epoch 68/100\n",
      "12430/12430 [==============================] - 1s 61us/step - loss: 0.1183 - accuracy: 0.9622 - val_loss: 0.4126 - val_accuracy: 0.9080\n",
      "Epoch 69/100\n",
      "12430/12430 [==============================] - 1s 62us/step - loss: 0.1304 - accuracy: 0.9582 - val_loss: 0.4016 - val_accuracy: 0.9163\n",
      "Epoch 70/100\n",
      "12430/12430 [==============================] - 1s 58us/step - loss: 0.1201 - accuracy: 0.9616 - val_loss: 0.4134 - val_accuracy: 0.9089\n",
      "Epoch 71/100\n",
      "12430/12430 [==============================] - 1s 60us/step - loss: 0.1254 - accuracy: 0.9595 - val_loss: 0.4002 - val_accuracy: 0.9144\n",
      "Epoch 72/100\n",
      "12430/12430 [==============================] - 1s 60us/step - loss: 0.1158 - accuracy: 0.9632 - val_loss: 0.4267 - val_accuracy: 0.9128\n",
      "Epoch 73/100\n",
      "12430/12430 [==============================] - 1s 56us/step - loss: 0.1262 - accuracy: 0.9596 - val_loss: 0.3614 - val_accuracy: 0.9144\n",
      "Epoch 74/100\n",
      "12430/12430 [==============================] - 1s 61us/step - loss: 0.1143 - accuracy: 0.9640 - val_loss: 0.4139 - val_accuracy: 0.9134\n",
      "Epoch 75/100\n",
      "12430/12430 [==============================] - 1s 57us/step - loss: 0.1150 - accuracy: 0.9635 - val_loss: 0.4384 - val_accuracy: 0.9077\n",
      "Epoch 76/100\n",
      "12430/12430 [==============================] - 1s 54us/step - loss: 0.1212 - accuracy: 0.9605 - val_loss: 0.4158 - val_accuracy: 0.9147\n",
      "Epoch 77/100\n",
      "12430/12430 [==============================] - 1s 59us/step - loss: 0.1175 - accuracy: 0.9622 - val_loss: 0.4475 - val_accuracy: 0.9064\n",
      "Epoch 78/100\n",
      "12430/12430 [==============================] - 1s 61us/step - loss: 0.1139 - accuracy: 0.9637 - val_loss: 0.4820 - val_accuracy: 0.9163\n",
      "Epoch 79/100\n",
      "12430/12430 [==============================] - 1s 61us/step - loss: 0.1244 - accuracy: 0.9597 - val_loss: 0.3869 - val_accuracy: 0.9102\n",
      "Epoch 80/100\n",
      "12430/12430 [==============================] - 1s 61us/step - loss: 0.1147 - accuracy: 0.9634 - val_loss: 0.4442 - val_accuracy: 0.9073\n",
      "Epoch 81/100\n",
      "12430/12430 [==============================] - 1s 61us/step - loss: 0.1153 - accuracy: 0.9627 - val_loss: 0.4233 - val_accuracy: 0.9025\n",
      "Epoch 82/100\n",
      "12430/12430 [==============================] - 1s 65us/step - loss: 0.1098 - accuracy: 0.9650 - val_loss: 0.4696 - val_accuracy: 0.9144\n",
      "Epoch 83/100\n",
      "12430/12430 [==============================] - 1s 62us/step - loss: 0.1291 - accuracy: 0.9591 - val_loss: 0.4009 - val_accuracy: 0.9131\n",
      "Epoch 84/100\n",
      "12430/12430 [==============================] - 1s 61us/step - loss: 0.1082 - accuracy: 0.9658 - val_loss: 0.4552 - val_accuracy: 0.9106\n",
      "Epoch 85/100\n",
      "12430/12430 [==============================] - 1s 69us/step - loss: 0.1209 - accuracy: 0.9609 - val_loss: 0.4115 - val_accuracy: 0.9131\n",
      "Epoch 86/100\n",
      "12430/12430 [==============================] - 1s 62us/step - loss: 0.1127 - accuracy: 0.9638 - val_loss: 0.4407 - val_accuracy: 0.9141\n",
      "Epoch 87/100\n",
      "12430/12430 [==============================] - 1s 61us/step - loss: 0.1115 - accuracy: 0.9649 - val_loss: 0.5012 - val_accuracy: 0.9131\n",
      "Epoch 88/100\n",
      "12430/12430 [==============================] - 1s 61us/step - loss: 0.1157 - accuracy: 0.9629 - val_loss: 0.4693 - val_accuracy: 0.9041\n",
      "Epoch 89/100\n",
      "12430/12430 [==============================] - 1s 60us/step - loss: 0.1103 - accuracy: 0.9644 - val_loss: 0.4751 - val_accuracy: 0.9009\n",
      "Epoch 90/100\n",
      "12430/12430 [==============================] - 1s 57us/step - loss: 0.1139 - accuracy: 0.9626 - val_loss: 0.4853 - val_accuracy: 0.9060\n",
      "Epoch 91/100\n",
      "12430/12430 [==============================] - 1s 56us/step - loss: 0.1117 - accuracy: 0.9639 - val_loss: 0.4631 - val_accuracy: 0.9106\n",
      "Epoch 92/100\n",
      "12430/12430 [==============================] - 1s 56us/step - loss: 0.1103 - accuracy: 0.9645 - val_loss: 0.4659 - val_accuracy: 0.9070\n",
      "Epoch 93/100\n",
      "12430/12430 [==============================] - 1s 69us/step - loss: 0.1116 - accuracy: 0.9644 - val_loss: 0.4876 - val_accuracy: 0.9122\n",
      "Epoch 94/100\n",
      "12430/12430 [==============================] - 1s 66us/step - loss: 0.1127 - accuracy: 0.9638 - val_loss: 0.4719 - val_accuracy: 0.9035\n",
      "Epoch 95/100\n",
      "12430/12430 [==============================] - 1s 60us/step - loss: 0.1118 - accuracy: 0.9643 - val_loss: 0.4372 - val_accuracy: 0.9099\n",
      "Epoch 96/100\n",
      "12430/12430 [==============================] - 1s 62us/step - loss: 0.1027 - accuracy: 0.9677 - val_loss: 0.5039 - val_accuracy: 0.9151\n",
      "Epoch 97/100\n",
      "12430/12430 [==============================] - 1s 62us/step - loss: 0.1117 - accuracy: 0.9644 - val_loss: 0.4869 - val_accuracy: 0.9073\n",
      "Epoch 98/100\n",
      "12430/12430 [==============================] - 1s 60us/step - loss: 0.1085 - accuracy: 0.9655 - val_loss: 0.5271 - val_accuracy: 0.9141\n",
      "Epoch 99/100\n",
      "12430/12430 [==============================] - 1s 57us/step - loss: 0.1136 - accuracy: 0.9639 - val_loss: 0.5520 - val_accuracy: 0.9131\n",
      "Epoch 100/100\n",
      "12430/12430 [==============================] - 1s 57us/step - loss: 0.1110 - accuracy: 0.9641 - val_loss: 0.4497 - val_accuracy: 0.9205\n"
     ]
    }
   ],
   "source": [
    "history = model.fit(x=x_train,y=y_train,validation_data=(x_test,y_test),epochs=100)"
   ]
  },
  {
   "cell_type": "code",
   "execution_count": 16,
   "metadata": {
    "colab": {
     "base_uri": "https://localhost:8080/",
     "height": 295
    },
    "colab_type": "code",
    "id": "m0Lf2i_L-Dk7",
    "outputId": "081dcbec-87e9-4db6-adea-100d2cc8e408"
   },
   "outputs": [
    {
     "data": {
      "image/png": "[encoded data removed]",
      "text/plain": [
       "<Figure size 432x288 with 1 Axes>"
      ]
     },
     "metadata": {
      "needs_background": "light"
     },
     "output_type": "display_data"
    }
   ],
   "source": [
    "plt.plot(history.history['accuracy'])\n",
    "plt.plot(history.history['val_accuracy'])\n",
    "plt.title('model accuracy')\n",
    "plt.ylabel('accuracy')\n",
    "plt.xlabel('epoch')\n",
    "plt.legend(['train', 'val'], loc='upper left')\n",
    "plt.show()"
   ]
  },
  {
   "cell_type": "code",
   "execution_count": 17,
   "metadata": {
    "colab": {
     "base_uri": "https://localhost:8080/",
     "height": 104
    },
    "colab_type": "code",
    "id": "Rj1jwfO73k9j",
    "outputId": "c73e592c-0903-472c-d537-2c8cfedf7e50"
   },
   "outputs": [
    {
     "name": "stdout",
     "output_type": "stream",
     "text": [
      "[[13959    41]\n",
      " [  595   943]]\n",
      "f1_score\t:0.747819\n",
      "recall_score\t:0.613134\n",
      "precision_score\t:0.958333\n"
     ]
    }
   ],
   "source": [
    "X = sepsis_dataset.iloc[:,6:-2]\n",
    "y_true = sepsis_dataset.iloc[:,3]\n",
    "X = MinMaxScaler().fit_transform(X.values)\n",
    "y_pred = model.predict(X)\n",
    "y_pred = np.round(y_pred)\n",
    "print(confusion_matrix(y_true,y_pred))\n",
    "print(\"f1_score\\t:%f\"%(f1_score(y_true,y_pred)))\n",
    "print(\"recall_score\\t:%f\"%(recall_score(y_true,y_pred)))\n",
    "print(\"precision_score\\t:%f\"%(precision_score(y_true,y_pred)))vfdsa"
   ]
  },
  {
   "cell_type": "code",
   "execution_count": 12,
   "metadata": {
    "colab": {
     "base_uri": "https://localhost:8080/",
     "height": 104
    },
    "colab_type": "code",
    "id": "0FHx5kWAAF3e",
    "outputId": "80b6cfd0-9946-4090-a8bd-9b591d60c04c"
   },
   "outputs": [
    {
     "ename": "KeyError",
     "evalue": "'sepsis-3'",
     "output_type": "error",
     "traceback": [
      "\u001b[0;31m---------------------------------------------------------------------------\u001b[0m",
      "\u001b[0;31mKeyError\u001b[0m                                  Traceback (most recent call last)",
      "\u001b[0;32m~/.local/lib/python3.6/site-packages/pandas/core/indexes/base.py\u001b[0m in \u001b[0;36mget_loc\u001b[0;34m(self, key, method, tolerance)\u001b[0m\n\u001b[1;32m   2645\u001b[0m             \u001b[0;32mtry\u001b[0m\u001b[0;34m:\u001b[0m\u001b[0;34m\u001b[0m\u001b[0;34m\u001b[0m\u001b[0m\n\u001b[0;32m-> 2646\u001b[0;31m                 \u001b[0;32mreturn\u001b[0m \u001b[0mself\u001b[0m\u001b[0;34m.\u001b[0m\u001b[0m_engine\u001b[0m\u001b[0;34m.\u001b[0m\u001b[0mget_loc\u001b[0m\u001b[0;34m(\u001b[0m\u001b[0mkey\u001b[0m\u001b[0;34m)\u001b[0m\u001b[0;34m\u001b[0m\u001b[0;34m\u001b[0m\u001b[0m\n\u001b[0m\u001b[1;32m   2647\u001b[0m             \u001b[0;32mexcept\u001b[0m \u001b[0mKeyError\u001b[0m\u001b[0;34m:\u001b[0m\u001b[0;34m\u001b[0m\u001b[0;34m\u001b[0m\u001b[0m\n",
      "\u001b[0;32mpandas/_libs/index.pyx\u001b[0m in \u001b[0;36mpandas._libs.index.IndexEngine.get_loc\u001b[0;34m()\u001b[0m\n",
      "\u001b[0;32mpandas/_libs/index.pyx\u001b[0m in \u001b[0;36mpandas._libs.index.IndexEngine.get_loc\u001b[0;34m()\u001b[0m\n",
      "\u001b[0;32mpandas/_libs/hashtable_class_helper.pxi\u001b[0m in \u001b[0;36mpandas._libs.hashtable.PyObjectHashTable.get_item\u001b[0;34m()\u001b[0m\n",
      "\u001b[0;32mpandas/_libs/hashtable_class_helper.pxi\u001b[0m in \u001b[0;36mpandas._libs.hashtable.PyObjectHashTable.get_item\u001b[0;34m()\u001b[0m\n",
      "\u001b[0;31mKeyError\u001b[0m: 'sepsis-3'",
      "\nDuring handling of the above exception, another exception occurred:\n",
      "\u001b[0;31mKeyError\u001b[0m                                  Traceback (most recent call last)",
      "\u001b[0;32m<ipython-input-12-0d8ada6438f8>\u001b[0m in \u001b[0;36m<module>\u001b[0;34m\u001b[0m\n\u001b[0;32m----> 1\u001b[0;31m \u001b[0my_pred\u001b[0m \u001b[0;34m=\u001b[0m \u001b[0msepsis_dataset\u001b[0m\u001b[0;34m[\u001b[0m\u001b[0;34m'sepsis-3'\u001b[0m\u001b[0;34m]\u001b[0m\u001b[0;34m\u001b[0m\u001b[0;34m\u001b[0m\u001b[0m\n\u001b[0m\u001b[1;32m      2\u001b[0m \u001b[0my_true\u001b[0m \u001b[0;34m=\u001b[0m \u001b[0msepsis_dataset\u001b[0m\u001b[0;34m.\u001b[0m\u001b[0miloc\u001b[0m\u001b[0;34m[\u001b[0m\u001b[0;34m:\u001b[0m\u001b[0;34m,\u001b[0m\u001b[0;36m3\u001b[0m\u001b[0;34m]\u001b[0m\u001b[0;34m\u001b[0m\u001b[0;34m\u001b[0m\u001b[0m\n\u001b[1;32m      3\u001b[0m \u001b[0mprint\u001b[0m\u001b[0;34m(\u001b[0m\u001b[0mconfusion_matrix\u001b[0m\u001b[0;34m(\u001b[0m\u001b[0my_true\u001b[0m\u001b[0;34m,\u001b[0m\u001b[0my_pred\u001b[0m\u001b[0;34m)\u001b[0m\u001b[0;34m)\u001b[0m\u001b[0;34m\u001b[0m\u001b[0;34m\u001b[0m\u001b[0m\n\u001b[1;32m      4\u001b[0m \u001b[0mprint\u001b[0m\u001b[0;34m(\u001b[0m\u001b[0;34m\"f1_score\\t:%f\"\u001b[0m\u001b[0;34m%\u001b[0m\u001b[0;34m(\u001b[0m\u001b[0mf1_score\u001b[0m\u001b[0;34m(\u001b[0m\u001b[0my_true\u001b[0m\u001b[0;34m,\u001b[0m\u001b[0my_pred\u001b[0m\u001b[0;34m)\u001b[0m\u001b[0;34m)\u001b[0m\u001b[0;34m)\u001b[0m\u001b[0;34m\u001b[0m\u001b[0;34m\u001b[0m\u001b[0m\n\u001b[1;32m      5\u001b[0m \u001b[0mprint\u001b[0m\u001b[0;34m(\u001b[0m\u001b[0;34m\"recall_score\\t:%f\"\u001b[0m\u001b[0;34m%\u001b[0m\u001b[0;34m(\u001b[0m\u001b[0mrecall_score\u001b[0m\u001b[0;34m(\u001b[0m\u001b[0my_true\u001b[0m\u001b[0;34m,\u001b[0m\u001b[0my_pred\u001b[0m\u001b[0;34m)\u001b[0m\u001b[0;34m)\u001b[0m\u001b[0;34m)\u001b[0m\u001b[0;34m\u001b[0m\u001b[0;34m\u001b[0m\u001b[0m\n",
      "\u001b[0;32m~/.local/lib/python3.6/site-packages/pandas/core/frame.py\u001b[0m in \u001b[0;36m__getitem__\u001b[0;34m(self, key)\u001b[0m\n\u001b[1;32m   2798\u001b[0m             \u001b[0;32mif\u001b[0m \u001b[0mself\u001b[0m\u001b[0;34m.\u001b[0m\u001b[0mcolumns\u001b[0m\u001b[0;34m.\u001b[0m\u001b[0mnlevels\u001b[0m \u001b[0;34m>\u001b[0m \u001b[0;36m1\u001b[0m\u001b[0;34m:\u001b[0m\u001b[0;34m\u001b[0m\u001b[0;34m\u001b[0m\u001b[0m\n\u001b[1;32m   2799\u001b[0m                 \u001b[0;32mreturn\u001b[0m \u001b[0mself\u001b[0m\u001b[0;34m.\u001b[0m\u001b[0m_getitem_multilevel\u001b[0m\u001b[0;34m(\u001b[0m\u001b[0mkey\u001b[0m\u001b[0;34m)\u001b[0m\u001b[0;34m\u001b[0m\u001b[0;34m\u001b[0m\u001b[0m\n\u001b[0;32m-> 2800\u001b[0;31m             \u001b[0mindexer\u001b[0m \u001b[0;34m=\u001b[0m \u001b[0mself\u001b[0m\u001b[0;34m.\u001b[0m\u001b[0mcolumns\u001b[0m\u001b[0;34m.\u001b[0m\u001b[0mget_loc\u001b[0m\u001b[0;34m(\u001b[0m\u001b[0mkey\u001b[0m\u001b[0;34m)\u001b[0m\u001b[0;34m\u001b[0m\u001b[0;34m\u001b[0m\u001b[0m\n\u001b[0m\u001b[1;32m   2801\u001b[0m             \u001b[0;32mif\u001b[0m \u001b[0mis_integer\u001b[0m\u001b[0;34m(\u001b[0m\u001b[0mindexer\u001b[0m\u001b[0;34m)\u001b[0m\u001b[0;34m:\u001b[0m\u001b[0;34m\u001b[0m\u001b[0;34m\u001b[0m\u001b[0m\n\u001b[1;32m   2802\u001b[0m                 \u001b[0mindexer\u001b[0m \u001b[0;34m=\u001b[0m \u001b[0;34m[\u001b[0m\u001b[0mindexer\u001b[0m\u001b[0;34m]\u001b[0m\u001b[0;34m\u001b[0m\u001b[0;34m\u001b[0m\u001b[0m\n",
      "\u001b[0;32m~/.local/lib/python3.6/site-packages/pandas/core/indexes/base.py\u001b[0m in \u001b[0;36mget_loc\u001b[0;34m(self, key, method, tolerance)\u001b[0m\n\u001b[1;32m   2646\u001b[0m                 \u001b[0;32mreturn\u001b[0m \u001b[0mself\u001b[0m\u001b[0;34m.\u001b[0m\u001b[0m_engine\u001b[0m\u001b[0;34m.\u001b[0m\u001b[0mget_loc\u001b[0m\u001b[0;34m(\u001b[0m\u001b[0mkey\u001b[0m\u001b[0;34m)\u001b[0m\u001b[0;34m\u001b[0m\u001b[0;34m\u001b[0m\u001b[0m\n\u001b[1;32m   2647\u001b[0m             \u001b[0;32mexcept\u001b[0m \u001b[0mKeyError\u001b[0m\u001b[0;34m:\u001b[0m\u001b[0;34m\u001b[0m\u001b[0;34m\u001b[0m\u001b[0m\n\u001b[0;32m-> 2648\u001b[0;31m                 \u001b[0;32mreturn\u001b[0m \u001b[0mself\u001b[0m\u001b[0;34m.\u001b[0m\u001b[0m_engine\u001b[0m\u001b[0;34m.\u001b[0m\u001b[0mget_loc\u001b[0m\u001b[0;34m(\u001b[0m\u001b[0mself\u001b[0m\u001b[0;34m.\u001b[0m\u001b[0m_maybe_cast_indexer\u001b[0m\u001b[0;34m(\u001b[0m\u001b[0mkey\u001b[0m\u001b[0;34m)\u001b[0m\u001b[0;34m)\u001b[0m\u001b[0;34m\u001b[0m\u001b[0;34m\u001b[0m\u001b[0m\n\u001b[0m\u001b[1;32m   2649\u001b[0m         \u001b[0mindexer\u001b[0m \u001b[0;34m=\u001b[0m \u001b[0mself\u001b[0m\u001b[0;34m.\u001b[0m\u001b[0mget_indexer\u001b[0m\u001b[0;34m(\u001b[0m\u001b[0;34m[\u001b[0m\u001b[0mkey\u001b[0m\u001b[0;34m]\u001b[0m\u001b[0;34m,\u001b[0m \u001b[0mmethod\u001b[0m\u001b[0;34m=\u001b[0m\u001b[0mmethod\u001b[0m\u001b[0;34m,\u001b[0m \u001b[0mtolerance\u001b[0m\u001b[0;34m=\u001b[0m\u001b[0mtolerance\u001b[0m\u001b[0;34m)\u001b[0m\u001b[0;34m\u001b[0m\u001b[0;34m\u001b[0m\u001b[0m\n\u001b[1;32m   2650\u001b[0m         \u001b[0;32mif\u001b[0m \u001b[0mindexer\u001b[0m\u001b[0;34m.\u001b[0m\u001b[0mndim\u001b[0m \u001b[0;34m>\u001b[0m \u001b[0;36m1\u001b[0m \u001b[0;32mor\u001b[0m \u001b[0mindexer\u001b[0m\u001b[0;34m.\u001b[0m\u001b[0msize\u001b[0m \u001b[0;34m>\u001b[0m \u001b[0;36m1\u001b[0m\u001b[0;34m:\u001b[0m\u001b[0;34m\u001b[0m\u001b[0;34m\u001b[0m\u001b[0m\n",
      "\u001b[0;32mpandas/_libs/index.pyx\u001b[0m in \u001b[0;36mpandas._libs.index.IndexEngine.get_loc\u001b[0;34m()\u001b[0m\n",
      "\u001b[0;32mpandas/_libs/index.pyx\u001b[0m in \u001b[0;36mpandas._libs.index.IndexEngine.get_loc\u001b[0;34m()\u001b[0m\n",
      "\u001b[0;32mpandas/_libs/hashtable_class_helper.pxi\u001b[0m in \u001b[0;36mpandas._libs.hashtable.PyObjectHashTable.get_item\u001b[0;34m()\u001b[0m\n",
      "\u001b[0;32mpandas/_libs/hashtable_class_helper.pxi\u001b[0m in \u001b[0;36mpandas._libs.hashtable.PyObjectHashTable.get_item\u001b[0;34m()\u001b[0m\n",
      "\u001b[0;31mKeyError\u001b[0m: 'sepsis-3'"
     ]
    }
   ],
   "source": [
    "y_pred = sepsis_dataset['sepsis-3']\n",
    "y_true = sepsis_dataset.iloc[:,3]\n",
    "print(confusion_matrix(y_true,y_pred))\n",
    "print(\"f1_score\\t:%f\"%(f1_score(y_true,y_pred)))\n",
    "print(\"recall_score\\t:%f\"%(recall_score(y_true,y_pred)))\n",
    "print(\"precision_score\\t:%f\"%(precision_score(y_true,y_pred))) "
   ]
  },
  {
   "cell_type": "code",
   "execution_count": null,
   "metadata": {},
   "outputs": [],
   "source": []
  },
  {
   "cell_type": "code",
   "execution_count": null,
   "metadata": {},
   "outputs": [],
   "source": []
  }
 ],
 "metadata": {
  "colab": {
   "authorship_tag": "ABX9TyM5ACLaGXDPOzPJQ+x6cI9Q",
   "include_colab_link": true,
   "name": "sepsis-model.ipynb",
   "provenance": []
  },
  "kernelspec": {
   "display_name": "Python 3",
   "language": "python",
   "name": "python3"
  },
  "language_info": {
   "codemirror_mode": {
    "name": "ipython",
    "version": 3
   },
   "file_extension": ".py",
   "mimetype": "text/x-python",
   "name": "python",
   "nbconvert_exporter": "python",
   "pygments_lexer": "ipython3",
   "version": "3.6.9"
  }
 },
 "nbformat": 4,
 "nbformat_minor": 1
}
