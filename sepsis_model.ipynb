{
  "nbformat": 4,
  "nbformat_minor": 0,
  "metadata": {
    "colab": {
      "name": "sepsis-model.ipynb",
      "provenance": [],
      "authorship_tag": "ABX9TyMhMQF44e2/38AyELyzqOWr",
      "include_colab_link": true
    },
    "kernelspec": {
      "name": "python3",
      "display_name": "Python 3"
    }
  },
  "cells": [
    {
      "cell_type": "markdown",
      "metadata": {
        "id": "view-in-github",
        "colab_type": "text"
      },
      "source": [
        "<a href=\"https://colab.research.google.com/github/AdarshShah/final-year-project/blob/master/sepsis_model.ipynb\" target=\"_parent\"><img src=\"https://colab.research.google.com/assets/colab-badge.svg\" alt=\"Open In Colab\"/></a>"
      ]
    },
    {
      "cell_type": "code",
      "metadata": {
        "id": "QKS73pQAZFf8",
        "colab_type": "code",
        "colab": {}
      },
      "source": [
        "import math\n",
        "import pandas as pd\n",
        "import psycopg2\n",
        "import getpass\n",
        "import numpy as np\n",
        "import tensorflow as tf\n",
        "from sklearn.preprocessing import MinMaxScaler, StandardScaler\n",
        "from sklearn.model_selection import train_test_split\n",
        "from keras.models import Model, Sequential\n",
        "from keras.layers import Input, GRU, Dense, LSTM, Flatten, Reshape, Lambda, CuDNNLSTM, Dropout\n",
        "import matplotlib.pyplot as plt"
      ],
      "execution_count": 0,
      "outputs": []
    },
    {
      "cell_type": "code",
      "metadata": {
        "id": "hmy5lpG0KNjB",
        "colab_type": "code",
        "colab": {}
      },
      "source": [
        "from google.colab import drive\n",
        "drive.mount('/content/drive')"
      ],
      "execution_count": 0,
      "outputs": []
    },
    {
      "cell_type": "code",
      "metadata": {
        "id": "1_hawoweZSN1",
        "colab_type": "code",
        "colab": {}
      },
      "source": [
        "path = '/content/drive/My Drive/sepsis_dataset.csv'\n",
        "#path = '/home/adarsh/Documents/sepsis/sepsis_dataset.csv'\n",
        "sepsis_dataset = pd.read_csv(path)"
      ],
      "execution_count": 0,
      "outputs": []
    },
    {
      "cell_type": "code",
      "metadata": {
        "id": "t9x8gguzWff6",
        "colab_type": "code",
        "colab": {}
      },
      "source": [
        "sepsis_dataset.iloc[:,1:-2] = StandardScaler().fit_transform(sepsis_dataset.iloc[:,1:-2])"
      ],
      "execution_count": 0,
      "outputs": []
    },
    {
      "cell_type": "code",
      "metadata": {
        "id": "O6ZNkVDHN-Kk",
        "colab_type": "code",
        "colab": {}
      },
      "source": [
        "train = sepsis_dataset['hadm_id'].drop_duplicates()\n",
        "x_train, x_test = train_test_split(train,test_size=0.2)"
      ],
      "execution_count": 0,
      "outputs": []
    },
    {
      "cell_type": "code",
      "metadata": {
        "id": "BUxZ9JLHQO9q",
        "colab_type": "code",
        "colab": {}
      },
      "source": [
        "model = Sequential()\n",
        "model.add(LSTM(units=128,batch_input_shape=(1,None,30),return_sequences=True))\n",
        "model.add(LSTM(units=64,return_sequences=False))\n",
        "model.add(Dense(units=64,activation='relu'))\n",
        "model.add(Dense(units=16,activation='relu'))\n",
        "model.add(Dense(units=4,activation='relu'))\n",
        "model.add(Dense(units=1,activation='sigmoid'))\n",
        "\n",
        "model.compile(optimizer='sgd',loss='binary_crossentropy',metrics=['accuracy'])\n",
        "model.summary()"
      ],
      "execution_count": 0,
      "outputs": []
    },
    {
      "cell_type": "code",
      "metadata": {
        "id": "dayOMo2QSFOl",
        "colab_type": "code",
        "colab": {}
      },
      "source": [
        "i = 1\n",
        "count = len(x_train)\n",
        "for x in x_train[0:50]:\n",
        "  X = np.array(sepsis_dataset[sepsis_dataset['hadm_id']==x].iloc[:,1:-2].drop_duplicates())\n",
        "  (a,b) = np.shape(X)\n",
        "  X = np.reshape(X,(1,a,30))\n",
        "  Y = sepsis_dataset[sepsis_dataset['hadm_id']==x]['sepsis'].drop_duplicates()\n",
        "  model.fit(X,Y,epochs=10)\n",
        "  print('\\n\\n%d/%d\\n\\n'%(i,count))\n",
        "  i=i+1"
      ],
      "execution_count": 0,
      "outputs": []
    },
    {
      "cell_type": "code",
      "metadata": {
        "id": "p75dhYlLaBf0",
        "colab_type": "code",
        "colab": {}
      },
      "source": [
        "for x in x_train[0:10]:\n",
        "  X = np.array(sepsis_dataset[sepsis_dataset['hadm_id']==x].iloc[:,1:-2].drop_duplicates())\n",
        "  (a,b) = np.shape(X)\n",
        "  X = np.reshape(X,(1,a,30))\n",
        "  Y = sepsis_dataset[sepsis_dataset['hadm_id']==x]['sepsis'].drop_duplicates()\n",
        "  print('%d %f'%(Y,model.predict(X)))\n",
        "  i=i+1"
      ],
      "execution_count": 0,
      "outputs": []
    }
  ]
}