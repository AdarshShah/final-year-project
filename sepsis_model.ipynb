{
  "nbformat": 4,
  "nbformat_minor": 0,
  "metadata": {
    "colab": {
      "name": "sepsis-model.ipynb",
      "provenance": [],
      "authorship_tag": "ABX9TyOL7dV5BU2E/YdTdyK7PlvD",
      "include_colab_link": true
    },
    "kernelspec": {
      "name": "python3",
      "display_name": "Python 3"
    }
  },
  "cells": [
    {
      "cell_type": "markdown",
      "metadata": {
        "id": "view-in-github",
        "colab_type": "text"
      },
      "source": [
        "<a href=\"https://colab.research.google.com/github/AdarshShah/final-year-project/blob/master/sepsis_model.ipynb\" target=\"_parent\"><img src=\"https://colab.research.google.com/assets/colab-badge.svg\" alt=\"Open In Colab\"/></a>"
      ]
    },
    {
      "cell_type": "code",
      "metadata": {
        "id": "QKS73pQAZFf8",
        "colab_type": "code",
        "colab": {
          "base_uri": "https://localhost:8080/",
          "height": 34
        },
        "outputId": "ee10ee69-3b24-441c-86c3-f68fccaedfce"
      },
      "source": [
        "import math\n",
        "import pandas as pd\n",
        "import psycopg2\n",
        "import getpass\n",
        "import numpy as np\n",
        "import tensorflow as tf\n",
        "from sklearn.preprocessing import MinMaxScaler, StandardScaler\n",
        "from sklearn.model_selection import train_test_split\n",
        "from keras.models import Model, Sequential\n",
        "from keras.layers import Input, GRU, Dense, LSTM, Flatten, Reshape, Lambda, CuDNNLSTM, Dropout\n",
        "import matplotlib.pyplot as plt"
      ],
      "execution_count": 2,
      "outputs": [
        {
          "output_type": "stream",
          "text": [
            "Using TensorFlow backend.\n"
          ],
          "name": "stderr"
        }
      ]
    },
    {
      "cell_type": "code",
      "metadata": {
        "id": "1_hawoweZSN1",
        "colab_type": "code",
        "colab": {}
      },
      "source": [
        "path = '/home/adarsh/Documents/sepsis/sepsis_dataset.csv'\n",
        "sepsis_dataset = pd.read_csv(path)"
      ],
      "execution_count": 0,
      "outputs": []
    },
    {
      "cell_type": "code",
      "metadata": {
        "id": "3Uraz30VZ0AB",
        "colab_type": "code",
        "colab": {
          "base_uri": "https://localhost:8080/",
          "height": 104
        },
        "outputId": "0bc698ed-4a5a-4cc5-d588-369adefc9012"
      },
      "source": [
        "sepsis_dataset.columns"
      ],
      "execution_count": 5,
      "outputs": [
        {
          "output_type": "execute_result",
          "data": {
            "text/plain": [
              "Index(['Unnamed: 0', '791', '811', '812', '828', '837', '1525', '1529', '1536',\n",
              "       '3736', '3744', '3745', '3750', '3789', '3803', '3835', '3837', '30006',\n",
              "       '44441', '44711', '50809', '50813', '50820', '50912', '50931', '51006',\n",
              "       '51478', '220615', '225170', '226537', '227444', 'sepsis', 'hadm_id'],\n",
              "      dtype='object')"
            ]
          },
          "metadata": {
            "tags": []
          },
          "execution_count": 5
        }
      ]
    },
    {
      "cell_type": "code",
      "metadata": {
        "id": "0PzNdvnyZim2",
        "colab_type": "code",
        "colab": {}
      },
      "source": [
        "hadm_id = sepsis_dataset['hadm_id'].drop_duplicates()\n",
        "for hadm in hadm_id:\n",
        "  data = sepsis_dataset[sepsis_dataset['hadm_id'] == hadm].iloc[:,1:-2]"
      ],
      "execution_count": 0,
      "outputs": []
    },
    {
      "cell_type": "code",
      "metadata": {
        "id": "3rx-tc-DbWOs",
        "colab_type": "code",
        "colab": {
          "base_uri": "https://localhost:8080/",
          "height": 104
        },
        "outputId": "2bde028e-9929-4d33-ce33-13ffd376c6fc"
      },
      "source": [
        "data.columns"
      ],
      "execution_count": 8,
      "outputs": [
        {
          "output_type": "execute_result",
          "data": {
            "text/plain": [
              "Index(['Unnamed: 0', '791', '811', '812', '828', '837', '1525', '1529', '1536',\n",
              "       '3736', '3744', '3745', '3750', '3789', '3803', '3835', '3837', '30006',\n",
              "       '44441', '44711', '50809', '50813', '50820', '50912', '50931', '51006',\n",
              "       '51478', '220615', '225170', '226537', '227444'],\n",
              "      dtype='object')"
            ]
          },
          "metadata": {
            "tags": []
          },
          "execution_count": 8
        }
      ]
    }
  ]
}