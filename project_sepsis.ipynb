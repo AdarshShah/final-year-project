{
  "nbformat": 4,
  "nbformat_minor": 0,
  "metadata": {
    "colab": {
      "name": "project-sepsis.ipynb",
      "provenance": [],
      "collapsed_sections": [
        "gu39I2UdoNkN",
        "wAGLSF2-oUwi",
        "CUWre_yIokdB",
        "NHU4YpzUprYB"
      ],
      "authorship_tag": "ABX9TyN0z3d/VlRAu5zpeFjWh1pz",
      "include_colab_link": true
    },
    "kernelspec": {
      "name": "python3",
      "display_name": "Python 3"
    }
  },
  "cells": [
    {
      "cell_type": "markdown",
      "metadata": {
        "id": "view-in-github",
        "colab_type": "text"
      },
      "source": [
        "<a href=\"https://colab.research.google.com/github/AdarshShah/final-year-project/blob/master/project_sepsis.ipynb\" target=\"_parent\"><img src=\"https://colab.research.google.com/assets/colab-badge.svg\" alt=\"Open In Colab\"/></a>"
      ]
    },
    {
      "cell_type": "markdown",
      "metadata": {
        "id": "gu39I2UdoNkN",
        "colab_type": "text"
      },
      "source": [
        "#Import Libraries"
      ]
    },
    {
      "cell_type": "code",
      "metadata": {
        "id": "XpIrVj4Sl-Oe",
        "colab_type": "code",
        "colab": {}
      },
      "source": [
        "import pandas as pd\n",
        "import psycopg2\n",
        "import getpass\n",
        "import numpy as np\n",
        "import tensorflow as tf\n",
        "from sklearn.preprocessing import MinMaxScaler"
      ],
      "execution_count": 0,
      "outputs": []
    },
    {
      "cell_type": "markdown",
      "metadata": {
        "id": "wAGLSF2-oUwi",
        "colab_type": "text"
      },
      "source": [
        "# Declare Global Variables"
      ]
    },
    {
      "cell_type": "code",
      "metadata": {
        "id": "gjXc-ajOoG94",
        "colab_type": "code",
        "colab": {}
      },
      "source": [
        "user = 'postgres'\n",
        "host = 'localhost'\n",
        "dbname = 'mimic'\n",
        "schema = 'mimiciii'\n",
        "password = 'postgres'\n",
        "icd9_code = '99592'\n",
        "minMaxScaler = dict()"
      ],
      "execution_count": 0,
      "outputs": []
    },
    {
      "cell_type": "markdown",
      "metadata": {
        "id": "CUWre_yIokdB",
        "colab_type": "text"
      },
      "source": [
        "# Create Database Connection"
      ]
    },
    {
      "cell_type": "code",
      "metadata": {
        "id": "w5aaBL9FonQ2",
        "colab_type": "code",
        "colab": {}
      },
      "source": [
        "conn = psycopg2.connect(user=user,password=password,dbname=dbname,host=host)\n",
        "cur = conn.cursor()\n",
        "cur.execute('SET search_path to {}'.format(schema))"
      ],
      "execution_count": 0,
      "outputs": []
    },
    {
      "cell_type": "markdown",
      "metadata": {
        "id": "NHU4YpzUprYB",
        "colab_type": "text"
      },
      "source": [
        "# Load Patient data\n",
        "\n",
        "\n"
      ]
    },
    {
      "cell_type": "markdown",
      "metadata": {
        "id": "URlfutSVJECz",
        "colab_type": "text"
      },
      "source": [
        "> Data from admissions suffering from severe sepsis"
      ]
    },
    {
      "cell_type": "code",
      "metadata": {
        "id": "njVeYBdYqF-2",
        "colab_type": "code",
        "colab": {}
      },
      "source": [
        "query = \"\"\"SELECT DISTINCT * FROM mimiciii.admissions i \n",
        "INNER JOIN mimiciii.diagnoses_icd USING(hadm_id)\n",
        "INNER JOIN mimiciii.d_icd_diagnoses USING(icd9_code)\n",
        "WHERE icd9_code LIKE '99592';\n",
        "\"\"\"\n",
        "admissions = pd.read_sql_query(sql=query,con=conn)"
      ],
      "execution_count": 0,
      "outputs": []
    },
    {
      "cell_type": "markdown",
      "metadata": {
        "id": "i3hmvxHirSZT",
        "colab_type": "text"
      },
      "source": [
        "> List Items from d_labitems and d_items"
      ]
    },
    {
      "cell_type": "code",
      "metadata": {
        "id": "3xgyzNs_srqt",
        "colab_type": "code",
        "colab": {}
      },
      "source": [
        "#d_items = ['Platelets','C Reactive Protein (CRP)','pH (Art)','HCO3','TCO2 (cap)']\n",
        "#d_labitems = ['Leukocytes','Urea Nitrogen','Creatinine','Glucose','Calcium, Total','Sodium','Potassium','Bilirubin','Albumin','Lactate','pCO2','pO2','Hemoglobin']\n",
        "\n",
        "#Append itemid below !!!!\n",
        "d_item_ce = ['0','828','3789','6256','791','3750','1525','220615','811','3744','3745','1529','226537','837','3803','1536','4948','3066','227444']  \n",
        "d_item_cv = ['0','30006','44711','44441']\n",
        "d_item_mv = ['0','225170']\n",
        "d_labitem = ['51486','51006','50912','50809','50931','51478','50813','50820']"
      ],
      "execution_count": 0,
      "outputs": []
    },
    {
      "cell_type": "code",
      "metadata": {
        "id": "p5oYE3jm3Mui",
        "colab_type": "code",
        "colab": {}
      },
      "source": [
        "def get_pandas(items, table):\n",
        "  query = \"SELECT DISTINCT * FROM mimiciii.\"+table+\" WHERE itemid IN \" + str(tuple(items))\n",
        "  items = pd.read_sql_query(sql=query,con=conn)\n",
        "  return items\n",
        "\n",
        "d_item_ce = get_pandas(d_item_ce,\"d_items\")\n",
        "d_item_cv = get_pandas(d_item_cv,\"d_items\")\n",
        "d_item_mv = get_pandas(d_item_mv,\"d_items\")\n",
        "d_labitem = get_pandas(d_labitem,\"d_labitems\")"
      ],
      "execution_count": 0,
      "outputs": []
    },
    {
      "cell_type": "markdown",
      "metadata": {
        "id": "TsSknm5NsfjN",
        "colab_type": "text"
      },
      "source": [
        "# Fetch items from mimic-iii"
      ]
    },
    {
      "cell_type": "markdown",
      "metadata": {
        "id": "fyVFmNLkJLmT",
        "colab_type": "text"
      },
      "source": [
        "> CHARTEVENTS"
      ]
    },
    {
      "cell_type": "code",
      "metadata": {
        "id": "d4SbcVt5sn2n",
        "colab_type": "code",
        "colab": {}
      },
      "source": [
        "query = \"SELECT * FROM mimiciii.chartevents WHERE itemid IN \" + str(tuple(d_item_ce['itemid'])) + \" AND hadm_id IN \" + str(tuple(admissions['hadm_id'])) + \" ORDER BY hadm_id,charttime,itemid;\"\n",
        "chartevents = pd.read_sql_query(sql=query,con=conn)\n"
      ],
      "execution_count": 0,
      "outputs": []
    },
    {
      "cell_type": "code",
      "metadata": {
        "id": "VvXq0O8QHE0K",
        "colab_type": "code",
        "colab": {}
      },
      "source": [
        "itemids = chartevents['itemid'].drop_duplicates()\n",
        "temp = chartevents.pivot(index='row_id',columns='itemid',values='valuenum')\n",
        "temp.fillna(value=0,inplace=True)\n",
        "for item in itemids:\n",
        "  arr = np.reshape(np.array(temp[item]),(-1,1))\n",
        "  minMaxScaler[item] = MinMaxScaler().fit(arr)"
      ],
      "execution_count": 0,
      "outputs": []
    },
    {
      "cell_type": "code",
      "metadata": {
        "id": "lkgo_mbUuQf1",
        "colab_type": "code",
        "colab": {
          "base_uri": "https://localhost:8080/",
          "height": 300
        },
        "outputId": "e1e13473-83a5-4fc3-9d49-0350efef5342"
      },
      "source": [
        "chartevents.describe()"
      ],
      "execution_count": 8,
      "outputs": [
        {
          "output_type": "execute_result",
          "data": {
            "text/plain": [
              "             row_id     subject_id        hadm_id     icustay_id  \\\n",
              "count  3.000570e+05  300057.000000  300057.000000  299723.000000   \n",
              "mean   1.014512e+08   22532.331060  149795.256431  250952.877267   \n",
              "std    5.663463e+07   20133.000158   28668.160671   28597.832480   \n",
              "min    1.565500e+04      21.000000  100074.000000  200030.000000   \n",
              "25%    5.315241e+07    9233.000000  125169.000000  226512.000000   \n",
              "50%    1.003898e+08   18748.000000  149299.000000  251770.000000   \n",
              "75%    1.523907e+08   28150.000000  175529.000000  275498.000000   \n",
              "max    1.931220e+08   99991.000000  199943.000000  299998.000000   \n",
              "\n",
              "              itemid           cgid       valuenum       warning         error  \n",
              "count  300057.000000  300057.000000  299216.000000  44258.000000  44258.000000  \n",
              "mean    33711.791216   16253.674169      98.363125      0.595305      0.002689  \n",
              "std     78331.500177    2026.583433      90.804017      0.490839      0.051784  \n",
              "min       791.000000   14023.000000     -70.000000      0.000000      0.000000  \n",
              "25%       811.000000   15331.000000       2.600000      0.000000      0.000000  \n",
              "50%      1525.000000   15331.000000     113.000000      1.000000      0.000000  \n",
              "75%      1536.000000   15331.000000     141.000000      1.000000      0.000000  \n",
              "max    227444.000000   21570.000000    3555.000000      1.000000      1.000000  "
            ],
            "text/html": [
              "<div>\n",
              "<style scoped>\n",
              "    .dataframe tbody tr th:only-of-type {\n",
              "        vertical-align: middle;\n",
              "    }\n",
              "\n",
              "    .dataframe tbody tr th {\n",
              "        vertical-align: top;\n",
              "    }\n",
              "\n",
              "    .dataframe thead th {\n",
              "        text-align: right;\n",
              "    }\n",
              "</style>\n",
              "<table border=\"1\" class=\"dataframe\">\n",
              "  <thead>\n",
              "    <tr style=\"text-align: right;\">\n",
              "      <th></th>\n",
              "      <th>row_id</th>\n",
              "      <th>subject_id</th>\n",
              "      <th>hadm_id</th>\n",
              "      <th>icustay_id</th>\n",
              "      <th>itemid</th>\n",
              "      <th>cgid</th>\n",
              "      <th>valuenum</th>\n",
              "      <th>warning</th>\n",
              "      <th>error</th>\n",
              "    </tr>\n",
              "  </thead>\n",
              "  <tbody>\n",
              "    <tr>\n",
              "      <th>count</th>\n",
              "      <td>3.000570e+05</td>\n",
              "      <td>300057.000000</td>\n",
              "      <td>300057.000000</td>\n",
              "      <td>299723.000000</td>\n",
              "      <td>300057.000000</td>\n",
              "      <td>300057.000000</td>\n",
              "      <td>299216.000000</td>\n",
              "      <td>44258.000000</td>\n",
              "      <td>44258.000000</td>\n",
              "    </tr>\n",
              "    <tr>\n",
              "      <th>mean</th>\n",
              "      <td>1.014512e+08</td>\n",
              "      <td>22532.331060</td>\n",
              "      <td>149795.256431</td>\n",
              "      <td>250952.877267</td>\n",
              "      <td>33711.791216</td>\n",
              "      <td>16253.674169</td>\n",
              "      <td>98.363125</td>\n",
              "      <td>0.595305</td>\n",
              "      <td>0.002689</td>\n",
              "    </tr>\n",
              "    <tr>\n",
              "      <th>std</th>\n",
              "      <td>5.663463e+07</td>\n",
              "      <td>20133.000158</td>\n",
              "      <td>28668.160671</td>\n",
              "      <td>28597.832480</td>\n",
              "      <td>78331.500177</td>\n",
              "      <td>2026.583433</td>\n",
              "      <td>90.804017</td>\n",
              "      <td>0.490839</td>\n",
              "      <td>0.051784</td>\n",
              "    </tr>\n",
              "    <tr>\n",
              "      <th>min</th>\n",
              "      <td>1.565500e+04</td>\n",
              "      <td>21.000000</td>\n",
              "      <td>100074.000000</td>\n",
              "      <td>200030.000000</td>\n",
              "      <td>791.000000</td>\n",
              "      <td>14023.000000</td>\n",
              "      <td>-70.000000</td>\n",
              "      <td>0.000000</td>\n",
              "      <td>0.000000</td>\n",
              "    </tr>\n",
              "    <tr>\n",
              "      <th>25%</th>\n",
              "      <td>5.315241e+07</td>\n",
              "      <td>9233.000000</td>\n",
              "      <td>125169.000000</td>\n",
              "      <td>226512.000000</td>\n",
              "      <td>811.000000</td>\n",
              "      <td>15331.000000</td>\n",
              "      <td>2.600000</td>\n",
              "      <td>0.000000</td>\n",
              "      <td>0.000000</td>\n",
              "    </tr>\n",
              "    <tr>\n",
              "      <th>50%</th>\n",
              "      <td>1.003898e+08</td>\n",
              "      <td>18748.000000</td>\n",
              "      <td>149299.000000</td>\n",
              "      <td>251770.000000</td>\n",
              "      <td>1525.000000</td>\n",
              "      <td>15331.000000</td>\n",
              "      <td>113.000000</td>\n",
              "      <td>1.000000</td>\n",
              "      <td>0.000000</td>\n",
              "    </tr>\n",
              "    <tr>\n",
              "      <th>75%</th>\n",
              "      <td>1.523907e+08</td>\n",
              "      <td>28150.000000</td>\n",
              "      <td>175529.000000</td>\n",
              "      <td>275498.000000</td>\n",
              "      <td>1536.000000</td>\n",
              "      <td>15331.000000</td>\n",
              "      <td>141.000000</td>\n",
              "      <td>1.000000</td>\n",
              "      <td>0.000000</td>\n",
              "    </tr>\n",
              "    <tr>\n",
              "      <th>max</th>\n",
              "      <td>1.931220e+08</td>\n",
              "      <td>99991.000000</td>\n",
              "      <td>199943.000000</td>\n",
              "      <td>299998.000000</td>\n",
              "      <td>227444.000000</td>\n",
              "      <td>21570.000000</td>\n",
              "      <td>3555.000000</td>\n",
              "      <td>1.000000</td>\n",
              "      <td>1.000000</td>\n",
              "    </tr>\n",
              "  </tbody>\n",
              "</table>\n",
              "</div>"
            ]
          },
          "metadata": {
            "tags": []
          },
          "execution_count": 8
        }
      ]
    },
    {
      "cell_type": "markdown",
      "metadata": {
        "id": "RGhHs9SotxRX",
        "colab_type": "text"
      },
      "source": [
        "> INPUTEVENTS_CV\n",
        "\n"
      ]
    },
    {
      "cell_type": "code",
      "metadata": {
        "id": "YkFmcdert41J",
        "colab_type": "code",
        "colab": {}
      },
      "source": [
        "query = \"SELECT * FROM mimiciii.inputevents_cv WHERE itemid IN \" + str(tuple(d_item_cv['itemid'])) + \" AND hadm_id IN \" + str(tuple(admissions['hadm_id'])) + \" ORDER BY hadm_id,charttime,itemid;\"\n",
        "inputevents_cv = pd.read_sql_query(sql=query,con=conn)"
      ],
      "execution_count": 0,
      "outputs": []
    },
    {
      "cell_type": "code",
      "metadata": {
        "id": "TVtmY4cdIyEP",
        "colab_type": "code",
        "colab": {}
      },
      "source": [
        "itemids = inputevents_cv['itemid'].drop_duplicates()\n",
        "temp = inputevents_cv.pivot(index='row_id',columns='itemid',values='amount')\n",
        "temp.fillna(value=0,inplace=True)\n",
        "for item in itemids:\n",
        "  arr = np.reshape(np.array(temp[item]),(-1,1))\n",
        "  minMaxScaler[item] = MinMaxScaler().fit(arr)"
      ],
      "execution_count": 0,
      "outputs": []
    },
    {
      "cell_type": "code",
      "metadata": {
        "id": "g1e98tfwuS8J",
        "colab_type": "code",
        "colab": {
          "base_uri": "https://localhost:8080/",
          "height": 300
        },
        "outputId": "2bf53d8b-e9e4-47cc-e943-48732c749144"
      },
      "source": [
        "inputevents_cv.describe()"
      ],
      "execution_count": 10,
      "outputs": [
        {
          "output_type": "execute_result",
          "data": {
            "text/plain": [
              "             row_id    subject_id        hadm_id     icustay_id        itemid  \\\n",
              "count  2.021000e+03   2021.000000    2021.000000    2011.000000   2021.000000   \n",
              "mean   4.758768e+06  16271.764473  149125.329540  252203.299354  30338.563088   \n",
              "std    1.933361e+06   8929.825919   30072.238069   29738.749552   2179.733312   \n",
              "min    4.457295e+06    117.000000  100253.000000  200102.000000  30006.000000   \n",
              "25%    4.460469e+06  10444.000000  121169.000000  226684.000000  30006.000000   \n",
              "50%    4.463877e+06  15812.000000  152446.000000  257318.000000  30006.000000   \n",
              "75%    4.466987e+06  22907.000000  180799.000000  276363.000000  30006.000000   \n",
              "max    1.745546e+07  32658.000000  199716.000000  299994.000000  44711.000000   \n",
              "\n",
              "            amount          cgid       orderid   linkorderid  newbottle  \n",
              "count  1923.000000   2021.000000  2.021000e+03  2.021000e+03      237.0  \n",
              "mean    210.064621  17932.677387  5.990417e+06  6.012288e+06        1.0  \n",
              "std     117.960518   2294.238327  3.441337e+06  3.476388e+06        0.0  \n",
              "min       0.000000  14151.000000  4.580000e+03  9.591000e+03        1.0  \n",
              "25%     198.000000  15816.000000  3.014334e+06  2.921896e+06        1.0  \n",
              "50%     232.000000  17609.000000  5.985687e+06  6.254552e+06        1.0  \n",
              "75%     270.000000  20034.000000  8.936081e+06  9.199768e+06        1.0  \n",
              "max     663.000000  21570.000000  1.195363e+07  1.190499e+07        1.0  "
            ],
            "text/html": [
              "<div>\n",
              "<style scoped>\n",
              "    .dataframe tbody tr th:only-of-type {\n",
              "        vertical-align: middle;\n",
              "    }\n",
              "\n",
              "    .dataframe tbody tr th {\n",
              "        vertical-align: top;\n",
              "    }\n",
              "\n",
              "    .dataframe thead th {\n",
              "        text-align: right;\n",
              "    }\n",
              "</style>\n",
              "<table border=\"1\" class=\"dataframe\">\n",
              "  <thead>\n",
              "    <tr style=\"text-align: right;\">\n",
              "      <th></th>\n",
              "      <th>row_id</th>\n",
              "      <th>subject_id</th>\n",
              "      <th>hadm_id</th>\n",
              "      <th>icustay_id</th>\n",
              "      <th>itemid</th>\n",
              "      <th>amount</th>\n",
              "      <th>cgid</th>\n",
              "      <th>orderid</th>\n",
              "      <th>linkorderid</th>\n",
              "      <th>newbottle</th>\n",
              "    </tr>\n",
              "  </thead>\n",
              "  <tbody>\n",
              "    <tr>\n",
              "      <th>count</th>\n",
              "      <td>2.021000e+03</td>\n",
              "      <td>2021.000000</td>\n",
              "      <td>2021.000000</td>\n",
              "      <td>2011.000000</td>\n",
              "      <td>2021.000000</td>\n",
              "      <td>1923.000000</td>\n",
              "      <td>2021.000000</td>\n",
              "      <td>2.021000e+03</td>\n",
              "      <td>2.021000e+03</td>\n",
              "      <td>237.0</td>\n",
              "    </tr>\n",
              "    <tr>\n",
              "      <th>mean</th>\n",
              "      <td>4.758768e+06</td>\n",
              "      <td>16271.764473</td>\n",
              "      <td>149125.329540</td>\n",
              "      <td>252203.299354</td>\n",
              "      <td>30338.563088</td>\n",
              "      <td>210.064621</td>\n",
              "      <td>17932.677387</td>\n",
              "      <td>5.990417e+06</td>\n",
              "      <td>6.012288e+06</td>\n",
              "      <td>1.0</td>\n",
              "    </tr>\n",
              "    <tr>\n",
              "      <th>std</th>\n",
              "      <td>1.933361e+06</td>\n",
              "      <td>8929.825919</td>\n",
              "      <td>30072.238069</td>\n",
              "      <td>29738.749552</td>\n",
              "      <td>2179.733312</td>\n",
              "      <td>117.960518</td>\n",
              "      <td>2294.238327</td>\n",
              "      <td>3.441337e+06</td>\n",
              "      <td>3.476388e+06</td>\n",
              "      <td>0.0</td>\n",
              "    </tr>\n",
              "    <tr>\n",
              "      <th>min</th>\n",
              "      <td>4.457295e+06</td>\n",
              "      <td>117.000000</td>\n",
              "      <td>100253.000000</td>\n",
              "      <td>200102.000000</td>\n",
              "      <td>30006.000000</td>\n",
              "      <td>0.000000</td>\n",
              "      <td>14151.000000</td>\n",
              "      <td>4.580000e+03</td>\n",
              "      <td>9.591000e+03</td>\n",
              "      <td>1.0</td>\n",
              "    </tr>\n",
              "    <tr>\n",
              "      <th>25%</th>\n",
              "      <td>4.460469e+06</td>\n",
              "      <td>10444.000000</td>\n",
              "      <td>121169.000000</td>\n",
              "      <td>226684.000000</td>\n",
              "      <td>30006.000000</td>\n",
              "      <td>198.000000</td>\n",
              "      <td>15816.000000</td>\n",
              "      <td>3.014334e+06</td>\n",
              "      <td>2.921896e+06</td>\n",
              "      <td>1.0</td>\n",
              "    </tr>\n",
              "    <tr>\n",
              "      <th>50%</th>\n",
              "      <td>4.463877e+06</td>\n",
              "      <td>15812.000000</td>\n",
              "      <td>152446.000000</td>\n",
              "      <td>257318.000000</td>\n",
              "      <td>30006.000000</td>\n",
              "      <td>232.000000</td>\n",
              "      <td>17609.000000</td>\n",
              "      <td>5.985687e+06</td>\n",
              "      <td>6.254552e+06</td>\n",
              "      <td>1.0</td>\n",
              "    </tr>\n",
              "    <tr>\n",
              "      <th>75%</th>\n",
              "      <td>4.466987e+06</td>\n",
              "      <td>22907.000000</td>\n",
              "      <td>180799.000000</td>\n",
              "      <td>276363.000000</td>\n",
              "      <td>30006.000000</td>\n",
              "      <td>270.000000</td>\n",
              "      <td>20034.000000</td>\n",
              "      <td>8.936081e+06</td>\n",
              "      <td>9.199768e+06</td>\n",
              "      <td>1.0</td>\n",
              "    </tr>\n",
              "    <tr>\n",
              "      <th>max</th>\n",
              "      <td>1.745546e+07</td>\n",
              "      <td>32658.000000</td>\n",
              "      <td>199716.000000</td>\n",
              "      <td>299994.000000</td>\n",
              "      <td>44711.000000</td>\n",
              "      <td>663.000000</td>\n",
              "      <td>21570.000000</td>\n",
              "      <td>1.195363e+07</td>\n",
              "      <td>1.190499e+07</td>\n",
              "      <td>1.0</td>\n",
              "    </tr>\n",
              "  </tbody>\n",
              "</table>\n",
              "</div>"
            ]
          },
          "metadata": {
            "tags": []
          },
          "execution_count": 10
        }
      ]
    },
    {
      "cell_type": "markdown",
      "metadata": {
        "id": "-Qih88Q4uhAL",
        "colab_type": "text"
      },
      "source": [
        "> INPUTEVENTS_MV"
      ]
    },
    {
      "cell_type": "code",
      "metadata": {
        "id": "r5i2In-yunoA",
        "colab_type": "code",
        "colab": {}
      },
      "source": [
        "query = \"SELECT * FROM mimiciii.inputevents_mv WHERE itemid IN ('225170') AND hadm_id IN \" + str(tuple(admissions['hadm_id'])) + \" ORDER BY hadm_id,starttime,itemid;\"\n",
        "inputevents_mv = pd.read_sql_query(sql=query,con=conn)"
      ],
      "execution_count": 0,
      "outputs": []
    },
    {
      "cell_type": "code",
      "metadata": {
        "id": "9k8LvSrFI824",
        "colab_type": "code",
        "colab": {}
      },
      "source": [
        "itemids = inputevents_mv['itemid'].drop_duplicates()\n",
        "temp = inputevents_mv.pivot(index='row_id',columns='itemid',values='amount')\n",
        "temp.fillna(value=0,inplace=True)\n",
        "for item in itemids:\n",
        "  arr = np.reshape(np.array(temp[item]),(-1,1))\n",
        "  minMaxScaler[item] = MinMaxScaler().fit(arr)"
      ],
      "execution_count": 0,
      "outputs": []
    },
    {
      "cell_type": "code",
      "metadata": {
        "id": "ShwrDXulutPc",
        "colab_type": "code",
        "colab": {
          "base_uri": "https://localhost:8080/",
          "height": 320
        },
        "outputId": "e8ee0351-275b-4505-d768-0bbffb6fd80a"
      },
      "source": [
        "inputevents_mv.describe()"
      ],
      "execution_count": 12,
      "outputs": [
        {
          "output_type": "execute_result",
          "data": {
            "text/plain": [
              "             row_id    subject_id        hadm_id     icustay_id    itemid  \\\n",
              "count  1.334000e+03   1334.000000    1334.000000    1333.000000    1334.0   \n",
              "mean   1.723259e+06  61245.308846  149024.087706  249418.126032  225170.0   \n",
              "std    1.103053e+06  22845.351072   27850.435266   31289.644167       0.0   \n",
              "min    2.146900e+04    124.000000  100442.000000  200454.000000  225170.0   \n",
              "25%    7.049760e+05  47183.000000  123675.000000  217745.000000  225170.0   \n",
              "50%    1.646684e+06  60762.000000  143320.000000  246671.000000  225170.0   \n",
              "75%    2.800743e+06  77893.000000  175201.000000  279535.000000  225170.0   \n",
              "max    3.605911e+06  99865.000000  199742.000000  299533.000000  225170.0   \n",
              "\n",
              "            amount         rate          cgid       orderid   linkorderid  \\\n",
              "count  1334.000000  1334.000000   1334.000000  1.334000e+03  1.334000e+03   \n",
              "mean    246.171973   325.239816  17902.677661  4.940668e+06  4.941656e+06   \n",
              "std      81.570682   196.546427   2260.232552  2.878895e+06  2.869574e+06   \n",
              "min     -20.099999     2.000000  14023.000000  1.289000e+04  1.289000e+04   \n",
              "25%     198.999996   200.999994  15830.000000  2.539858e+06  2.544540e+06   \n",
              "50%     230.999994   256.000014  17677.000000  4.875910e+06  4.883992e+06   \n",
              "75%     281.000004   386.000004  20013.250000  7.440448e+06  7.434026e+06   \n",
              "max     757.000020  1899.999960  21492.000000  9.992465e+06  9.992465e+06   \n",
              "\n",
              "       patientweight  totalamount    isopenbag  continueinnextdept  \\\n",
              "count    1334.000000  1334.000000  1334.000000              1334.0   \n",
              "mean       86.161694   251.479010     0.000750                 0.0   \n",
              "std        22.073056    74.877018     0.027379                 0.0   \n",
              "min         1.000000   130.000000     0.000000                 0.0   \n",
              "25%        71.000000   199.000000     0.000000                 0.0   \n",
              "50%        85.700000   233.000000     0.000000                 0.0   \n",
              "75%        97.000000   282.000000     0.000000                 0.0   \n",
              "max       170.500000   757.000000     1.000000                 0.0   \n",
              "\n",
              "       cancelreason  originalamount  originalrate  \n",
              "count   1334.000000     1334.000000   1334.000000  \n",
              "mean       0.116942      250.899538    325.085764  \n",
              "std        0.407872       75.299161    196.324979  \n",
              "min        0.000000       70.000000      2.000000  \n",
              "25%        0.000000      199.000000    201.000000  \n",
              "50%        0.000000      233.000000    256.000000  \n",
              "75%        0.000000      282.000000    386.000000  \n",
              "max        2.000000      757.000000   1900.000000  "
            ],
            "text/html": [
              "<div>\n",
              "<style scoped>\n",
              "    .dataframe tbody tr th:only-of-type {\n",
              "        vertical-align: middle;\n",
              "    }\n",
              "\n",
              "    .dataframe tbody tr th {\n",
              "        vertical-align: top;\n",
              "    }\n",
              "\n",
              "    .dataframe thead th {\n",
              "        text-align: right;\n",
              "    }\n",
              "</style>\n",
              "<table border=\"1\" class=\"dataframe\">\n",
              "  <thead>\n",
              "    <tr style=\"text-align: right;\">\n",
              "      <th></th>\n",
              "      <th>row_id</th>\n",
              "      <th>subject_id</th>\n",
              "      <th>hadm_id</th>\n",
              "      <th>icustay_id</th>\n",
              "      <th>itemid</th>\n",
              "      <th>amount</th>\n",
              "      <th>rate</th>\n",
              "      <th>cgid</th>\n",
              "      <th>orderid</th>\n",
              "      <th>linkorderid</th>\n",
              "      <th>patientweight</th>\n",
              "      <th>totalamount</th>\n",
              "      <th>isopenbag</th>\n",
              "      <th>continueinnextdept</th>\n",
              "      <th>cancelreason</th>\n",
              "      <th>originalamount</th>\n",
              "      <th>originalrate</th>\n",
              "    </tr>\n",
              "  </thead>\n",
              "  <tbody>\n",
              "    <tr>\n",
              "      <th>count</th>\n",
              "      <td>1.334000e+03</td>\n",
              "      <td>1334.000000</td>\n",
              "      <td>1334.000000</td>\n",
              "      <td>1333.000000</td>\n",
              "      <td>1334.0</td>\n",
              "      <td>1334.000000</td>\n",
              "      <td>1334.000000</td>\n",
              "      <td>1334.000000</td>\n",
              "      <td>1.334000e+03</td>\n",
              "      <td>1.334000e+03</td>\n",
              "      <td>1334.000000</td>\n",
              "      <td>1334.000000</td>\n",
              "      <td>1334.000000</td>\n",
              "      <td>1334.0</td>\n",
              "      <td>1334.000000</td>\n",
              "      <td>1334.000000</td>\n",
              "      <td>1334.000000</td>\n",
              "    </tr>\n",
              "    <tr>\n",
              "      <th>mean</th>\n",
              "      <td>1.723259e+06</td>\n",
              "      <td>61245.308846</td>\n",
              "      <td>149024.087706</td>\n",
              "      <td>249418.126032</td>\n",
              "      <td>225170.0</td>\n",
              "      <td>246.171973</td>\n",
              "      <td>325.239816</td>\n",
              "      <td>17902.677661</td>\n",
              "      <td>4.940668e+06</td>\n",
              "      <td>4.941656e+06</td>\n",
              "      <td>86.161694</td>\n",
              "      <td>251.479010</td>\n",
              "      <td>0.000750</td>\n",
              "      <td>0.0</td>\n",
              "      <td>0.116942</td>\n",
              "      <td>250.899538</td>\n",
              "      <td>325.085764</td>\n",
              "    </tr>\n",
              "    <tr>\n",
              "      <th>std</th>\n",
              "      <td>1.103053e+06</td>\n",
              "      <td>22845.351072</td>\n",
              "      <td>27850.435266</td>\n",
              "      <td>31289.644167</td>\n",
              "      <td>0.0</td>\n",
              "      <td>81.570682</td>\n",
              "      <td>196.546427</td>\n",
              "      <td>2260.232552</td>\n",
              "      <td>2.878895e+06</td>\n",
              "      <td>2.869574e+06</td>\n",
              "      <td>22.073056</td>\n",
              "      <td>74.877018</td>\n",
              "      <td>0.027379</td>\n",
              "      <td>0.0</td>\n",
              "      <td>0.407872</td>\n",
              "      <td>75.299161</td>\n",
              "      <td>196.324979</td>\n",
              "    </tr>\n",
              "    <tr>\n",
              "      <th>min</th>\n",
              "      <td>2.146900e+04</td>\n",
              "      <td>124.000000</td>\n",
              "      <td>100442.000000</td>\n",
              "      <td>200454.000000</td>\n",
              "      <td>225170.0</td>\n",
              "      <td>-20.099999</td>\n",
              "      <td>2.000000</td>\n",
              "      <td>14023.000000</td>\n",
              "      <td>1.289000e+04</td>\n",
              "      <td>1.289000e+04</td>\n",
              "      <td>1.000000</td>\n",
              "      <td>130.000000</td>\n",
              "      <td>0.000000</td>\n",
              "      <td>0.0</td>\n",
              "      <td>0.000000</td>\n",
              "      <td>70.000000</td>\n",
              "      <td>2.000000</td>\n",
              "    </tr>\n",
              "    <tr>\n",
              "      <th>25%</th>\n",
              "      <td>7.049760e+05</td>\n",
              "      <td>47183.000000</td>\n",
              "      <td>123675.000000</td>\n",
              "      <td>217745.000000</td>\n",
              "      <td>225170.0</td>\n",
              "      <td>198.999996</td>\n",
              "      <td>200.999994</td>\n",
              "      <td>15830.000000</td>\n",
              "      <td>2.539858e+06</td>\n",
              "      <td>2.544540e+06</td>\n",
              "      <td>71.000000</td>\n",
              "      <td>199.000000</td>\n",
              "      <td>0.000000</td>\n",
              "      <td>0.0</td>\n",
              "      <td>0.000000</td>\n",
              "      <td>199.000000</td>\n",
              "      <td>201.000000</td>\n",
              "    </tr>\n",
              "    <tr>\n",
              "      <th>50%</th>\n",
              "      <td>1.646684e+06</td>\n",
              "      <td>60762.000000</td>\n",
              "      <td>143320.000000</td>\n",
              "      <td>246671.000000</td>\n",
              "      <td>225170.0</td>\n",
              "      <td>230.999994</td>\n",
              "      <td>256.000014</td>\n",
              "      <td>17677.000000</td>\n",
              "      <td>4.875910e+06</td>\n",
              "      <td>4.883992e+06</td>\n",
              "      <td>85.700000</td>\n",
              "      <td>233.000000</td>\n",
              "      <td>0.000000</td>\n",
              "      <td>0.0</td>\n",
              "      <td>0.000000</td>\n",
              "      <td>233.000000</td>\n",
              "      <td>256.000000</td>\n",
              "    </tr>\n",
              "    <tr>\n",
              "      <th>75%</th>\n",
              "      <td>2.800743e+06</td>\n",
              "      <td>77893.000000</td>\n",
              "      <td>175201.000000</td>\n",
              "      <td>279535.000000</td>\n",
              "      <td>225170.0</td>\n",
              "      <td>281.000004</td>\n",
              "      <td>386.000004</td>\n",
              "      <td>20013.250000</td>\n",
              "      <td>7.440448e+06</td>\n",
              "      <td>7.434026e+06</td>\n",
              "      <td>97.000000</td>\n",
              "      <td>282.000000</td>\n",
              "      <td>0.000000</td>\n",
              "      <td>0.0</td>\n",
              "      <td>0.000000</td>\n",
              "      <td>282.000000</td>\n",
              "      <td>386.000000</td>\n",
              "    </tr>\n",
              "    <tr>\n",
              "      <th>max</th>\n",
              "      <td>3.605911e+06</td>\n",
              "      <td>99865.000000</td>\n",
              "      <td>199742.000000</td>\n",
              "      <td>299533.000000</td>\n",
              "      <td>225170.0</td>\n",
              "      <td>757.000020</td>\n",
              "      <td>1899.999960</td>\n",
              "      <td>21492.000000</td>\n",
              "      <td>9.992465e+06</td>\n",
              "      <td>9.992465e+06</td>\n",
              "      <td>170.500000</td>\n",
              "      <td>757.000000</td>\n",
              "      <td>1.000000</td>\n",
              "      <td>0.0</td>\n",
              "      <td>2.000000</td>\n",
              "      <td>757.000000</td>\n",
              "      <td>1900.000000</td>\n",
              "    </tr>\n",
              "  </tbody>\n",
              "</table>\n",
              "</div>"
            ]
          },
          "metadata": {
            "tags": []
          },
          "execution_count": 12
        }
      ]
    },
    {
      "cell_type": "markdown",
      "metadata": {
        "colab_type": "text",
        "id": "ZxJa1TA7_97c"
      },
      "source": [
        "> LABEVENTS"
      ]
    },
    {
      "cell_type": "code",
      "metadata": {
        "colab_type": "code",
        "id": "ma9IQiVw__J-",
        "colab": {}
      },
      "source": [
        "query = \"SELECT * FROM mimiciii.labevents WHERE itemid IN \" + str(tuple(d_labitem['itemid'])) + \" AND hadm_id IN \" + str(tuple(admissions['hadm_id'])) + \" ORDER BY hadm_id,charttime,itemid;\"\n",
        "labevents = pd.read_sql_query(sql=query,con=conn)"
      ],
      "execution_count": 0,
      "outputs": []
    },
    {
      "cell_type": "code",
      "metadata": {
        "id": "-dHER9ciIrQ8",
        "colab_type": "code",
        "colab": {}
      },
      "source": [
        "itemids = labevents['itemid'].drop_duplicates()\n",
        "temp = labevents.pivot(index='row_id',columns='itemid',values='valuenum')\n",
        "temp.fillna(value=0,inplace=True)\n",
        "for item in itemids:\n",
        "  arr = np.reshape(np.array(temp[item]),(-1,1))\n",
        "  minMaxScaler[item] = MinMaxScaler().fit(arr)"
      ],
      "execution_count": 0,
      "outputs": []
    },
    {
      "cell_type": "code",
      "metadata": {
        "colab_type": "code",
        "id": "A78-ddKkABJr",
        "colab": {
          "base_uri": "https://localhost:8080/",
          "height": 300
        },
        "outputId": "de840b7a-1139-4683-e324-241cf66a714b"
      },
      "source": [
        "labevents.describe()"
      ],
      "execution_count": 14,
      "outputs": [
        {
          "output_type": "execute_result",
          "data": {
            "text/plain": [
              "             row_id     subject_id        hadm_id         itemid  \\\n",
              "count  4.336430e+05  433643.000000  433643.000000  433643.000000   \n",
              "mean   1.581387e+07   38336.650607  149173.562802   50924.733484   \n",
              "std    8.309446e+06   29619.847083   28457.551458     132.967727   \n",
              "min    1.021200e+04      21.000000  100074.000000   50809.000000   \n",
              "25%    8.455738e+06   13603.000000  125067.000000   50820.000000   \n",
              "50%    1.737978e+07   28067.000000  148392.000000   50912.000000   \n",
              "75%    2.304729e+07   62919.000000  174727.000000   50931.000000   \n",
              "max    2.790723e+07   99991.000000  199943.000000   51486.000000   \n",
              "\n",
              "            valuenum  \n",
              "count  417256.000000  \n",
              "mean       45.416218  \n",
              "std        66.878142  \n",
              "min         0.000000  \n",
              "25%         3.000000  \n",
              "50%         7.470000  \n",
              "75%        84.000000  \n",
              "max      3565.000000  "
            ],
            "text/html": [
              "<div>\n",
              "<style scoped>\n",
              "    .dataframe tbody tr th:only-of-type {\n",
              "        vertical-align: middle;\n",
              "    }\n",
              "\n",
              "    .dataframe tbody tr th {\n",
              "        vertical-align: top;\n",
              "    }\n",
              "\n",
              "    .dataframe thead th {\n",
              "        text-align: right;\n",
              "    }\n",
              "</style>\n",
              "<table border=\"1\" class=\"dataframe\">\n",
              "  <thead>\n",
              "    <tr style=\"text-align: right;\">\n",
              "      <th></th>\n",
              "      <th>row_id</th>\n",
              "      <th>subject_id</th>\n",
              "      <th>hadm_id</th>\n",
              "      <th>itemid</th>\n",
              "      <th>valuenum</th>\n",
              "    </tr>\n",
              "  </thead>\n",
              "  <tbody>\n",
              "    <tr>\n",
              "      <th>count</th>\n",
              "      <td>4.336430e+05</td>\n",
              "      <td>433643.000000</td>\n",
              "      <td>433643.000000</td>\n",
              "      <td>433643.000000</td>\n",
              "      <td>417256.000000</td>\n",
              "    </tr>\n",
              "    <tr>\n",
              "      <th>mean</th>\n",
              "      <td>1.581387e+07</td>\n",
              "      <td>38336.650607</td>\n",
              "      <td>149173.562802</td>\n",
              "      <td>50924.733484</td>\n",
              "      <td>45.416218</td>\n",
              "    </tr>\n",
              "    <tr>\n",
              "      <th>std</th>\n",
              "      <td>8.309446e+06</td>\n",
              "      <td>29619.847083</td>\n",
              "      <td>28457.551458</td>\n",
              "      <td>132.967727</td>\n",
              "      <td>66.878142</td>\n",
              "    </tr>\n",
              "    <tr>\n",
              "      <th>min</th>\n",
              "      <td>1.021200e+04</td>\n",
              "      <td>21.000000</td>\n",
              "      <td>100074.000000</td>\n",
              "      <td>50809.000000</td>\n",
              "      <td>0.000000</td>\n",
              "    </tr>\n",
              "    <tr>\n",
              "      <th>25%</th>\n",
              "      <td>8.455738e+06</td>\n",
              "      <td>13603.000000</td>\n",
              "      <td>125067.000000</td>\n",
              "      <td>50820.000000</td>\n",
              "      <td>3.000000</td>\n",
              "    </tr>\n",
              "    <tr>\n",
              "      <th>50%</th>\n",
              "      <td>1.737978e+07</td>\n",
              "      <td>28067.000000</td>\n",
              "      <td>148392.000000</td>\n",
              "      <td>50912.000000</td>\n",
              "      <td>7.470000</td>\n",
              "    </tr>\n",
              "    <tr>\n",
              "      <th>75%</th>\n",
              "      <td>2.304729e+07</td>\n",
              "      <td>62919.000000</td>\n",
              "      <td>174727.000000</td>\n",
              "      <td>50931.000000</td>\n",
              "      <td>84.000000</td>\n",
              "    </tr>\n",
              "    <tr>\n",
              "      <th>max</th>\n",
              "      <td>2.790723e+07</td>\n",
              "      <td>99991.000000</td>\n",
              "      <td>199943.000000</td>\n",
              "      <td>51486.000000</td>\n",
              "      <td>3565.000000</td>\n",
              "    </tr>\n",
              "  </tbody>\n",
              "</table>\n",
              "</div>"
            ]
          },
          "metadata": {
            "tags": []
          },
          "execution_count": 14
        }
      ]
    },
    {
      "cell_type": "markdown",
      "metadata": {
        "id": "okTsPaFeyMQR",
        "colab_type": "text"
      },
      "source": [
        "# Generate Tensors"
      ]
    },
    {
      "cell_type": "markdown",
      "metadata": {
        "id": "XuCJBz42S2su",
        "colab_type": "text"
      },
      "source": [
        "> CHARTEVENTS"
      ]
    },
    {
      "cell_type": "code",
      "metadata": {
        "id": "zEN990aQ0ALL",
        "colab_type": "code",
        "colab": {}
      },
      "source": [
        "hadm_id = chartevents['hadm_id'].drop_duplicates()"
      ],
      "execution_count": 0,
      "outputs": []
    },
    {
      "cell_type": "code",
      "metadata": {
        "id": "rfwO3qch0jJq",
        "colab_type": "code",
        "colab": {}
      },
      "source": [
        "dataset_ce = list()\n",
        "for hadm in hadm_id:\n",
        "  temp = chartevents[chartevents['hadm_id'] == hadm]\n",
        "  temp = temp.pivot(index='row_id',columns='itemid',values='valuenum')\n",
        "  dataset_ce.append(temp)"
      ],
      "execution_count": 0,
      "outputs": []
    },
    {
      "cell_type": "markdown",
      "metadata": {
        "id": "8K4H-p1R9iUS",
        "colab_type": "text"
      },
      "source": [
        "> INPUTEVENTS_CV"
      ]
    },
    {
      "cell_type": "code",
      "metadata": {
        "id": "uACNh7IU9nrs",
        "colab_type": "code",
        "colab": {}
      },
      "source": [
        "hadm_id = inputevents_cv['hadm_id'].drop_duplicates()"
      ],
      "execution_count": 0,
      "outputs": []
    },
    {
      "cell_type": "code",
      "metadata": {
        "id": "oGDZjWU79tvo",
        "colab_type": "code",
        "colab": {}
      },
      "source": [
        "dataset_cv = list()\n",
        "for hadm in hadm_id:\n",
        "  temp = inputevents_cv[inputevents_cv['hadm_id'] == hadm]\n",
        "  temp = temp.pivot(index='row_id',columns='itemid',values='amount')\n",
        "  dataset_cv.append(temp)"
      ],
      "execution_count": 0,
      "outputs": []
    },
    {
      "cell_type": "markdown",
      "metadata": {
        "colab_type": "text",
        "id": "vaKrYGhi_NFu"
      },
      "source": [
        "> INPUTEVENTS_MV"
      ]
    },
    {
      "cell_type": "code",
      "metadata": {
        "colab_type": "code",
        "id": "yFQPlHfY_RCB",
        "colab": {}
      },
      "source": [
        "hadm_id = inputevents_mv['hadm_id'].drop_duplicates()"
      ],
      "execution_count": 0,
      "outputs": []
    },
    {
      "cell_type": "code",
      "metadata": {
        "colab_type": "code",
        "id": "Yv102fvI_Tf6",
        "colab": {}
      },
      "source": [
        "dataset_mv = list()\n",
        "for hadm in hadm_id:\n",
        "  temp = inputevents_mv[inputevents_mv['hadm_id'] == hadm]\n",
        "  temp = temp.pivot(index='row_id',columns='itemid',values='amount')\n",
        "  dataset_mv.append(temp)"
      ],
      "execution_count": 0,
      "outputs": []
    },
    {
      "cell_type": "markdown",
      "metadata": {
        "colab_type": "text",
        "id": "QGCSttLx_xLE"
      },
      "source": [
        "> LABEVENTS"
      ]
    },
    {
      "cell_type": "code",
      "metadata": {
        "colab_type": "code",
        "id": "Fa5bx7co_zua",
        "colab": {}
      },
      "source": [
        "hadm_id = labevents['hadm_id'].drop_duplicates()"
      ],
      "execution_count": 0,
      "outputs": []
    },
    {
      "cell_type": "code",
      "metadata": {
        "colab_type": "code",
        "id": "Uda02VmX_1Kk",
        "colab": {}
      },
      "source": [
        "dataset_lab = list()\n",
        "for hadm in hadm_id:\n",
        "  temp = labevents[labevents['hadm_id'] == hadm]\n",
        "  temp = temp.pivot(index='row_id',columns='itemid',values='valuenum')\n",
        "  dataset_lab.append(temp)"
      ],
      "execution_count": 0,
      "outputs": []
    }
  ]
}