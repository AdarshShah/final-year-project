{
  "nbformat": 4,
  "nbformat_minor": 0,
  "metadata": {
    "colab": {
      "name": "project-sepsis.ipynb",
      "provenance": [],
      "collapsed_sections": [
        "gu39I2UdoNkN",
        "wAGLSF2-oUwi",
        "CUWre_yIokdB",
        "NHU4YpzUprYB"
      ],
      "authorship_tag": "ABX9TyPSsXXKYUFcmqhgYZfFNq6c",
      "include_colab_link": true
    },
    "kernelspec": {
      "name": "python3",
      "display_name": "Python 3"
    }
  },
  "cells": [
    {
      "cell_type": "markdown",
      "metadata": {
        "id": "view-in-github",
        "colab_type": "text"
      },
      "source": [
        "<a href=\"https://colab.research.google.com/github/AdarshShah/final-year-project/blob/master/project_sepsis.ipynb\" target=\"_parent\"><img src=\"https://colab.research.google.com/assets/colab-badge.svg\" alt=\"Open In Colab\"/></a>"
      ]
    },
    {
      "cell_type": "markdown",
      "metadata": {
        "id": "gu39I2UdoNkN",
        "colab_type": "text"
      },
      "source": [
        "#Import Libraries"
      ]
    },
    {
      "cell_type": "code",
      "metadata": {
        "id": "XpIrVj4Sl-Oe",
        "colab_type": "code",
        "colab": {}
      },
      "source": [
        "import math\n",
        "import pandas as pd\n",
        "import psycopg2\n",
        "import getpass\n",
        "import numpy as np\n",
        "import tensorflow as tf\n",
        "from sklearn.preprocessing import MinMaxScaler, StandardScaler\n",
        "from sklearn.model_selection import train_test_split\n",
        "from keras.models import Model, Sequential\n",
        "from keras.layers import Input, GRU, Dense, LSTM, Flatten, Reshape, Lambda, CuDNNLSTM, Dropout\n",
        "import matplotlib.pyplot as plt"
      ],
      "execution_count": 0,
      "outputs": []
    },
    {
      "cell_type": "markdown",
      "metadata": {
        "id": "wAGLSF2-oUwi",
        "colab_type": "text"
      },
      "source": [
        "# Declare Global Variables"
      ]
    },
    {
      "cell_type": "code",
      "metadata": {
        "id": "gjXc-ajOoG94",
        "colab_type": "code",
        "colab": {}
      },
      "source": [
        "user = 'postgres'\n",
        "host = 'localhost'\n",
        "dbname = 'mimic'\n",
        "schema = 'mimiciii'\n",
        "password = 'postgres'\n",
        "icd9_code = '99592'\n",
        "minMaxScaler = dict()\n",
        "itemMeans = dict()"
      ],
      "execution_count": 0,
      "outputs": []
    },
    {
      "cell_type": "markdown",
      "metadata": {
        "id": "CUWre_yIokdB",
        "colab_type": "text"
      },
      "source": [
        "# Create Database Connection"
      ]
    },
    {
      "cell_type": "code",
      "metadata": {
        "id": "w5aaBL9FonQ2",
        "colab_type": "code",
        "colab": {}
      },
      "source": [
        "conn = psycopg2.connect(user=user,password=password,dbname=dbname,host=host)\n",
        "cur = conn.cursor()\n",
        "cur.execute('SET search_path to {}'.format(schema))"
      ],
      "execution_count": 0,
      "outputs": []
    },
    {
      "cell_type": "markdown",
      "metadata": {
        "id": "NHU4YpzUprYB",
        "colab_type": "text"
      },
      "source": [
        "# Load Patient data\n",
        "\n",
        "\n"
      ]
    },
    {
      "cell_type": "code",
      "metadata": {
        "id": "oq4GQEZVMNkt",
        "colab_type": "code",
        "colab": {}
      },
      "source": [
        "table = dict()\n",
        "\n",
        "sepsis = pd.read_csv('/home/adarsh/Documents/sepsis/sepsis3-df.csv')\n",
        "sepsis.sort_values(by='icustay_id',na_position='first')\n",
        "table['sepsis'] = sepsis\n",
        "\n",
        "def get_pandas(table):\n",
        "  query = \"SELECT * FROM \"+table+\";\"\n",
        "  table = pd.read_sql(query,conn)\n",
        "  table.sort_values(by='icustay_id',na_position='first')\n",
        "  return table\n",
        "\n",
        "tabs = ['uo','vitals','labs','ventsettings','vd','bgart','gcs']\n",
        "\n",
        "for tab in tabs:\n",
        "  table[tab] = get_pandas(tab)"
      ],
      "execution_count": 0,
      "outputs": []
    },
    {
      "cell_type": "code",
      "metadata": {
        "id": "02e5z-goW7ld",
        "colab_type": "code",
        "colab": {}
      },
      "source": [
        "sepsis_dataset = table['sepsis']\n",
        "for tab in tabs:\n",
        "  b = table[tab]\n",
        "  sepsis_dataset = pd.merge(sepsis_dataset,b,left_index=True,right_index=True) #problems with joining"
      ],
      "execution_count": 0,
      "outputs": []
    },
    {
      "cell_type": "code",
      "metadata": {
        "id": "BB7hO3s4hfKd",
        "colab_type": "code",
        "colab": {}
      },
      "source": [
        "columns = ['icustay_id_y', 'hadm_id_y','sepsis_explicit', 'septic_shock_explicit', 'severe_sepsis_explicit',\n",
        "           'urineoutput','heartrate_min', 'heartrate_max','sysbp_min', 'sysbp_max', 'diasbp_min', 'diasbp_max', 'meanbp_min', 'meanbp_max', 'resprate_min',\n",
        "           'resprate_max', 'tempc_min', 'tempc_max', 'spo2_min', 'spo2_max', 'glucose_min_y', 'glucose_max_y','aniongap_min', 'aniongap_max', \n",
        "           'albumin_min', 'albumin_max', 'bands_min', 'bands_max', 'bicarbonate_min', 'bicarbonate_max', 'bilirubin_min', 'bilirubin_max',\n",
        "           'creatinine_min', 'creatinine_max', 'chloride_min', 'chloride_max', 'hematocrit_min', 'hematocrit_max', \n",
        "           'hemoglobin_min', 'hemoglobin_max', 'lactate_min', 'lactate_max', 'platelet_min', 'platelet_max', 'potassium_min', 'potassium_max',\n",
        "           'ptt_min', 'ptt_max', 'inr_min', 'inr_max', 'pt_min', 'pt_max', 'sodium_min', 'sodium_max', 'bun_min', 'bun_max', 'wbc_min', 'wbc_max',\n",
        "           'mechvent', 'extubated', 'selfextubated','ventnum','specimen', 'specimen_pred', 'specimen_prob', 'so2', 'spo2', 'po2', 'pco2',\n",
        "           'fio2_chartevents', 'fio2', 'aado2', 'aado2_calc', 'pao2fio2', 'ph','baseexcess', 'bicarbonate', 'totalco2', 'hematocrit', 'hemoglobin',\n",
        "           'carboxyhemoglobin', 'methemoglobin', 'chloride', 'calcium', 'temperature', 'potassium', 'sodium', 'lactate', 'glucose', 'intubated',\n",
        "           'tidalvolume', 'ventilationrate', 'ventilator', 'peep', 'o2flow', 'requiredo2','mingcs', 'gcsmotor',\n",
        "           'gcsverbal', 'gcseyes', 'endotrachflag']\n",
        "X = sepsis_dataset[columns]           "
      ],
      "execution_count": 0,
      "outputs": []
    },
    {
      "cell_type": "code",
      "metadata": {
        "id": "VlytaSSbkxPb",
        "colab_type": "code",
        "colab": {}
      },
      "source": [
        "X = X.fillna(value=X.mean())"
      ],
      "execution_count": 0,
      "outputs": []
    }
  ]
}