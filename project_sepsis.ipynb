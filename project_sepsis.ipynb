{
  "nbformat": 4,
  "nbformat_minor": 0,
  "metadata": {
    "colab": {
      "name": "project-sepsis.ipynb",
      "provenance": [],
      "collapsed_sections": [
        "gu39I2UdoNkN",
        "wAGLSF2-oUwi",
        "CUWre_yIokdB",
        "NHU4YpzUprYB"
      ],
      "authorship_tag": "ABX9TyNoGtsXkVW8EkrPynRMlKQt",
      "include_colab_link": true
    },
    "kernelspec": {
      "name": "python3",
      "display_name": "Python 3"
    }
  },
  "cells": [
    {
      "cell_type": "markdown",
      "metadata": {
        "id": "view-in-github",
        "colab_type": "text"
      },
      "source": [
        "<a href=\"https://colab.research.google.com/github/AdarshShah/final-year-project/blob/master/project_sepsis.ipynb\" target=\"_parent\"><img src=\"https://colab.research.google.com/assets/colab-badge.svg\" alt=\"Open In Colab\"/></a>"
      ]
    },
    {
      "cell_type": "markdown",
      "metadata": {
        "id": "gu39I2UdoNkN",
        "colab_type": "text"
      },
      "source": [
        "#Import Libraries"
      ]
    },
    {
      "cell_type": "code",
      "metadata": {
        "id": "XpIrVj4Sl-Oe",
        "colab_type": "code",
        "colab": {}
      },
      "source": [
        "import pandas as pd\n",
        "import psycopg2\n",
        "import getpass\n",
        "import numpy as np\n",
        "import tensorflow as tf"
      ],
      "execution_count": 0,
      "outputs": []
    },
    {
      "cell_type": "markdown",
      "metadata": {
        "id": "wAGLSF2-oUwi",
        "colab_type": "text"
      },
      "source": [
        "# Declare Global Variables"
      ]
    },
    {
      "cell_type": "code",
      "metadata": {
        "id": "gjXc-ajOoG94",
        "colab_type": "code",
        "colab": {}
      },
      "source": [
        "user = 'postgres'\n",
        "host = 'localhost'\n",
        "dbname = 'mimic'\n",
        "schema = 'mimiciii'\n",
        "password = 'postgres'\n",
        "icd9_code = '99592'"
      ],
      "execution_count": 0,
      "outputs": []
    },
    {
      "cell_type": "markdown",
      "metadata": {
        "id": "CUWre_yIokdB",
        "colab_type": "text"
      },
      "source": [
        "# Create Database Connection"
      ]
    },
    {
      "cell_type": "code",
      "metadata": {
        "id": "w5aaBL9FonQ2",
        "colab_type": "code",
        "colab": {}
      },
      "source": [
        "conn = psycopg2.connect(user=user,password=password,dbname=dbname,host=host)\n",
        "cur = conn.cursor()\n",
        "cur.execute('SET search_path to {}'.format(schema))"
      ],
      "execution_count": 0,
      "outputs": []
    },
    {
      "cell_type": "markdown",
      "metadata": {
        "id": "NHU4YpzUprYB",
        "colab_type": "text"
      },
      "source": [
        "# Load Patient data\n",
        "> Data from admissions suffering from severe sepsis\n",
        "\n"
      ]
    },
    {
      "cell_type": "code",
      "metadata": {
        "id": "njVeYBdYqF-2",
        "colab_type": "code",
        "colab": {}
      },
      "source": [
        "query = \"\"\"SELECT DISTINCT * FROM mimiciii.admissions i \n",
        "INNER JOIN mimiciii.diagnoses_icd USING(hadm_id)\n",
        "INNER JOIN mimiciii.d_icd_diagnoses USING(icd9_code)\n",
        "WHERE icd9_code LIKE '99592';\n",
        "\"\"\"\n",
        "admissions = pd.read_sql_query(sql=query,con=conn)"
      ],
      "execution_count": 0,
      "outputs": []
    },
    {
      "cell_type": "markdown",
      "metadata": {
        "id": "i3hmvxHirSZT",
        "colab_type": "text"
      },
      "source": [
        "> List Items from d_labitems and d_items"
      ]
    },
    {
      "cell_type": "code",
      "metadata": {
        "id": "3xgyzNs_srqt",
        "colab_type": "code",
        "colab": {}
      },
      "source": [
        "#d_items = ['Platelets','C Reactive Protein (CRP)','pH (Art)','HCO3','TCO2 (cap)']\n",
        "#d_labitems = ['Leukocytes','Urea Nitrogen','Creatinine','Glucose','Calcium, Total','Sodium','Potassium','Bilirubin','Albumin','Lactate','pCO2','pO2','Hemoglobin']\n",
        "\n",
        "#Append itemid below !!!!\n",
        "d_item_ce = ['0','828','3789','6256','791','3750','1525','220615','811','3744','3745','1529','226537','837','3803','1536','4948','3066','227444']  \n",
        "d_item_cv = ['0','30006','44711','44441']\n",
        "d_item_mv = ['0','225170']\n",
        "d_labitem = ['51486','51006','50912','50809','50931','51478','50813','50820']"
      ],
      "execution_count": 0,
      "outputs": []
    },
    {
      "cell_type": "code",
      "metadata": {
        "id": "p5oYE3jm3Mui",
        "colab_type": "code",
        "colab": {}
      },
      "source": [
        "def get_pandas(items, table):\n",
        "  query = \"SELECT DISTINCT * FROM mimiciii.\"+table+\" WHERE itemid IN \" + str(tuple(items))\n",
        "  items = pd.read_sql_query(sql=query,con=conn)\n",
        "  return items\n",
        "\n",
        "d_item_ce = get_pandas(d_item_ce,\"d_items\")\n",
        "d_item_cv = get_pandas(d_item_cv,\"d_items\")\n",
        "d_item_mv = get_pandas(d_item_mv,\"d_items\")\n",
        "d_labitem = get_pandas(d_labitem,\"d_labitems\")"
      ],
      "execution_count": 0,
      "outputs": []
    },
    {
      "cell_type": "markdown",
      "metadata": {
        "id": "TsSknm5NsfjN",
        "colab_type": "text"
      },
      "source": [
        "# Fetch items from chartevents"
      ]
    },
    {
      "cell_type": "code",
      "metadata": {
        "id": "d4SbcVt5sn2n",
        "colab_type": "code",
        "colab": {}
      },
      "source": [
        "query = \"SELECT * FROM mimiciii.chartevents WHERE itemid IN \" + str(tuple(d_item_ce['itemid'])) + \" AND hadm_id IN \" + str(tuple(admissions['hadm_id'])) + \" ORDER BY hadm_id,charttime,itemid;\"\n",
        "chartevents = pd.read_sql_query(sql=query,con=conn)\n"
      ],
      "execution_count": 0,
      "outputs": []
    },
    {
      "cell_type": "code",
      "metadata": {
        "id": "lkgo_mbUuQf1",
        "colab_type": "code",
        "colab": {}
      },
      "source": [
        "chartevents.describe()"
      ],
      "execution_count": 0,
      "outputs": []
    },
    {
      "cell_type": "markdown",
      "metadata": {
        "id": "RGhHs9SotxRX",
        "colab_type": "text"
      },
      "source": [
        "# Fetch items from inputevents_cv\n",
        "\n"
      ]
    },
    {
      "cell_type": "code",
      "metadata": {
        "id": "YkFmcdert41J",
        "colab_type": "code",
        "colab": {}
      },
      "source": [
        "query = \"SELECT * FROM mimiciii.inputevents_cv WHERE itemid IN \" + str(tuple(d_item_cv['itemid'])) + \" AND hadm_id IN \" + str(tuple(admissions['hadm_id'])) + \" ORDER BY hadm_id,charttime,itemid;\"\n",
        "inputevents_cv = pd.read_sql_query(sql=query,con=conn)"
      ],
      "execution_count": 0,
      "outputs": []
    },
    {
      "cell_type": "code",
      "metadata": {
        "id": "g1e98tfwuS8J",
        "colab_type": "code",
        "colab": {}
      },
      "source": [
        "inputevents_cv.describe()"
      ],
      "execution_count": 0,
      "outputs": []
    },
    {
      "cell_type": "markdown",
      "metadata": {
        "id": "-Qih88Q4uhAL",
        "colab_type": "text"
      },
      "source": [
        "# Fetch items from inputevents_mv"
      ]
    },
    {
      "cell_type": "code",
      "metadata": {
        "id": "r5i2In-yunoA",
        "colab_type": "code",
        "colab": {}
      },
      "source": [
        "query = \"SELECT * FROM mimiciii.inputevents_mv WHERE itemid IN ('225170') AND hadm_id IN \" + str(tuple(admissions['hadm_id'])) + \" ORDER BY hadm_id,starttime,itemid;\"\n",
        "inputevents_mv = pd.read_sql_query(sql=query,con=conn)"
      ],
      "execution_count": 0,
      "outputs": []
    },
    {
      "cell_type": "code",
      "metadata": {
        "id": "ShwrDXulutPc",
        "colab_type": "code",
        "colab": {}
      },
      "source": [
        "inputevents_mv.describe()"
      ],
      "execution_count": 0,
      "outputs": []
    },
    {
      "cell_type": "markdown",
      "metadata": {
        "colab_type": "text",
        "id": "ZxJa1TA7_97c"
      },
      "source": [
        "# Fetch items from labevents"
      ]
    },
    {
      "cell_type": "code",
      "metadata": {
        "colab_type": "code",
        "id": "ma9IQiVw__J-",
        "colab": {}
      },
      "source": [
        "query = \"SELECT * FROM mimiciii.labevents WHERE itemid IN \" + str(tuple(d_labitem['itemid'])) + \" AND hadm_id IN \" + str(tuple(admissions['hadm_id'])) + \" ORDER BY hadm_id,charttime,itemid;\"\n",
        "labevents = pd.read_sql_query(sql=query,con=conn)"
      ],
      "execution_count": 0,
      "outputs": []
    },
    {
      "cell_type": "code",
      "metadata": {
        "colab_type": "code",
        "id": "A78-ddKkABJr",
        "colab": {}
      },
      "source": [
        "labevents.describe()"
      ],
      "execution_count": 0,
      "outputs": []
    },
    {
      "cell_type": "markdown",
      "metadata": {
        "id": "okTsPaFeyMQR",
        "colab_type": "text"
      },
      "source": [
        "# Generate Tensors of chartevents"
      ]
    },
    {
      "cell_type": "code",
      "metadata": {
        "id": "zEN990aQ0ALL",
        "colab_type": "code",
        "colab": {}
      },
      "source": [
        "hadm_id = chartevents['hadm_id'].drop_duplicates()"
      ],
      "execution_count": 0,
      "outputs": []
    },
    {
      "cell_type": "code",
      "metadata": {
        "id": "rfwO3qch0jJq",
        "colab_type": "code",
        "colab": {}
      },
      "source": [
        "dataset_ce = list()\n",
        "for hadm in hadm_id:\n",
        "  temp = chartevents[chartevents['hadm_id'] == hadm]\n",
        "  temp = temp.pivot(index='row_id',columns='itemid',values='valuenum')\n",
        "  dataset_ce.append(temp)"
      ],
      "execution_count": 0,
      "outputs": []
    },
    {
      "cell_type": "markdown",
      "metadata": {
        "id": "8K4H-p1R9iUS",
        "colab_type": "text"
      },
      "source": [
        "# Generate Tensors of inputevents_cv"
      ]
    },
    {
      "cell_type": "code",
      "metadata": {
        "id": "uACNh7IU9nrs",
        "colab_type": "code",
        "colab": {}
      },
      "source": [
        "hadm_id = inputevents_cv['hadm_id'].drop_duplicates()"
      ],
      "execution_count": 0,
      "outputs": []
    },
    {
      "cell_type": "code",
      "metadata": {
        "id": "oGDZjWU79tvo",
        "colab_type": "code",
        "colab": {}
      },
      "source": [
        "dataset_cv = list()\n",
        "for hadm in hadm_id:\n",
        "  temp = inputevents_cv[inputevents_cv['hadm_id'] == hadm]\n",
        "  temp = temp.pivot(index='row_id',columns='itemid',values='amount')\n",
        "  dataset_cv.append(temp)"
      ],
      "execution_count": 0,
      "outputs": []
    },
    {
      "cell_type": "markdown",
      "metadata": {
        "colab_type": "text",
        "id": "vaKrYGhi_NFu"
      },
      "source": [
        "# Generate Tensors of inputevents_mv"
      ]
    },
    {
      "cell_type": "code",
      "metadata": {
        "colab_type": "code",
        "id": "yFQPlHfY_RCB",
        "colab": {}
      },
      "source": [
        "hadm_id = inputevents_mv['hadm_id'].drop_duplicates()"
      ],
      "execution_count": 0,
      "outputs": []
    },
    {
      "cell_type": "code",
      "metadata": {
        "colab_type": "code",
        "id": "Yv102fvI_Tf6",
        "colab": {}
      },
      "source": [
        "dataset_mv = list()\n",
        "for hadm in hadm_id:\n",
        "  temp = inputevents_mv[inputevents_mv['hadm_id'] == hadm]\n",
        "  temp = temp.pivot(index='row_id',columns='itemid',values='amount')\n",
        "  dataset_mv.append(temp)"
      ],
      "execution_count": 0,
      "outputs": []
    },
    {
      "cell_type": "markdown",
      "metadata": {
        "colab_type": "text",
        "id": "QGCSttLx_xLE"
      },
      "source": [
        "# Generate Tensors of labevents"
      ]
    },
    {
      "cell_type": "code",
      "metadata": {
        "colab_type": "code",
        "id": "Fa5bx7co_zua",
        "colab": {}
      },
      "source": [
        "hadm_id = labevents['hadm_id'].drop_duplicates()"
      ],
      "execution_count": 0,
      "outputs": []
    },
    {
      "cell_type": "code",
      "metadata": {
        "colab_type": "code",
        "id": "Uda02VmX_1Kk",
        "colab": {}
      },
      "source": [
        "dataset_lab = list()\n",
        "for hadm in hadm_id:\n",
        "  temp = labevents[labevents['hadm_id'] == hadm]\n",
        "  temp = temp.pivot(index='row_id',columns='itemid',values='valuenum')\n",
        "  dataset_lab.append(temp)"
      ],
      "execution_count": 0,
      "outputs": []
    }
  ]
}