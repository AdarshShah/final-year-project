{
  "nbformat": 4,
  "nbformat_minor": 0,
  "metadata": {
    "colab": {
      "name": "project-sepsis.ipynb",
      "provenance": [],
      "collapsed_sections": [],
      "authorship_tag": "ABX9TyPhcYkcGzqfUiqbApBwsD3j",
      "include_colab_link": true
    },
    "kernelspec": {
      "name": "python3",
      "display_name": "Python 3"
    }
  },
  "cells": [
    {
      "cell_type": "markdown",
      "metadata": {
        "id": "view-in-github",
        "colab_type": "text"
      },
      "source": [
        "<a href=\"https://colab.research.google.com/github/AdarshShah/final-year-project/blob/master/project_sepsis.ipynb\" target=\"_parent\"><img src=\"https://colab.research.google.com/assets/colab-badge.svg\" alt=\"Open In Colab\"/></a>"
      ]
    },
    {
      "cell_type": "markdown",
      "metadata": {
        "id": "gu39I2UdoNkN",
        "colab_type": "text"
      },
      "source": [
        "Import Libraries"
      ]
    },
    {
      "cell_type": "code",
      "metadata": {
        "id": "XpIrVj4Sl-Oe",
        "colab_type": "code",
        "colab": {}
      },
      "source": [
        "import pandas as pd\n",
        "import psycopg2\n",
        "import getpass"
      ],
      "execution_count": 0,
      "outputs": []
    },
    {
      "cell_type": "markdown",
      "metadata": {
        "id": "wAGLSF2-oUwi",
        "colab_type": "text"
      },
      "source": [
        "Declare Global Variables"
      ]
    },
    {
      "cell_type": "code",
      "metadata": {
        "id": "gjXc-ajOoG94",
        "colab_type": "code",
        "colab": {}
      },
      "source": [
        "user = 'postgres'\n",
        "host = 'localhost'\n",
        "dbname = 'mimic'\n",
        "schema = 'mimiciii'\n",
        "password = 'postgres'\n",
        "icd9_code = '99592'"
      ],
      "execution_count": 0,
      "outputs": []
    },
    {
      "cell_type": "markdown",
      "metadata": {
        "id": "CUWre_yIokdB",
        "colab_type": "text"
      },
      "source": [
        "Create Database Connection"
      ]
    },
    {
      "cell_type": "code",
      "metadata": {
        "id": "w5aaBL9FonQ2",
        "colab_type": "code",
        "colab": {}
      },
      "source": [
        "conn = psycopg2.connect(user=user,password=password,dbname=dbname,host=host)\n",
        "cur = conn.cursor()\n",
        "cur.execute('SET search_path to {}'.format(schema))"
      ],
      "execution_count": 0,
      "outputs": []
    },
    {
      "cell_type": "markdown",
      "metadata": {
        "id": "NHU4YpzUprYB",
        "colab_type": "text"
      },
      "source": [
        "Load Hadm_id of Patients suffering from severe sepsis"
      ]
    },
    {
      "cell_type": "code",
      "metadata": {
        "id": "njVeYBdYqF-2",
        "colab_type": "code",
        "colab": {}
      },
      "source": [
        "query = \"\"\"SELECT DISTINCT * FROM mimiciii.admissions i \n",
        "INNER JOIN mimiciii.diagnoses_icd USING(hadm_id)\n",
        "INNER JOIN mimiciii.d_icd_diagnoses USING(icd9_code)\n",
        "WHERE icd9_code LIKE '99592';\n",
        "\"\"\"\n",
        "admissions = pd.read_sql_query(sql=query,con=conn)"
      ],
      "execution_count": 0,
      "outputs": []
    },
    {
      "cell_type": "markdown",
      "metadata": {
        "id": "i3hmvxHirSZT",
        "colab_type": "text"
      },
      "source": [
        "List Items for Consideration"
      ]
    },
    {
      "cell_type": "code",
      "metadata": {
        "id": "3xgyzNs_srqt",
        "colab_type": "code",
        "colab": {}
      },
      "source": [
        "#d_items = ['Platelets','C Reactive Protein (CRP)','pH (Art)','HCO3','TCO2 (cap)']\n",
        "#d_labitems = ['Leukocytes','Urea Nitrogen','Creatinine','Glucose','Calcium, Total','Sodium','Potassium','Bilirubin','Albumin','Lactate','pCO2','pO2','Hemoglobin']\n",
        "\n",
        "#Append itemid below !!!!\n",
        "d_item_ce = ['0','828','3789','6256','791','3750','1525','220615','811','3744','3745','1529','226537','837','3803','1536']  \n",
        "d_item_cv = ['0','30006']\n",
        "d_item_mv = ['0','225170']\n",
        "d_labitem = ['51486','51006','50912','50809','50931','51478']"
      ],
      "execution_count": 0,
      "outputs": []
    },
    {
      "cell_type": "code",
      "metadata": {
        "id": "p5oYE3jm3Mui",
        "colab_type": "code",
        "colab": {}
      },
      "source": [
        "def get_pandas(items, table):\n",
        "  query = \"SELECT DISTINCT * FROM mimiciii.\"+table+\" WHERE itemid IN \" + str(tuple(items))\n",
        "  items = pd.read_sql_query(sql=query,con=conn)\n",
        "  return items\n",
        "\n",
        "d_item_ce = get_pandas(d_item_ce,\"d_items\")\n",
        "d_item_cv = get_pandas(d_item_cv,\"d_items\")\n",
        "d_item_mv = get_pandas(d_item_mv,\"d_items\")\n",
        "d_labitem = get_pandas(d_labitem,\"d_labitems\")"
      ],
      "execution_count": 0,
      "outputs": []
    }
  ]
}