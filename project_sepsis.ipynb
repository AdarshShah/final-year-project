{
  "nbformat": 4,
  "nbformat_minor": 0,
  "metadata": {
    "colab": {
      "name": "project-sepsis.ipynb",
      "provenance": [],
      "collapsed_sections": [
        "gu39I2UdoNkN",
        "wAGLSF2-oUwi",
        "CUWre_yIokdB",
        "NHU4YpzUprYB"
      ],
      "authorship_tag": "ABX9TyPSIK56UewmkCDv3w6cDt+B",
      "include_colab_link": true
    },
    "kernelspec": {
      "name": "python3",
      "display_name": "Python 3"
    }
  },
  "cells": [
    {
      "cell_type": "markdown",
      "metadata": {
        "id": "view-in-github",
        "colab_type": "text"
      },
      "source": [
        "<a href=\"https://colab.research.google.com/github/AdarshShah/final-year-project/blob/master/project_sepsis.ipynb\" target=\"_parent\"><img src=\"https://colab.research.google.com/assets/colab-badge.svg\" alt=\"Open In Colab\"/></a>"
      ]
    },
    {
      "cell_type": "markdown",
      "metadata": {
        "id": "gu39I2UdoNkN",
        "colab_type": "text"
      },
      "source": [
        "#Import Libraries"
      ]
    },
    {
      "cell_type": "code",
      "metadata": {
        "id": "XpIrVj4Sl-Oe",
        "colab_type": "code",
        "colab": {}
      },
      "source": [
        "import math\n",
        "import pandas as pd\n",
        "import psycopg2\n",
        "import getpass\n",
        "import numpy as np\n",
        "import tensorflow as tf\n",
        "from sklearn.preprocessing import MinMaxScaler, StandardScaler\n",
        "from sklearn.model_selection import train_test_split\n",
        "from keras.models import Model, Sequential\n",
        "from keras.layers import Input, GRU, Dense, LSTM, Flatten, Reshape, Lambda, CuDNNLSTM, Dropout\n",
        "import matplotlib.pyplot as plt"
      ],
      "execution_count": 0,
      "outputs": []
    },
    {
      "cell_type": "markdown",
      "metadata": {
        "id": "wAGLSF2-oUwi",
        "colab_type": "text"
      },
      "source": [
        "# Declare Global Variables"
      ]
    },
    {
      "cell_type": "code",
      "metadata": {
        "id": "gjXc-ajOoG94",
        "colab_type": "code",
        "colab": {}
      },
      "source": [
        "user = 'postgres'\n",
        "host = 'localhost'\n",
        "dbname = 'mimic'\n",
        "schema = 'mimiciii'\n",
        "password = 'postgres'\n",
        "\n",
        "table = dict()\n",
        "standardScaler = StandardScaler()\n",
        "minMaxScaler = MinMaxScaler()\n",
        "\n",
        "tabs = ['uo','vitals','labs','ventsettings','vd','bgart','gcs']\n",
        "\n",
        "columns = ['icustay_id', 'hadm_id','sepsis_explicit', 'septic_shock_explicit', 'severe_sepsis_explicit',\n",
        "           'urineoutput','heartrate_min', 'heartrate_max','sysbp_min', 'sysbp_max', 'diasbp_min', 'diasbp_max', 'meanbp_min', 'meanbp_max', 'resprate_min',\n",
        "           'resprate_max', 'tempc_min', 'tempc_max', 'spo2_min', 'spo2_max', 'glucose_min', 'glucose_max','aniongap_min', 'aniongap_max', \n",
        "           'albumin_min', 'albumin_max', 'bands_min', 'bands_max', 'bicarbonate_min', 'bicarbonate_max', 'bilirubin_min', 'bilirubin_max',\n",
        "           'creatinine_min', 'creatinine_max', 'chloride_min', 'chloride_max', 'hematocrit_min', 'hematocrit_max', \n",
        "           'hemoglobin_min', 'hemoglobin_max', 'lactate_min', 'lactate_max', 'platelet_min', 'platelet_max', 'potassium_min', 'potassium_max',\n",
        "           'ptt_min', 'ptt_max', 'inr_min', 'inr_max', 'pt_min', 'pt_max', 'sodium_min', 'sodium_max', 'bun_min', 'bun_max', 'wbc_min', 'wbc_max',\n",
        "           'mechvent', 'extubated', 'selfextubated','ventnum','specimen_prob', 'so2', 'spo2', 'po2', 'pco2',\n",
        "           'fio2_chartevents', 'fio2', 'aado2', 'aado2_calc', 'pao2fio2', 'ph','baseexcess', 'bicarbonate', 'totalco2', 'hematocrit', 'hemoglobin',\n",
        "           'carboxyhemoglobin', 'methemoglobin', 'chloride', 'calcium', 'temperature', 'potassium', 'sodium', 'lactate', 'glucose', 'intubated',\n",
        "           'tidalvolume', 'ventilationrate', 'ventilator', 'peep', 'o2flow', 'requiredo2','mingcs', 'gcsmotor',\n",
        "           'gcsverbal', 'gcseyes', 'endotrachflag','specimen', 'specimen_pred']"
      ],
      "execution_count": 0,
      "outputs": []
    },
    {
      "cell_type": "markdown",
      "metadata": {
        "id": "CUWre_yIokdB",
        "colab_type": "text"
      },
      "source": [
        "# Create Database Connection"
      ]
    },
    {
      "cell_type": "code",
      "metadata": {
        "id": "w5aaBL9FonQ2",
        "colab_type": "code",
        "colab": {}
      },
      "source": [
        "conn = psycopg2.connect(user=user,password=password,dbname=dbname,host=host)\n",
        "cur = conn.cursor()\n",
        "cur.execute('SET search_path to {}'.format(schema))"
      ],
      "execution_count": 0,
      "outputs": []
    },
    {
      "cell_type": "markdown",
      "metadata": {
        "id": "NHU4YpzUprYB",
        "colab_type": "text"
      },
      "source": [
        "# Load Patient data\n",
        "\n",
        "\n"
      ]
    },
    {
      "cell_type": "code",
      "metadata": {
        "id": "oq4GQEZVMNkt",
        "colab_type": "code",
        "colab": {}
      },
      "source": [
        "sepsis = pd.read_csv('/home/adarsh/Documents/sepsis/sepsis3-df.csv')\n",
        "table['sepsis'] = sepsis\n",
        "\n",
        "def get_pandas(table):\n",
        "  query = \"SELECT * FROM \"+table+\";\"\n",
        "  table = pd.read_sql(query,conn)\n",
        "  return table\n",
        "\n",
        "for tab in tabs:\n",
        "  table[tab] = get_pandas(tab)"
      ],
      "execution_count": 0,
      "outputs": []
    },
    {
      "cell_type": "code",
      "metadata": {
        "id": "02e5z-goW7ld",
        "colab_type": "code",
        "colab": {}
      },
      "source": [
        "sepsis_dataset = table['sepsis']\n",
        "\n",
        "for tab in tabs:\n",
        "  print(\"\\n%s:\"%tab)\n",
        "  f_key = []\n",
        "  for i in sepsis_dataset.columns:\n",
        "    if i in table[tab].columns:\n",
        "      print(i,end=' ')\n",
        "      f_key.append(i)\n",
        "  b = table[tab]\n",
        "  sepsis_dataset = pd.merge(sepsis_dataset,b,on=f_key,how='left')\n",
        "  sepsis_dataset = sepsis_dataset.drop_duplicates() "
      ],
      "execution_count": 0,
      "outputs": []
    },
    {
      "cell_type": "code",
      "metadata": {
        "id": "BB7hO3s4hfKd",
        "colab_type": "code",
        "colab": {}
      },
      "source": [
        "X = sepsis_dataset[columns]    "
      ],
      "execution_count": 0,
      "outputs": []
    },
    {
      "cell_type": "markdown",
      "metadata": {
        "id": "9SbCJpYp9tMD",
        "colab_type": "text"
      },
      "source": [
        "# Data Preprocessing"
      ]
    },
    {
      "cell_type": "code",
      "metadata": {
        "id": "fpbpKsky9ySm",
        "colab_type": "code",
        "colab": {}
      },
      "source": [
        "X = X.drop_duplicates()\n",
        "X = X.fillna(value=X.mean())    \n",
        "X = X.fillna(value=0) "
      ],
      "execution_count": 0,
      "outputs": []
    },
    {
      "cell_type": "code",
      "metadata": {
        "id": "hyMadcx49zFw",
        "colab_type": "code",
        "colab": {}
      },
      "source": [
        "x = X.iloc[:,5:-2]\n",
        "\n",
        "standardScaler = standardScaler.fit(x.values)\n",
        "x = standardScaler.transform(x)\n",
        "\n",
        "minMaxScaler = minMaxScaler.fit(x)\n",
        "x = minMaxScaler.transform(x)\n",
        "\n",
        "X.iloc[:,5:-2] = pd.DataFrame(x,columns=columns[5:-2])"
      ],
      "execution_count": 0,
      "outputs": []
    },
    {
      "cell_type": "code",
      "metadata": {
        "id": "u3elld71FPaf",
        "colab_type": "code",
        "colab": {}
      },
      "source": [
        "x_train, x_test = train_test_split(X, test_size=0.2)\n",
        "\n",
        "y_train = x_train.iloc[:,2:5]\n",
        "x_train = x_train.iloc[:,5:]\n",
        "\n",
        "y_test = x_test.iloc[:,2:5]\n",
        "x_test = x_test.iloc[:,5:]"
      ],
      "execution_count": 0,
      "outputs": []
    }
  ]
}