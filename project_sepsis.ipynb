{
  "nbformat": 4,
  "nbformat_minor": 0,
  "metadata": {
    "colab": {
      "name": "project-sepsis.ipynb",
      "provenance": [],
      "collapsed_sections": [
        "gu39I2UdoNkN",
        "wAGLSF2-oUwi",
        "CUWre_yIokdB",
        "NHU4YpzUprYB"
      ],
      "authorship_tag": "ABX9TyNQNKnoTBEg4WBsI8vw7jPf",
      "include_colab_link": true
    },
    "kernelspec": {
      "name": "python3",
      "display_name": "Python 3"
    }
  },
  "cells": [
    {
      "cell_type": "markdown",
      "metadata": {
        "id": "view-in-github",
        "colab_type": "text"
      },
      "source": [
        "<a href=\"https://colab.research.google.com/github/AdarshShah/final-year-project/blob/master/project_sepsis.ipynb\" target=\"_parent\"><img src=\"https://colab.research.google.com/assets/colab-badge.svg\" alt=\"Open In Colab\"/></a>"
      ]
    },
    {
      "cell_type": "markdown",
      "metadata": {
        "id": "gu39I2UdoNkN",
        "colab_type": "text"
      },
      "source": [
        "#Import Libraries"
      ]
    },
    {
      "cell_type": "code",
      "metadata": {
        "id": "XpIrVj4Sl-Oe",
        "colab_type": "code",
        "colab": {}
      },
      "source": [
        "import math\n",
        "import pandas as pd\n",
        "import psycopg2\n",
        "import getpass\n",
        "import numpy as np\n",
        "import tensorflow as tf\n",
        "from sklearn.preprocessing import MinMaxScaler, StandardScaler\n",
        "from sklearn.model_selection import train_test_split\n",
        "from keras.models import Model, Sequential\n",
        "from keras.layers import Input, GRU, Dense, LSTM, Flatten, Reshape, Lambda, CuDNNLSTM, Dropout\n",
        "import matplotlib.pyplot as plt"
      ],
      "execution_count": 0,
      "outputs": []
    },
    {
      "cell_type": "markdown",
      "metadata": {
        "id": "wAGLSF2-oUwi",
        "colab_type": "text"
      },
      "source": [
        "# Declare Global Variables"
      ]
    },
    {
      "cell_type": "code",
      "metadata": {
        "id": "gjXc-ajOoG94",
        "colab_type": "code",
        "colab": {}
      },
      "source": [
        "user = 'postgres'\n",
        "host = 'localhost'\n",
        "dbname = 'mimic'\n",
        "schema = 'mimiciii'\n",
        "password = 'postgres'\n",
        "icd9_code = '99592'\n",
        "minMaxScaler = dict()\n",
        "itemMeans = dict()"
      ],
      "execution_count": 0,
      "outputs": []
    },
    {
      "cell_type": "markdown",
      "metadata": {
        "id": "CUWre_yIokdB",
        "colab_type": "text"
      },
      "source": [
        "# Create Database Connection"
      ]
    },
    {
      "cell_type": "code",
      "metadata": {
        "id": "w5aaBL9FonQ2",
        "colab_type": "code",
        "colab": {}
      },
      "source": [
        "conn = psycopg2.connect(user=user,password=password,dbname=dbname,host=host)\n",
        "cur = conn.cursor()\n",
        "cur.execute('SET search_path to {}'.format(schema))"
      ],
      "execution_count": 0,
      "outputs": []
    },
    {
      "cell_type": "markdown",
      "metadata": {
        "id": "NHU4YpzUprYB",
        "colab_type": "text"
      },
      "source": [
        "# Load Patient data\n",
        "\n",
        "\n"
      ]
    },
    {
      "cell_type": "markdown",
      "metadata": {
        "id": "URlfutSVJECz",
        "colab_type": "text"
      },
      "source": [
        "> Data from admissions suffering from severe sepsis"
      ]
    },
    {
      "cell_type": "code",
      "metadata": {
        "id": "njVeYBdYqF-2",
        "colab_type": "code",
        "colab": {}
      },
      "source": [
        "query = \"\"\"SELECT DISTINCT * FROM mimiciii.admissions i \n",
        "INNER JOIN mimiciii.diagnoses_icd USING(hadm_id)\n",
        "INNER JOIN mimiciii.d_icd_diagnoses USING(icd9_code)\n",
        "WHERE icd9_code LIKE '99592';\n",
        "\"\"\"\n",
        "admissions = pd.read_sql_query(sql=query,con=conn)\n",
        "admissions['sepsis'] = 1\n",
        "\n",
        "query = \"\"\"SELECT DISTINCT * FROM mimiciii.admissions i \n",
        "INNER JOIN mimiciii.diagnoses_icd USING(hadm_id)\n",
        "INNER JOIN mimiciii.d_icd_diagnoses USING(icd9_code)\n",
        "WHERE icd9_code NOT LIKE '99592' LIMIT 4000;\n",
        "\"\"\"\n",
        "temp = pd.read_sql_query(sql=query,con=conn)\n",
        "temp['sepsis'] = 0\n",
        "\n",
        "admissions = admissions.append(temp)\n",
        "\n"
      ],
      "execution_count": 0,
      "outputs": []
    },
    {
      "cell_type": "markdown",
      "metadata": {
        "id": "i3hmvxHirSZT",
        "colab_type": "text"
      },
      "source": [
        "> List Items from d_labitems and d_items"
      ]
    },
    {
      "cell_type": "code",
      "metadata": {
        "id": "3xgyzNs_srqt",
        "colab_type": "code",
        "colab": {}
      },
      "source": [
        "#d_items = ['Platelets','C Reactive Protein (CRP)','pH (Art)','HCO3','TCO2 (cap)']\n",
        "#d_labitems = ['Leukocytes','Urea Nitrogen','Creatinine','Glucose','Calcium, Total','Sodium','Potassium','Bilirubin','Albumin','Lactate','pCO2','pO2','Hemoglobin']\n",
        "\n",
        "#Append itemid below !!!!\n",
        "d_item_ce = ['0','828','3789','6256','791','3750','1525','220615','811','3744','3745','1529','226537','837','3803','1536','4948','3066','227444','3835','3837','812','3736']  \n",
        "d_item_cv = ['0','30006','44711','44441']\n",
        "d_item_mv = ['0','225170']\n",
        "d_labitem = ['51006','50912','50809','50931','51478','50813','50820']"
      ],
      "execution_count": 0,
      "outputs": []
    },
    {
      "cell_type": "code",
      "metadata": {
        "id": "p5oYE3jm3Mui",
        "colab_type": "code",
        "colab": {}
      },
      "source": [
        "def get_pandas(items, table):\n",
        "  query = \"SELECT DISTINCT * FROM mimiciii.\"+table+\" WHERE itemid IN \" + str(tuple(items))\n",
        "  items = pd.read_sql_query(sql=query,con=conn)\n",
        "  return items\n",
        "\n",
        "d_item_ce = get_pandas(d_item_ce,\"d_items\")\n",
        "d_item_cv = get_pandas(d_item_cv,\"d_items\")\n",
        "d_item_mv = get_pandas(d_item_mv,\"d_items\")\n",
        "d_labitem = get_pandas(d_labitem,\"d_labitems\")"
      ],
      "execution_count": 0,
      "outputs": []
    },
    {
      "cell_type": "markdown",
      "metadata": {
        "id": "TsSknm5NsfjN",
        "colab_type": "text"
      },
      "source": [
        "# Fetch items from mimic-iii"
      ]
    },
    {
      "cell_type": "markdown",
      "metadata": {
        "id": "fyVFmNLkJLmT",
        "colab_type": "text"
      },
      "source": [
        "> CHARTEVENTS"
      ]
    },
    {
      "cell_type": "code",
      "metadata": {
        "id": "d4SbcVt5sn2n",
        "colab_type": "code",
        "colab": {}
      },
      "source": [
        "query = \"SELECT * FROM mimiciii.chartevents WHERE itemid IN \" + str(tuple(d_item_ce['itemid'])) + \" AND hadm_id IN \" + str(tuple(admissions['hadm_id'])) + \" ORDER BY hadm_id,charttime,itemid;\"\n",
        "chartevents = pd.read_sql_query(sql=query,con=conn)\n",
        "chartevents['row_id'] = range(100,100+chartevents['row_id'].count())"
      ],
      "execution_count": 0,
      "outputs": []
    },
    {
      "cell_type": "code",
      "metadata": {
        "id": "VvXq0O8QHE0K",
        "colab_type": "code",
        "colab": {}
      },
      "source": [
        "itemids = chartevents['itemid'].drop_duplicates()\n",
        "temp = chartevents.pivot(index='row_id',columns='itemid',values='valuenum')\n",
        "temp.fillna(value=temp.mean(skipna=True),inplace=True)\n",
        "for item in itemids:\n",
        "  arr = np.reshape(np.array(temp[item]),(-1,1))\n",
        "  minMaxScaler[item] = MinMaxScaler().fit(arr)"
      ],
      "execution_count": 0,
      "outputs": []
    },
    {
      "cell_type": "code",
      "metadata": {
        "id": "jVXDSMFXpcu4",
        "colab_type": "code",
        "colab": {}
      },
      "source": [
        "temp = dict(temp.mean())\n",
        "for key in temp.keys():\n",
        "  itemMeans[key] = temp[key]"
      ],
      "execution_count": 0,
      "outputs": []
    },
    {
      "cell_type": "markdown",
      "metadata": {
        "id": "RGhHs9SotxRX",
        "colab_type": "text"
      },
      "source": [
        "> INPUTEVENTS_CV\n",
        "\n"
      ]
    },
    {
      "cell_type": "code",
      "metadata": {
        "id": "YkFmcdert41J",
        "colab_type": "code",
        "colab": {}
      },
      "source": [
        "query = \"SELECT * FROM mimiciii.inputevents_cv WHERE itemid IN \" + str(tuple(d_item_cv['itemid'])) + \" AND hadm_id IN \" + str(tuple(admissions['hadm_id'])) + \" ORDER BY hadm_id,charttime,itemid;\"\n",
        "inputevents_cv = pd.read_sql_query(sql=query,con=conn)\n",
        "inputevents_cv['row_id'] = range(100,100+inputevents_cv['row_id'].count())"
      ],
      "execution_count": 0,
      "outputs": []
    },
    {
      "cell_type": "code",
      "metadata": {
        "id": "TVtmY4cdIyEP",
        "colab_type": "code",
        "colab": {}
      },
      "source": [
        "itemids = inputevents_cv['itemid'].drop_duplicates()\n",
        "temp = inputevents_cv.pivot(index='row_id',columns='itemid',values='amount')\n",
        "temp.fillna(value=temp.mean(skipna=True),inplace=True)\n",
        "for item in itemids:\n",
        "  arr = np.reshape(np.array(temp[item]),(-1,1))\n",
        "  minMaxScaler[item] = MinMaxScaler().fit(arr)"
      ],
      "execution_count": 0,
      "outputs": []
    },
    {
      "cell_type": "code",
      "metadata": {
        "colab_type": "code",
        "id": "dhStufwcs-HI",
        "colab": {}
      },
      "source": [
        "temp = dict(temp.mean())\n",
        "for key in temp.keys():\n",
        "  itemMeans[key] = temp[key]"
      ],
      "execution_count": 0,
      "outputs": []
    },
    {
      "cell_type": "markdown",
      "metadata": {
        "id": "-Qih88Q4uhAL",
        "colab_type": "text"
      },
      "source": [
        "> INPUTEVENTS_MV"
      ]
    },
    {
      "cell_type": "code",
      "metadata": {
        "id": "r5i2In-yunoA",
        "colab_type": "code",
        "colab": {}
      },
      "source": [
        "query = \"SELECT * FROM mimiciii.inputevents_mv WHERE itemid IN ('225170') AND hadm_id IN \" + str(tuple(admissions['hadm_id'])) + \" ORDER BY hadm_id,starttime,itemid;\"\n",
        "inputevents_mv = pd.read_sql_query(sql=query,con=conn)\n",
        "inputevents_mv['row_id'] = range(100,100+inputevents_mv['row_id'].count())"
      ],
      "execution_count": 0,
      "outputs": []
    },
    {
      "cell_type": "code",
      "metadata": {
        "id": "9k8LvSrFI824",
        "colab_type": "code",
        "colab": {}
      },
      "source": [
        "itemids = inputevents_mv['itemid'].drop_duplicates()\n",
        "temp = inputevents_mv.pivot(index='row_id',columns='itemid',values='amount')\n",
        "temp.fillna(value=temp.mean(skipna=True),inplace=True)\n",
        "for item in itemids:\n",
        "  arr = np.reshape(np.array(temp[item]),(-1,1))\n",
        "  minMaxScaler[item] = MinMaxScaler().fit(arr)"
      ],
      "execution_count": 0,
      "outputs": []
    },
    {
      "cell_type": "code",
      "metadata": {
        "colab_type": "code",
        "id": "S93qA3ess-9z",
        "colab": {}
      },
      "source": [
        "temp = dict(temp.mean())\n",
        "for key in temp.keys():\n",
        "  itemMeans[key] = temp[key]"
      ],
      "execution_count": 0,
      "outputs": []
    },
    {
      "cell_type": "markdown",
      "metadata": {
        "colab_type": "text",
        "id": "ZxJa1TA7_97c"
      },
      "source": [
        "> LABEVENTS"
      ]
    },
    {
      "cell_type": "code",
      "metadata": {
        "colab_type": "code",
        "id": "ma9IQiVw__J-",
        "colab": {}
      },
      "source": [
        "query = \"SELECT * FROM mimiciii.labevents WHERE itemid IN \" + str(tuple(d_labitem['itemid'])) + \" AND hadm_id IN \" + str(tuple(admissions['hadm_id'])) + \" ORDER BY hadm_id,charttime,itemid;\"\n",
        "labevents = pd.read_sql_query(sql=query,con=conn)\n",
        "labevents['row_id'] = range(100,100+labevents['row_id'].count())"
      ],
      "execution_count": 0,
      "outputs": []
    },
    {
      "cell_type": "code",
      "metadata": {
        "id": "-dHER9ciIrQ8",
        "colab_type": "code",
        "colab": {}
      },
      "source": [
        "itemids = labevents['itemid'].drop_duplicates()\n",
        "temp = labevents.pivot(index='row_id',columns='itemid',values='valuenum')\n",
        "temp.fillna(value=temp.mean(skipna=True),inplace=True)\n",
        "for item in itemids:\n",
        "  arr = np.reshape(np.array(temp[item]),(-1,1))\n",
        "  minMaxScaler[item] = MinMaxScaler().fit(arr)"
      ],
      "execution_count": 0,
      "outputs": []
    },
    {
      "cell_type": "code",
      "metadata": {
        "colab_type": "code",
        "id": "3JSVkhv2s_yf",
        "colab": {}
      },
      "source": [
        "temp = dict(temp.mean())\n",
        "for key in temp.keys():\n",
        "  itemMeans[key] = temp[key]"
      ],
      "execution_count": 0,
      "outputs": []
    },
    {
      "cell_type": "markdown",
      "metadata": {
        "id": "okTsPaFeyMQR",
        "colab_type": "text"
      },
      "source": [
        "# Generate Tensors"
      ]
    },
    {
      "cell_type": "code",
      "metadata": {
        "id": "zEN990aQ0ALL",
        "colab_type": "code",
        "colab": {}
      },
      "source": [
        "hadm_id = admissions['hadm_id']"
      ],
      "execution_count": 0,
      "outputs": []
    },
    {
      "cell_type": "code",
      "metadata": {
        "id": "rfwO3qch0jJq",
        "colab_type": "code",
        "colab": {}
      },
      "source": [
        "x_sepsis_dataset = []\n",
        "y_sepsis_dataset = []\n",
        "for hadm in hadm_id:\n",
        "  data = pd.DataFrame(data=itemMeans,index={0})\n",
        "\n",
        "  temp = chartevents[chartevents['hadm_id'] == hadm]\n",
        "  temp = temp.pivot(index='row_id',columns='itemid',values='valuenum')\n",
        "  data = data.append(temp,ignore_index=False)\n",
        "  \n",
        "  temp = inputevents_cv[inputevents_cv['hadm_id'] == hadm]\n",
        "  temp = temp.pivot(index='row_id',columns='itemid',values='amount')\n",
        "  data = data.append(temp,ignore_index=False)\n",
        "  \n",
        "  temp = inputevents_mv[inputevents_mv['hadm_id'] == hadm]\n",
        "  temp = temp.pivot(index='row_id',columns='itemid',values='amount')\n",
        "  data = data.append(temp,ignore_index=False)\n",
        "\n",
        "  temp = labevents[labevents['hadm_id'] == hadm]\n",
        "  temp = temp.pivot(index='row_id',columns='itemid',values='valuenum')\n",
        "  data = data.append(temp,ignore_index=False)\n",
        "\n",
        "  # mean normalization\n",
        "  data.fillna(value=itemMeans,inplace=True)\n",
        "  for key in minMaxScaler.keys():\n",
        "    arr = np.reshape(np.array(data[key]),(-1,1))\n",
        "    data[key] = minMaxScaler[key].transform(arr)\n",
        "\n",
        "  y_sepsis_dataset.insert(len(y_sepsis_dataset),int(admissions[admissions['hadm_id']==hadm]['sepsis'].all()))\n",
        "  x_sepsis_dataset.insert(len(x_sepsis_dataset),np.array(data))"
      ],
      "execution_count": 0,
      "outputs": []
    },
    {
      "cell_type": "code",
      "metadata": {
        "colab_type": "code",
        "id": "cYTUSsQC1ffI",
        "colab": {}
      },
      "source": [
        "sepsis_dataset = pd.DataFrame()\n",
        "for hadm in hadm_id:\n",
        "  data = pd.DataFrame(data=itemMeans,index={0})\n",
        "\n",
        "  temp = chartevents[chartevents['hadm_id'] == hadm]\n",
        "  temp = temp.pivot(index='row_id',columns='itemid',values='valuenum')\n",
        "  data = data.append(temp,ignore_index=False)\n",
        "  \n",
        "  temp = inputevents_cv[inputevents_cv['hadm_id'] == hadm]\n",
        "  temp = temp.pivot(index='row_id',columns='itemid',values='amount')\n",
        "  data = data.append(temp,ignore_index=False)\n",
        "  \n",
        "  temp = inputevents_mv[inputevents_mv['hadm_id'] == hadm]\n",
        "  temp = temp.pivot(index='row_id',columns='itemid',values='amount')\n",
        "  data = data.append(temp,ignore_index=False)\n",
        "\n",
        "  temp = labevents[labevents['hadm_id'] == hadm]\n",
        "  temp = temp.pivot(index='row_id',columns='itemid',values='valuenum')\n",
        "  data = data.append(temp,ignore_index=False)\n",
        "\n",
        "  # mean normalization\n",
        "  data.fillna(value=itemMeans,inplace=True)\n",
        "  for key in minMaxScaler.keys():\n",
        "    arr = np.reshape(np.array(data[key]),(-1,1))\n",
        "    data[key] = minMaxScaler[key].transform(arr)\n",
        "\n",
        "  data['sepsis'] = int(admissions[admissions['hadm_id']==hadm]['sepsis'].all())\n",
        "  data['hadm_id'] = hadm\n",
        "  sepsis_dataset = pd.DataFrame.append(sepsis_dataset,data)"
      ],
      "execution_count": 0,
      "outputs": []
    },
    {
      "cell_type": "code",
      "metadata": {
        "id": "vNj82fMd5LvF",
        "colab_type": "code",
        "colab": {}
      },
      "source": [
        "sepsis_dataset.to_csv('sepsis_dataset.csv')"
      ],
      "execution_count": 0,
      "outputs": []
    }
  ]
}