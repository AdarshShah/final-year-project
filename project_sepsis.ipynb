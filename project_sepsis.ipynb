{
  "nbformat": 4,
  "nbformat_minor": 0,
  "metadata": {
    "colab": {
      "name": "project-sepsis.ipynb",
      "provenance": [],
      "collapsed_sections": [
        "gu39I2UdoNkN",
        "wAGLSF2-oUwi",
        "CUWre_yIokdB",
        "NHU4YpzUprYB"
      ],
      "authorship_tag": "ABX9TyNJ02oDhCpqJUSKqH8u2r73",
      "include_colab_link": true
    },
    "kernelspec": {
      "name": "python3",
      "display_name": "Python 3"
    }
  },
  "cells": [
    {
      "cell_type": "markdown",
      "metadata": {
        "id": "view-in-github",
        "colab_type": "text"
      },
      "source": [
        "<a href=\"https://colab.research.google.com/github/AdarshShah/final-year-project/blob/master/project_sepsis.ipynb\" target=\"_parent\"><img src=\"https://colab.research.google.com/assets/colab-badge.svg\" alt=\"Open In Colab\"/></a>"
      ]
    },
    {
      "cell_type": "markdown",
      "metadata": {
        "id": "gu39I2UdoNkN",
        "colab_type": "text"
      },
      "source": [
        "#Import Libraries"
      ]
    },
    {
      "cell_type": "code",
      "metadata": {
        "id": "XpIrVj4Sl-Oe",
        "colab_type": "code",
        "colab": {}
      },
      "source": [
        "import time\n",
        "import pandas as pd\n",
        "import psycopg2\n",
        "import getpass\n",
        "import numpy as np\n",
        "import tensorflow as tf\n",
        "from sklearn.preprocessing import MinMaxScaler\n",
        "from sklearn.model_selection import train_test_split"
      ],
      "execution_count": 0,
      "outputs": []
    },
    {
      "cell_type": "markdown",
      "metadata": {
        "id": "wAGLSF2-oUwi",
        "colab_type": "text"
      },
      "source": [
        "# Declare Global Variables"
      ]
    },
    {
      "cell_type": "code",
      "metadata": {
        "id": "gjXc-ajOoG94",
        "colab_type": "code",
        "colab": {}
      },
      "source": [
        "user = 'postgres'\n",
        "host = 'localhost'\n",
        "dbname = 'mimic'\n",
        "schema = 'mimiciii'\n",
        "password = 'postgres'\n",
        "icd9_code = '99592'\n",
        "minMaxScaler = dict()\n",
        "itemMeans = dict()"
      ],
      "execution_count": 0,
      "outputs": []
    },
    {
      "cell_type": "markdown",
      "metadata": {
        "id": "CUWre_yIokdB",
        "colab_type": "text"
      },
      "source": [
        "# Create Database Connection"
      ]
    },
    {
      "cell_type": "code",
      "metadata": {
        "id": "w5aaBL9FonQ2",
        "colab_type": "code",
        "colab": {}
      },
      "source": [
        "conn = psycopg2.connect(user=user,password=password,dbname=dbname,host=host)\n",
        "cur = conn.cursor()\n",
        "cur.execute('SET search_path to {}'.format(schema))"
      ],
      "execution_count": 0,
      "outputs": []
    },
    {
      "cell_type": "markdown",
      "metadata": {
        "id": "NHU4YpzUprYB",
        "colab_type": "text"
      },
      "source": [
        "# Load Patient data\n",
        "\n",
        "\n"
      ]
    },
    {
      "cell_type": "markdown",
      "metadata": {
        "id": "URlfutSVJECz",
        "colab_type": "text"
      },
      "source": [
        "> Data from admissions suffering from severe sepsis"
      ]
    },
    {
      "cell_type": "code",
      "metadata": {
        "id": "njVeYBdYqF-2",
        "colab_type": "code",
        "colab": {}
      },
      "source": [
        "query = \"\"\"SELECT DISTINCT * FROM mimiciii.admissions i \n",
        "INNER JOIN mimiciii.diagnoses_icd USING(hadm_id)\n",
        "INNER JOIN mimiciii.d_icd_diagnoses USING(icd9_code)\n",
        "WHERE icd9_code LIKE '99592';\n",
        "\"\"\"\n",
        "admissions = pd.read_sql_query(sql=query,con=conn)\n",
        "admissions['sepsis'] = 1\n",
        "\n",
        "query = \"\"\"SELECT DISTINCT * FROM mimiciii.admissions i \n",
        "INNER JOIN mimiciii.diagnoses_icd USING(hadm_id)\n",
        "INNER JOIN mimiciii.d_icd_diagnoses USING(icd9_code)\n",
        "WHERE icd9_code NOT LIKE '99592' LIMIT 4000;\n",
        "\"\"\"\n",
        "temp = pd.read_sql_query(sql=query,con=conn)\n",
        "temp['sepsis'] = 0\n",
        "\n",
        "admissions = admissions.append(temp)\n",
        "\n"
      ],
      "execution_count": 0,
      "outputs": []
    },
    {
      "cell_type": "markdown",
      "metadata": {
        "id": "i3hmvxHirSZT",
        "colab_type": "text"
      },
      "source": [
        "> List Items from d_labitems and d_items"
      ]
    },
    {
      "cell_type": "code",
      "metadata": {
        "id": "3xgyzNs_srqt",
        "colab_type": "code",
        "colab": {}
      },
      "source": [
        "#d_items = ['Platelets','C Reactive Protein (CRP)','pH (Art)','HCO3','TCO2 (cap)']\n",
        "#d_labitems = ['Leukocytes','Urea Nitrogen','Creatinine','Glucose','Calcium, Total','Sodium','Potassium','Bilirubin','Albumin','Lactate','pCO2','pO2','Hemoglobin']\n",
        "\n",
        "#Append itemid below !!!!\n",
        "d_item_ce = ['0','828','3789','6256','791','3750','1525','220615','811','3744','3745','1529','226537','837','3803','1536','4948','3066','227444','3835','3837','812','3736']  \n",
        "d_item_cv = ['0','30006','44711','44441']\n",
        "d_item_mv = ['0','225170']\n",
        "d_labitem = ['51486','51006','50912','50809','50931','51478','50813','50820']"
      ],
      "execution_count": 0,
      "outputs": []
    },
    {
      "cell_type": "code",
      "metadata": {
        "id": "p5oYE3jm3Mui",
        "colab_type": "code",
        "colab": {}
      },
      "source": [
        "def get_pandas(items, table):\n",
        "  query = \"SELECT DISTINCT * FROM mimiciii.\"+table+\" WHERE itemid IN \" + str(tuple(items))\n",
        "  items = pd.read_sql_query(sql=query,con=conn)\n",
        "  return items\n",
        "\n",
        "d_item_ce = get_pandas(d_item_ce,\"d_items\")\n",
        "d_item_cv = get_pandas(d_item_cv,\"d_items\")\n",
        "d_item_mv = get_pandas(d_item_mv,\"d_items\")\n",
        "d_labitem = get_pandas(d_labitem,\"d_labitems\")"
      ],
      "execution_count": 0,
      "outputs": []
    },
    {
      "cell_type": "markdown",
      "metadata": {
        "id": "TsSknm5NsfjN",
        "colab_type": "text"
      },
      "source": [
        "# Fetch items from mimic-iii"
      ]
    },
    {
      "cell_type": "markdown",
      "metadata": {
        "id": "fyVFmNLkJLmT",
        "colab_type": "text"
      },
      "source": [
        "> CHARTEVENTS"
      ]
    },
    {
      "cell_type": "code",
      "metadata": {
        "id": "d4SbcVt5sn2n",
        "colab_type": "code",
        "colab": {}
      },
      "source": [
        "query = \"SELECT * FROM mimiciii.chartevents WHERE itemid IN \" + str(tuple(d_item_ce['itemid'])) + \" AND hadm_id IN \" + str(tuple(admissions['hadm_id'])) + \" ORDER BY hadm_id,charttime,itemid;\"\n",
        "chartevents = pd.read_sql_query(sql=query,con=conn)\n"
      ],
      "execution_count": 0,
      "outputs": []
    },
    {
      "cell_type": "code",
      "metadata": {
        "id": "VvXq0O8QHE0K",
        "colab_type": "code",
        "colab": {}
      },
      "source": [
        "itemids = chartevents['itemid'].drop_duplicates()\n",
        "temp = chartevents.pivot(index='row_id',columns='itemid',values='valuenum')\n",
        "temp.fillna(value=temp.mean(skipna=True),inplace=True)\n",
        "temp.replace()\n",
        "for item in itemids:\n",
        "  arr = np.reshape(np.array(temp[item]),(-1,1))\n",
        "  minMaxScaler[item] = MinMaxScaler().fit(arr)"
      ],
      "execution_count": 0,
      "outputs": []
    },
    {
      "cell_type": "code",
      "metadata": {
        "id": "jVXDSMFXpcu4",
        "colab_type": "code",
        "colab": {}
      },
      "source": [
        "temp = dict(temp.mean())\n",
        "for key in temp.keys():\n",
        "  itemMeans[key] = temp[key]"
      ],
      "execution_count": 0,
      "outputs": []
    },
    {
      "cell_type": "code",
      "metadata": {
        "id": "lkgo_mbUuQf1",
        "colab_type": "code",
        "outputId": "17f38543-04d9-442e-8355-b680a1f3bc28",
        "colab": {
          "base_uri": "https://localhost:8080/",
          "height": 300
        }
      },
      "source": [
        "chartevents.describe()"
      ],
      "execution_count": 307,
      "outputs": [
        {
          "output_type": "execute_result",
          "data": {
            "text/plain": [
              "             row_id     subject_id        hadm_id     icustay_id  \\\n",
              "count  4.187140e+05  418714.000000  418714.000000  418180.000000   \n",
              "mean   1.018948e+08   21693.081619  149650.986881  251298.341984   \n",
              "std    5.540498e+07   19398.070517   28713.531852   28650.827482   \n",
              "min    1.565500e+04      21.000000  100074.000000  200030.000000   \n",
              "25%    5.614203e+07    8623.000000  125102.000000  227178.000000   \n",
              "50%    1.009089e+08   18105.000000  149230.000000  252147.000000   \n",
              "75%    1.514004e+08   27574.000000  175201.000000  275623.000000   \n",
              "max    1.931220e+08   99991.000000  199943.000000  299998.000000   \n",
              "\n",
              "              itemid           cgid       valuenum       warning         error  \n",
              "count  418714.000000  418714.000000  417160.000000  55838.000000  55838.000000  \n",
              "mean    30587.669846   16198.020756     101.430435      0.583456      0.002651  \n",
              "std     75101.349121    1972.237414      93.739899      0.492990      0.051415  \n",
              "min       791.000000   14023.000000     -70.000000      0.000000      0.000000  \n",
              "25%       811.000000   15331.000000       2.700000      0.000000      0.000000  \n",
              "50%       837.000000   15331.000000     116.000000      1.000000      0.000000  \n",
              "75%      1529.000000   15331.000000     142.000000      1.000000      0.000000  \n",
              "max    227444.000000   21570.000000    3555.000000      1.000000      1.000000  "
            ],
            "text/html": [
              "<div>\n",
              "<style scoped>\n",
              "    .dataframe tbody tr th:only-of-type {\n",
              "        vertical-align: middle;\n",
              "    }\n",
              "\n",
              "    .dataframe tbody tr th {\n",
              "        vertical-align: top;\n",
              "    }\n",
              "\n",
              "    .dataframe thead th {\n",
              "        text-align: right;\n",
              "    }\n",
              "</style>\n",
              "<table border=\"1\" class=\"dataframe\">\n",
              "  <thead>\n",
              "    <tr style=\"text-align: right;\">\n",
              "      <th></th>\n",
              "      <th>row_id</th>\n",
              "      <th>subject_id</th>\n",
              "      <th>hadm_id</th>\n",
              "      <th>icustay_id</th>\n",
              "      <th>itemid</th>\n",
              "      <th>cgid</th>\n",
              "      <th>valuenum</th>\n",
              "      <th>warning</th>\n",
              "      <th>error</th>\n",
              "    </tr>\n",
              "  </thead>\n",
              "  <tbody>\n",
              "    <tr>\n",
              "      <th>count</th>\n",
              "      <td>4.187140e+05</td>\n",
              "      <td>418714.000000</td>\n",
              "      <td>418714.000000</td>\n",
              "      <td>418180.000000</td>\n",
              "      <td>418714.000000</td>\n",
              "      <td>418714.000000</td>\n",
              "      <td>417160.000000</td>\n",
              "      <td>55838.000000</td>\n",
              "      <td>55838.000000</td>\n",
              "    </tr>\n",
              "    <tr>\n",
              "      <th>mean</th>\n",
              "      <td>1.018948e+08</td>\n",
              "      <td>21693.081619</td>\n",
              "      <td>149650.986881</td>\n",
              "      <td>251298.341984</td>\n",
              "      <td>30587.669846</td>\n",
              "      <td>16198.020756</td>\n",
              "      <td>101.430435</td>\n",
              "      <td>0.583456</td>\n",
              "      <td>0.002651</td>\n",
              "    </tr>\n",
              "    <tr>\n",
              "      <th>std</th>\n",
              "      <td>5.540498e+07</td>\n",
              "      <td>19398.070517</td>\n",
              "      <td>28713.531852</td>\n",
              "      <td>28650.827482</td>\n",
              "      <td>75101.349121</td>\n",
              "      <td>1972.237414</td>\n",
              "      <td>93.739899</td>\n",
              "      <td>0.492990</td>\n",
              "      <td>0.051415</td>\n",
              "    </tr>\n",
              "    <tr>\n",
              "      <th>min</th>\n",
              "      <td>1.565500e+04</td>\n",
              "      <td>21.000000</td>\n",
              "      <td>100074.000000</td>\n",
              "      <td>200030.000000</td>\n",
              "      <td>791.000000</td>\n",
              "      <td>14023.000000</td>\n",
              "      <td>-70.000000</td>\n",
              "      <td>0.000000</td>\n",
              "      <td>0.000000</td>\n",
              "    </tr>\n",
              "    <tr>\n",
              "      <th>25%</th>\n",
              "      <td>5.614203e+07</td>\n",
              "      <td>8623.000000</td>\n",
              "      <td>125102.000000</td>\n",
              "      <td>227178.000000</td>\n",
              "      <td>811.000000</td>\n",
              "      <td>15331.000000</td>\n",
              "      <td>2.700000</td>\n",
              "      <td>0.000000</td>\n",
              "      <td>0.000000</td>\n",
              "    </tr>\n",
              "    <tr>\n",
              "      <th>50%</th>\n",
              "      <td>1.009089e+08</td>\n",
              "      <td>18105.000000</td>\n",
              "      <td>149230.000000</td>\n",
              "      <td>252147.000000</td>\n",
              "      <td>837.000000</td>\n",
              "      <td>15331.000000</td>\n",
              "      <td>116.000000</td>\n",
              "      <td>1.000000</td>\n",
              "      <td>0.000000</td>\n",
              "    </tr>\n",
              "    <tr>\n",
              "      <th>75%</th>\n",
              "      <td>1.514004e+08</td>\n",
              "      <td>27574.000000</td>\n",
              "      <td>175201.000000</td>\n",
              "      <td>275623.000000</td>\n",
              "      <td>1529.000000</td>\n",
              "      <td>15331.000000</td>\n",
              "      <td>142.000000</td>\n",
              "      <td>1.000000</td>\n",
              "      <td>0.000000</td>\n",
              "    </tr>\n",
              "    <tr>\n",
              "      <th>max</th>\n",
              "      <td>1.931220e+08</td>\n",
              "      <td>99991.000000</td>\n",
              "      <td>199943.000000</td>\n",
              "      <td>299998.000000</td>\n",
              "      <td>227444.000000</td>\n",
              "      <td>21570.000000</td>\n",
              "      <td>3555.000000</td>\n",
              "      <td>1.000000</td>\n",
              "      <td>1.000000</td>\n",
              "    </tr>\n",
              "  </tbody>\n",
              "</table>\n",
              "</div>"
            ]
          },
          "metadata": {
            "tags": []
          },
          "execution_count": 307
        }
      ]
    },
    {
      "cell_type": "markdown",
      "metadata": {
        "id": "RGhHs9SotxRX",
        "colab_type": "text"
      },
      "source": [
        "> INPUTEVENTS_CV\n",
        "\n"
      ]
    },
    {
      "cell_type": "code",
      "metadata": {
        "id": "YkFmcdert41J",
        "colab_type": "code",
        "colab": {}
      },
      "source": [
        "query = \"SELECT * FROM mimiciii.inputevents_cv WHERE itemid IN \" + str(tuple(d_item_cv['itemid'])) + \" AND hadm_id IN \" + str(tuple(admissions['hadm_id'])) + \" ORDER BY hadm_id,charttime,itemid;\"\n",
        "inputevents_cv = pd.read_sql_query(sql=query,con=conn)"
      ],
      "execution_count": 0,
      "outputs": []
    },
    {
      "cell_type": "code",
      "metadata": {
        "id": "TVtmY4cdIyEP",
        "colab_type": "code",
        "colab": {}
      },
      "source": [
        "itemids = inputevents_cv['itemid'].drop_duplicates()\n",
        "temp = inputevents_cv.pivot(index='row_id',columns='itemid',values='amount')\n",
        "temp.fillna(value=temp.mean(skipna=True),inplace=True)\n",
        "for item in itemids:\n",
        "  arr = np.reshape(np.array(temp[item]),(-1,1))\n",
        "  minMaxScaler[item] = MinMaxScaler().fit(arr)"
      ],
      "execution_count": 0,
      "outputs": []
    },
    {
      "cell_type": "code",
      "metadata": {
        "colab_type": "code",
        "id": "dhStufwcs-HI",
        "colab": {}
      },
      "source": [
        "temp = dict(temp.mean())\n",
        "for key in temp.keys():\n",
        "  itemMeans[key] = temp[key]"
      ],
      "execution_count": 0,
      "outputs": []
    },
    {
      "cell_type": "code",
      "metadata": {
        "id": "g1e98tfwuS8J",
        "colab_type": "code",
        "outputId": "87af8337-f9a9-46db-829b-4a6e7c2ed656",
        "colab": {
          "base_uri": "https://localhost:8080/",
          "height": 300
        }
      },
      "source": [
        "inputevents_cv.describe()"
      ],
      "execution_count": 311,
      "outputs": [
        {
          "output_type": "execute_result",
          "data": {
            "text/plain": [
              "             row_id    subject_id        hadm_id     icustay_id        itemid  \\\n",
              "count  2.526000e+03   2526.000000    2526.000000    2514.000000   2526.000000   \n",
              "mean   4.699851e+06  16084.254157  147882.490499  251681.871122  30272.076801   \n",
              "std    1.733265e+06   8802.873451   30184.285114   29871.128362   1954.146186   \n",
              "min    4.457295e+06    117.000000  100253.000000  200102.000000  30006.000000   \n",
              "25%    4.460475e+06   9575.000000  119862.000000  225703.000000  30006.000000   \n",
              "50%    4.463914e+06  15812.000000  150850.000000  255660.000000  30006.000000   \n",
              "75%    4.466991e+06  22844.000000  179019.000000  276363.000000  30006.000000   \n",
              "max    1.745546e+07  32658.000000  199716.000000  299994.000000  44711.000000   \n",
              "\n",
              "            amount          cgid       orderid   linkorderid  newbottle  \n",
              "count  2356.000000   2526.000000  2.526000e+03  2.526000e+03      310.0  \n",
              "mean    207.120020  18089.475455  6.017716e+06  6.057863e+06        1.0  \n",
              "std     121.367148   2363.535887  3.425607e+06  3.419688e+06        0.0  \n",
              "min       0.000000  14023.000000  4.580000e+03  9.591000e+03        1.0  \n",
              "25%     197.000000  15900.000000  3.042577e+06  3.042551e+06        1.0  \n",
              "50%     232.000000  17701.000000  6.058852e+06  6.254552e+06        1.0  \n",
              "75%     269.000000  20297.000000  8.912993e+06  9.190013e+06        1.0  \n",
              "max    1099.000000  21570.000000  1.195363e+07  1.190499e+07        1.0  "
            ],
            "text/html": [
              "<div>\n",
              "<style scoped>\n",
              "    .dataframe tbody tr th:only-of-type {\n",
              "        vertical-align: middle;\n",
              "    }\n",
              "\n",
              "    .dataframe tbody tr th {\n",
              "        vertical-align: top;\n",
              "    }\n",
              "\n",
              "    .dataframe thead th {\n",
              "        text-align: right;\n",
              "    }\n",
              "</style>\n",
              "<table border=\"1\" class=\"dataframe\">\n",
              "  <thead>\n",
              "    <tr style=\"text-align: right;\">\n",
              "      <th></th>\n",
              "      <th>row_id</th>\n",
              "      <th>subject_id</th>\n",
              "      <th>hadm_id</th>\n",
              "      <th>icustay_id</th>\n",
              "      <th>itemid</th>\n",
              "      <th>amount</th>\n",
              "      <th>cgid</th>\n",
              "      <th>orderid</th>\n",
              "      <th>linkorderid</th>\n",
              "      <th>newbottle</th>\n",
              "    </tr>\n",
              "  </thead>\n",
              "  <tbody>\n",
              "    <tr>\n",
              "      <th>count</th>\n",
              "      <td>2.526000e+03</td>\n",
              "      <td>2526.000000</td>\n",
              "      <td>2526.000000</td>\n",
              "      <td>2514.000000</td>\n",
              "      <td>2526.000000</td>\n",
              "      <td>2356.000000</td>\n",
              "      <td>2526.000000</td>\n",
              "      <td>2.526000e+03</td>\n",
              "      <td>2.526000e+03</td>\n",
              "      <td>310.0</td>\n",
              "    </tr>\n",
              "    <tr>\n",
              "      <th>mean</th>\n",
              "      <td>4.699851e+06</td>\n",
              "      <td>16084.254157</td>\n",
              "      <td>147882.490499</td>\n",
              "      <td>251681.871122</td>\n",
              "      <td>30272.076801</td>\n",
              "      <td>207.120020</td>\n",
              "      <td>18089.475455</td>\n",
              "      <td>6.017716e+06</td>\n",
              "      <td>6.057863e+06</td>\n",
              "      <td>1.0</td>\n",
              "    </tr>\n",
              "    <tr>\n",
              "      <th>std</th>\n",
              "      <td>1.733265e+06</td>\n",
              "      <td>8802.873451</td>\n",
              "      <td>30184.285114</td>\n",
              "      <td>29871.128362</td>\n",
              "      <td>1954.146186</td>\n",
              "      <td>121.367148</td>\n",
              "      <td>2363.535887</td>\n",
              "      <td>3.425607e+06</td>\n",
              "      <td>3.419688e+06</td>\n",
              "      <td>0.0</td>\n",
              "    </tr>\n",
              "    <tr>\n",
              "      <th>min</th>\n",
              "      <td>4.457295e+06</td>\n",
              "      <td>117.000000</td>\n",
              "      <td>100253.000000</td>\n",
              "      <td>200102.000000</td>\n",
              "      <td>30006.000000</td>\n",
              "      <td>0.000000</td>\n",
              "      <td>14023.000000</td>\n",
              "      <td>4.580000e+03</td>\n",
              "      <td>9.591000e+03</td>\n",
              "      <td>1.0</td>\n",
              "    </tr>\n",
              "    <tr>\n",
              "      <th>25%</th>\n",
              "      <td>4.460475e+06</td>\n",
              "      <td>9575.000000</td>\n",
              "      <td>119862.000000</td>\n",
              "      <td>225703.000000</td>\n",
              "      <td>30006.000000</td>\n",
              "      <td>197.000000</td>\n",
              "      <td>15900.000000</td>\n",
              "      <td>3.042577e+06</td>\n",
              "      <td>3.042551e+06</td>\n",
              "      <td>1.0</td>\n",
              "    </tr>\n",
              "    <tr>\n",
              "      <th>50%</th>\n",
              "      <td>4.463914e+06</td>\n",
              "      <td>15812.000000</td>\n",
              "      <td>150850.000000</td>\n",
              "      <td>255660.000000</td>\n",
              "      <td>30006.000000</td>\n",
              "      <td>232.000000</td>\n",
              "      <td>17701.000000</td>\n",
              "      <td>6.058852e+06</td>\n",
              "      <td>6.254552e+06</td>\n",
              "      <td>1.0</td>\n",
              "    </tr>\n",
              "    <tr>\n",
              "      <th>75%</th>\n",
              "      <td>4.466991e+06</td>\n",
              "      <td>22844.000000</td>\n",
              "      <td>179019.000000</td>\n",
              "      <td>276363.000000</td>\n",
              "      <td>30006.000000</td>\n",
              "      <td>269.000000</td>\n",
              "      <td>20297.000000</td>\n",
              "      <td>8.912993e+06</td>\n",
              "      <td>9.190013e+06</td>\n",
              "      <td>1.0</td>\n",
              "    </tr>\n",
              "    <tr>\n",
              "      <th>max</th>\n",
              "      <td>1.745546e+07</td>\n",
              "      <td>32658.000000</td>\n",
              "      <td>199716.000000</td>\n",
              "      <td>299994.000000</td>\n",
              "      <td>44711.000000</td>\n",
              "      <td>1099.000000</td>\n",
              "      <td>21570.000000</td>\n",
              "      <td>1.195363e+07</td>\n",
              "      <td>1.190499e+07</td>\n",
              "      <td>1.0</td>\n",
              "    </tr>\n",
              "  </tbody>\n",
              "</table>\n",
              "</div>"
            ]
          },
          "metadata": {
            "tags": []
          },
          "execution_count": 311
        }
      ]
    },
    {
      "cell_type": "markdown",
      "metadata": {
        "id": "-Qih88Q4uhAL",
        "colab_type": "text"
      },
      "source": [
        "> INPUTEVENTS_MV"
      ]
    },
    {
      "cell_type": "code",
      "metadata": {
        "id": "r5i2In-yunoA",
        "colab_type": "code",
        "colab": {}
      },
      "source": [
        "query = \"SELECT * FROM mimiciii.inputevents_mv WHERE itemid IN ('225170') AND hadm_id IN \" + str(tuple(admissions['hadm_id'])) + \" ORDER BY hadm_id,starttime,itemid;\"\n",
        "inputevents_mv = pd.read_sql_query(sql=query,con=conn)"
      ],
      "execution_count": 0,
      "outputs": []
    },
    {
      "cell_type": "code",
      "metadata": {
        "id": "9k8LvSrFI824",
        "colab_type": "code",
        "colab": {}
      },
      "source": [
        "itemids = inputevents_mv['itemid'].drop_duplicates()\n",
        "temp = inputevents_mv.pivot(index='row_id',columns='itemid',values='amount')\n",
        "temp.fillna(value=temp.mean(skipna=True),inplace=True)\n",
        "for item in itemids:\n",
        "  arr = np.reshape(np.array(temp[item]),(-1,1))\n",
        "  minMaxScaler[item] = MinMaxScaler().fit(arr)"
      ],
      "execution_count": 0,
      "outputs": []
    },
    {
      "cell_type": "code",
      "metadata": {
        "colab_type": "code",
        "id": "S93qA3ess-9z",
        "colab": {}
      },
      "source": [
        "temp = dict(temp.mean())\n",
        "for key in temp.keys():\n",
        "  itemMeans[key] = temp[key]"
      ],
      "execution_count": 0,
      "outputs": []
    },
    {
      "cell_type": "code",
      "metadata": {
        "id": "ShwrDXulutPc",
        "colab_type": "code",
        "outputId": "2791e6a0-1374-4cf9-f974-54d263adc91f",
        "colab": {
          "base_uri": "https://localhost:8080/",
          "height": 320
        }
      },
      "source": [
        "inputevents_mv.describe()"
      ],
      "execution_count": 315,
      "outputs": [
        {
          "output_type": "execute_result",
          "data": {
            "text/plain": [
              "             row_id    subject_id        hadm_id     icustay_id    itemid  \\\n",
              "count  1.561000e+03   1561.000000    1561.000000    1560.000000    1561.0   \n",
              "mean   1.743785e+06  62290.476618  148569.034593  250600.185256  225170.0   \n",
              "std    1.083833e+06  22758.434495   28044.280488   30952.150530       0.0   \n",
              "min    2.940000e+02    124.000000  100442.000000  200454.000000  225170.0   \n",
              "25%    7.255180e+05  50065.000000  123675.000000  218620.000000  225170.0   \n",
              "50%    1.712049e+06  60762.000000  142534.000000  248745.000000  225170.0   \n",
              "75%    2.800644e+06  80030.000000  175115.000000  281049.000000  225170.0   \n",
              "max    3.605911e+06  99865.000000  199821.000000  299533.000000  225170.0   \n",
              "\n",
              "            amount         rate         cgid       orderid   linkorderid  \\\n",
              "count  1561.000000  1561.000000   1561.00000  1.561000e+03  1.561000e+03   \n",
              "mean    247.385181   340.450911  17913.09417  4.993048e+06  4.993893e+06   \n",
              "std     107.673826   267.668683   2250.58988  2.880190e+06  2.872215e+06   \n",
              "min     -20.099999     1.900000  14023.00000  1.289000e+04  1.289000e+04   \n",
              "25%     198.999996   200.999994  15830.00000  2.545321e+06  2.549322e+06   \n",
              "50%     230.999994   260.000010  17661.00000  4.992425e+06  4.999181e+06   \n",
              "75%     281.000004   393.999996  20030.00000  7.504859e+06  7.483251e+06   \n",
              "max    3010.000200  6020.000400  21492.00000  9.992465e+06  9.992465e+06   \n",
              "\n",
              "       patientweight  totalamount    isopenbag  continueinnextdept  \\\n",
              "count    1561.000000  1561.000000  1561.000000              1561.0   \n",
              "mean       85.569122   250.942345     0.000641                 0.0   \n",
              "std        21.716758    74.339057     0.025310                 0.0   \n",
              "min         1.000000   130.000000     0.000000                 0.0   \n",
              "25%        70.000000   199.000000     0.000000                 0.0   \n",
              "50%        85.000000   233.000000     0.000000                 0.0   \n",
              "75%        96.700000   282.000000     0.000000                 0.0   \n",
              "max       170.500000   757.000000     1.000000                 0.0   \n",
              "\n",
              "       cancelreason  originalamount  originalrate  \n",
              "count   1561.000000     1561.000000   1561.000000  \n",
              "mean       0.127482      252.388843    340.311749  \n",
              "std        0.432369      102.465548    267.535428  \n",
              "min        0.000000       70.000000      1.900000  \n",
              "25%        0.000000      199.000000    201.000000  \n",
              "50%        0.000000      233.000000    260.000000  \n",
              "75%        0.000000      282.000000    394.000000  \n",
              "max        2.000000     3010.000000   6020.000000  "
            ],
            "text/html": [
              "<div>\n",
              "<style scoped>\n",
              "    .dataframe tbody tr th:only-of-type {\n",
              "        vertical-align: middle;\n",
              "    }\n",
              "\n",
              "    .dataframe tbody tr th {\n",
              "        vertical-align: top;\n",
              "    }\n",
              "\n",
              "    .dataframe thead th {\n",
              "        text-align: right;\n",
              "    }\n",
              "</style>\n",
              "<table border=\"1\" class=\"dataframe\">\n",
              "  <thead>\n",
              "    <tr style=\"text-align: right;\">\n",
              "      <th></th>\n",
              "      <th>row_id</th>\n",
              "      <th>subject_id</th>\n",
              "      <th>hadm_id</th>\n",
              "      <th>icustay_id</th>\n",
              "      <th>itemid</th>\n",
              "      <th>amount</th>\n",
              "      <th>rate</th>\n",
              "      <th>cgid</th>\n",
              "      <th>orderid</th>\n",
              "      <th>linkorderid</th>\n",
              "      <th>patientweight</th>\n",
              "      <th>totalamount</th>\n",
              "      <th>isopenbag</th>\n",
              "      <th>continueinnextdept</th>\n",
              "      <th>cancelreason</th>\n",
              "      <th>originalamount</th>\n",
              "      <th>originalrate</th>\n",
              "    </tr>\n",
              "  </thead>\n",
              "  <tbody>\n",
              "    <tr>\n",
              "      <th>count</th>\n",
              "      <td>1.561000e+03</td>\n",
              "      <td>1561.000000</td>\n",
              "      <td>1561.000000</td>\n",
              "      <td>1560.000000</td>\n",
              "      <td>1561.0</td>\n",
              "      <td>1561.000000</td>\n",
              "      <td>1561.000000</td>\n",
              "      <td>1561.00000</td>\n",
              "      <td>1.561000e+03</td>\n",
              "      <td>1.561000e+03</td>\n",
              "      <td>1561.000000</td>\n",
              "      <td>1561.000000</td>\n",
              "      <td>1561.000000</td>\n",
              "      <td>1561.0</td>\n",
              "      <td>1561.000000</td>\n",
              "      <td>1561.000000</td>\n",
              "      <td>1561.000000</td>\n",
              "    </tr>\n",
              "    <tr>\n",
              "      <th>mean</th>\n",
              "      <td>1.743785e+06</td>\n",
              "      <td>62290.476618</td>\n",
              "      <td>148569.034593</td>\n",
              "      <td>250600.185256</td>\n",
              "      <td>225170.0</td>\n",
              "      <td>247.385181</td>\n",
              "      <td>340.450911</td>\n",
              "      <td>17913.09417</td>\n",
              "      <td>4.993048e+06</td>\n",
              "      <td>4.993893e+06</td>\n",
              "      <td>85.569122</td>\n",
              "      <td>250.942345</td>\n",
              "      <td>0.000641</td>\n",
              "      <td>0.0</td>\n",
              "      <td>0.127482</td>\n",
              "      <td>252.388843</td>\n",
              "      <td>340.311749</td>\n",
              "    </tr>\n",
              "    <tr>\n",
              "      <th>std</th>\n",
              "      <td>1.083833e+06</td>\n",
              "      <td>22758.434495</td>\n",
              "      <td>28044.280488</td>\n",
              "      <td>30952.150530</td>\n",
              "      <td>0.0</td>\n",
              "      <td>107.673826</td>\n",
              "      <td>267.668683</td>\n",
              "      <td>2250.58988</td>\n",
              "      <td>2.880190e+06</td>\n",
              "      <td>2.872215e+06</td>\n",
              "      <td>21.716758</td>\n",
              "      <td>74.339057</td>\n",
              "      <td>0.025310</td>\n",
              "      <td>0.0</td>\n",
              "      <td>0.432369</td>\n",
              "      <td>102.465548</td>\n",
              "      <td>267.535428</td>\n",
              "    </tr>\n",
              "    <tr>\n",
              "      <th>min</th>\n",
              "      <td>2.940000e+02</td>\n",
              "      <td>124.000000</td>\n",
              "      <td>100442.000000</td>\n",
              "      <td>200454.000000</td>\n",
              "      <td>225170.0</td>\n",
              "      <td>-20.099999</td>\n",
              "      <td>1.900000</td>\n",
              "      <td>14023.00000</td>\n",
              "      <td>1.289000e+04</td>\n",
              "      <td>1.289000e+04</td>\n",
              "      <td>1.000000</td>\n",
              "      <td>130.000000</td>\n",
              "      <td>0.000000</td>\n",
              "      <td>0.0</td>\n",
              "      <td>0.000000</td>\n",
              "      <td>70.000000</td>\n",
              "      <td>1.900000</td>\n",
              "    </tr>\n",
              "    <tr>\n",
              "      <th>25%</th>\n",
              "      <td>7.255180e+05</td>\n",
              "      <td>50065.000000</td>\n",
              "      <td>123675.000000</td>\n",
              "      <td>218620.000000</td>\n",
              "      <td>225170.0</td>\n",
              "      <td>198.999996</td>\n",
              "      <td>200.999994</td>\n",
              "      <td>15830.00000</td>\n",
              "      <td>2.545321e+06</td>\n",
              "      <td>2.549322e+06</td>\n",
              "      <td>70.000000</td>\n",
              "      <td>199.000000</td>\n",
              "      <td>0.000000</td>\n",
              "      <td>0.0</td>\n",
              "      <td>0.000000</td>\n",
              "      <td>199.000000</td>\n",
              "      <td>201.000000</td>\n",
              "    </tr>\n",
              "    <tr>\n",
              "      <th>50%</th>\n",
              "      <td>1.712049e+06</td>\n",
              "      <td>60762.000000</td>\n",
              "      <td>142534.000000</td>\n",
              "      <td>248745.000000</td>\n",
              "      <td>225170.0</td>\n",
              "      <td>230.999994</td>\n",
              "      <td>260.000010</td>\n",
              "      <td>17661.00000</td>\n",
              "      <td>4.992425e+06</td>\n",
              "      <td>4.999181e+06</td>\n",
              "      <td>85.000000</td>\n",
              "      <td>233.000000</td>\n",
              "      <td>0.000000</td>\n",
              "      <td>0.0</td>\n",
              "      <td>0.000000</td>\n",
              "      <td>233.000000</td>\n",
              "      <td>260.000000</td>\n",
              "    </tr>\n",
              "    <tr>\n",
              "      <th>75%</th>\n",
              "      <td>2.800644e+06</td>\n",
              "      <td>80030.000000</td>\n",
              "      <td>175115.000000</td>\n",
              "      <td>281049.000000</td>\n",
              "      <td>225170.0</td>\n",
              "      <td>281.000004</td>\n",
              "      <td>393.999996</td>\n",
              "      <td>20030.00000</td>\n",
              "      <td>7.504859e+06</td>\n",
              "      <td>7.483251e+06</td>\n",
              "      <td>96.700000</td>\n",
              "      <td>282.000000</td>\n",
              "      <td>0.000000</td>\n",
              "      <td>0.0</td>\n",
              "      <td>0.000000</td>\n",
              "      <td>282.000000</td>\n",
              "      <td>394.000000</td>\n",
              "    </tr>\n",
              "    <tr>\n",
              "      <th>max</th>\n",
              "      <td>3.605911e+06</td>\n",
              "      <td>99865.000000</td>\n",
              "      <td>199821.000000</td>\n",
              "      <td>299533.000000</td>\n",
              "      <td>225170.0</td>\n",
              "      <td>3010.000200</td>\n",
              "      <td>6020.000400</td>\n",
              "      <td>21492.00000</td>\n",
              "      <td>9.992465e+06</td>\n",
              "      <td>9.992465e+06</td>\n",
              "      <td>170.500000</td>\n",
              "      <td>757.000000</td>\n",
              "      <td>1.000000</td>\n",
              "      <td>0.0</td>\n",
              "      <td>2.000000</td>\n",
              "      <td>3010.000000</td>\n",
              "      <td>6020.000000</td>\n",
              "    </tr>\n",
              "  </tbody>\n",
              "</table>\n",
              "</div>"
            ]
          },
          "metadata": {
            "tags": []
          },
          "execution_count": 315
        }
      ]
    },
    {
      "cell_type": "markdown",
      "metadata": {
        "colab_type": "text",
        "id": "ZxJa1TA7_97c"
      },
      "source": [
        "> LABEVENTS"
      ]
    },
    {
      "cell_type": "code",
      "metadata": {
        "colab_type": "code",
        "id": "ma9IQiVw__J-",
        "colab": {}
      },
      "source": [
        "query = \"SELECT * FROM mimiciii.labevents WHERE itemid IN \" + str(tuple(d_labitem['itemid'])) + \" AND hadm_id IN \" + str(tuple(admissions['hadm_id'])) + \" ORDER BY hadm_id,charttime,itemid;\"\n",
        "labevents = pd.read_sql_query(sql=query,con=conn)"
      ],
      "execution_count": 0,
      "outputs": []
    },
    {
      "cell_type": "code",
      "metadata": {
        "id": "-dHER9ciIrQ8",
        "colab_type": "code",
        "colab": {
          "base_uri": "https://localhost:8080/",
          "height": 86
        },
        "outputId": "9ef0b109-11d8-46b5-d64a-58b73dcb8f18"
      },
      "source": [
        "itemids = labevents['itemid'].drop_duplicates()\n",
        "temp = labevents.pivot(index='row_id',columns='itemid',values='valuenum')\n",
        "temp.fillna(value=temp.mean(skipna=True),inplace=True)\n",
        "for item in itemids:\n",
        "  arr = np.reshape(np.array(temp[item]),(-1,1))\n",
        "  minMaxScaler[item] = MinMaxScaler().fit(arr)"
      ],
      "execution_count": 317,
      "outputs": [
        {
          "output_type": "stream",
          "text": [
            "/home/adarsh/.local/lib/python3.7/site-packages/sklearn/preprocessing/data.py:355: RuntimeWarning: All-NaN slice encountered\n",
            "  data_min = np.nanmin(X, axis=0)\n",
            "/home/adarsh/.local/lib/python3.7/site-packages/sklearn/preprocessing/data.py:356: RuntimeWarning: All-NaN slice encountered\n",
            "  data_max = np.nanmax(X, axis=0)\n"
          ],
          "name": "stderr"
        }
      ]
    },
    {
      "cell_type": "code",
      "metadata": {
        "colab_type": "code",
        "id": "3JSVkhv2s_yf",
        "colab": {}
      },
      "source": [
        "temp = dict(temp.mean())\n",
        "for key in temp.keys():\n",
        "  itemMeans[key] = temp[key]"
      ],
      "execution_count": 0,
      "outputs": []
    },
    {
      "cell_type": "code",
      "metadata": {
        "colab_type": "code",
        "id": "A78-ddKkABJr",
        "outputId": "201e4e05-1d60-42ab-a8fa-67c70eec4c37",
        "colab": {
          "base_uri": "https://localhost:8080/",
          "height": 300
        }
      },
      "source": [
        "labevents.describe()"
      ],
      "execution_count": 319,
      "outputs": [
        {
          "output_type": "execute_result",
          "data": {
            "text/plain": [
              "             row_id     subject_id        hadm_id         itemid  \\\n",
              "count  6.244410e+05  624441.000000  624441.000000  624441.000000   \n",
              "mean   1.521366e+07   36207.164467  149334.049881   50929.465394   \n",
              "std    8.294357e+06   29101.123171   28569.363457     135.933690   \n",
              "min    1.021200e+04      21.000000  100074.000000   50809.000000   \n",
              "25%    7.843078e+06   12581.000000  124911.000000   50820.000000   \n",
              "50%    1.630106e+07   26313.000000  148758.000000   50912.000000   \n",
              "75%    2.246933e+07   58702.000000  174734.000000   51006.000000   \n",
              "max    2.790723e+07   99991.000000  199943.000000   51486.000000   \n",
              "\n",
              "            valuenum  \n",
              "count  598899.000000  \n",
              "mean       46.213613  \n",
              "std        68.616224  \n",
              "min         0.000000  \n",
              "25%         3.000000  \n",
              "50%         7.490000  \n",
              "75%        86.000000  \n",
              "max      3565.000000  "
            ],
            "text/html": [
              "<div>\n",
              "<style scoped>\n",
              "    .dataframe tbody tr th:only-of-type {\n",
              "        vertical-align: middle;\n",
              "    }\n",
              "\n",
              "    .dataframe tbody tr th {\n",
              "        vertical-align: top;\n",
              "    }\n",
              "\n",
              "    .dataframe thead th {\n",
              "        text-align: right;\n",
              "    }\n",
              "</style>\n",
              "<table border=\"1\" class=\"dataframe\">\n",
              "  <thead>\n",
              "    <tr style=\"text-align: right;\">\n",
              "      <th></th>\n",
              "      <th>row_id</th>\n",
              "      <th>subject_id</th>\n",
              "      <th>hadm_id</th>\n",
              "      <th>itemid</th>\n",
              "      <th>valuenum</th>\n",
              "    </tr>\n",
              "  </thead>\n",
              "  <tbody>\n",
              "    <tr>\n",
              "      <th>count</th>\n",
              "      <td>6.244410e+05</td>\n",
              "      <td>624441.000000</td>\n",
              "      <td>624441.000000</td>\n",
              "      <td>624441.000000</td>\n",
              "      <td>598899.000000</td>\n",
              "    </tr>\n",
              "    <tr>\n",
              "      <th>mean</th>\n",
              "      <td>1.521366e+07</td>\n",
              "      <td>36207.164467</td>\n",
              "      <td>149334.049881</td>\n",
              "      <td>50929.465394</td>\n",
              "      <td>46.213613</td>\n",
              "    </tr>\n",
              "    <tr>\n",
              "      <th>std</th>\n",
              "      <td>8.294357e+06</td>\n",
              "      <td>29101.123171</td>\n",
              "      <td>28569.363457</td>\n",
              "      <td>135.933690</td>\n",
              "      <td>68.616224</td>\n",
              "    </tr>\n",
              "    <tr>\n",
              "      <th>min</th>\n",
              "      <td>1.021200e+04</td>\n",
              "      <td>21.000000</td>\n",
              "      <td>100074.000000</td>\n",
              "      <td>50809.000000</td>\n",
              "      <td>0.000000</td>\n",
              "    </tr>\n",
              "    <tr>\n",
              "      <th>25%</th>\n",
              "      <td>7.843078e+06</td>\n",
              "      <td>12581.000000</td>\n",
              "      <td>124911.000000</td>\n",
              "      <td>50820.000000</td>\n",
              "      <td>3.000000</td>\n",
              "    </tr>\n",
              "    <tr>\n",
              "      <th>50%</th>\n",
              "      <td>1.630106e+07</td>\n",
              "      <td>26313.000000</td>\n",
              "      <td>148758.000000</td>\n",
              "      <td>50912.000000</td>\n",
              "      <td>7.490000</td>\n",
              "    </tr>\n",
              "    <tr>\n",
              "      <th>75%</th>\n",
              "      <td>2.246933e+07</td>\n",
              "      <td>58702.000000</td>\n",
              "      <td>174734.000000</td>\n",
              "      <td>51006.000000</td>\n",
              "      <td>86.000000</td>\n",
              "    </tr>\n",
              "    <tr>\n",
              "      <th>max</th>\n",
              "      <td>2.790723e+07</td>\n",
              "      <td>99991.000000</td>\n",
              "      <td>199943.000000</td>\n",
              "      <td>51486.000000</td>\n",
              "      <td>3565.000000</td>\n",
              "    </tr>\n",
              "  </tbody>\n",
              "</table>\n",
              "</div>"
            ]
          },
          "metadata": {
            "tags": []
          },
          "execution_count": 319
        }
      ]
    },
    {
      "cell_type": "markdown",
      "metadata": {
        "id": "okTsPaFeyMQR",
        "colab_type": "text"
      },
      "source": [
        "# Generate Tensors"
      ]
    },
    {
      "cell_type": "code",
      "metadata": {
        "id": "zEN990aQ0ALL",
        "colab_type": "code",
        "colab": {}
      },
      "source": [
        "hadm_id_ce = chartevents['hadm_id'].drop_duplicates()\n",
        "hadm_id_cv = inputevents_cv['hadm_id'].drop_duplicates()\n",
        "hadm_id_mv = inputevents_mv['hadm_id'].drop_duplicates()\n",
        "hadm_id_lb = labevents['hadm_id'].drop_duplicates()\n",
        "hadm_id = hadm_id_ce.append(hadm_id_cv.append(hadm_id_mv.append(hadm_id_lb))).drop_duplicates()\n",
        "hadm_id.describe()"
      ],
      "execution_count": 0,
      "outputs": []
    },
    {
      "cell_type": "code",
      "metadata": {
        "id": "rfwO3qch0jJq",
        "colab_type": "code",
        "colab": {}
      },
      "source": [
        "sepsis_dataset = []\n",
        "for hadm in hadm_id[0:10]:\n",
        "  data = pd.DataFrame(data=itemMeans,index={0})\n",
        "\n",
        "  temp = chartevents[chartevents['hadm_id'] == hadm]\n",
        "  temp = temp.pivot(index='row_id',columns='itemid',values='valuenum')\n",
        "  data = data.append(temp,ignore_index=False)\n",
        "  \n",
        "  temp = inputevents_cv[inputevents_cv['hadm_id'] == hadm]\n",
        "  temp = temp.pivot(index='row_id',columns='itemid',values='amount')\n",
        "  data = data.append(temp,ignore_index=False)\n",
        "  \n",
        "  temp = inputevents_mv[inputevents_mv['hadm_id'] == hadm]\n",
        "  temp = temp.pivot(index='row_id',columns='itemid',values='amount')\n",
        "  data = data.append(temp,ignore_index=False)\n",
        "\n",
        "  temp = labevents[labevents['hadm_id'] == hadm]\n",
        "  temp = temp.pivot(index='row_id',columns='itemid',values='valuenum')\n",
        "  data = data.append(temp,ignore_index=False)\n",
        "\n",
        "  data.fillna(value=itemMeans,inplace=True)\n",
        "  data['sepsis'] = int(admissions[admissions['hadm_id']==hadm]['sepsis'].all())\n",
        "  for key in minMaxScaler.keys():\n",
        "    arr = np.reshape(np.array(data[key]),(-1,1))\n",
        "    data[key] = minMaxScaler[key].transform(arr)\n",
        "  sepsis_dataset.insert(len(sepsis_dataset),data)"
      ],
      "execution_count": 0,
      "outputs": []
    }
  ]
}