{
  "nbformat": 4,
  "nbformat_minor": 0,
  "metadata": {
    "colab": {
      "name": "sepsis-model.ipynb",
      "provenance": [],
      "authorship_tag": "ABX9TyM5ACLaGXDPOzPJQ+x6cI9Q",
      "include_colab_link": true
    },
    "kernelspec": {
      "name": "python3",
      "display_name": "Python 3"
    }
  },
  "cells": [
    {
      "cell_type": "markdown",
      "metadata": {
        "id": "view-in-github",
        "colab_type": "text"
      },
      "source": [
        "<a href=\"https://colab.research.google.com/github/AdarshShah/final-year-project/blob/master/notebooks/sepsis_model.ipynb\" target=\"_parent\"><img src=\"https://colab.research.google.com/assets/colab-badge.svg\" alt=\"Open In Colab\"/></a>"
      ]
    },
    {
      "cell_type": "code",
      "metadata": {
        "id": "QKS73pQAZFf8",
        "colab_type": "code",
        "colab": {}
      },
      "source": [
        "import math\n",
        "import pandas as pd\n",
        "import psycopg2\n",
        "import getpass\n",
        "import numpy as np\n",
        "import tensorflow as tf\n",
        "from sklearn.preprocessing import MinMaxScaler, StandardScaler\n",
        "from sklearn.model_selection import train_test_split\n",
        "from sklearn.metrics import confusion_matrix, f1_score, recall_score, precision_score\n",
        "from keras.models import Model, Sequential\n",
        "from keras.layers import Dense, LeakyReLU\n",
        "import matplotlib.pyplot as plt"
      ],
      "execution_count": 0,
      "outputs": []
    },
    {
      "cell_type": "code",
      "metadata": {
        "id": "1_hawoweZSN1",
        "colab_type": "code",
        "colab": {}
      },
      "source": [
        "path = '/home/adarsh/Documents/sepsis/dataset/dataset_sepsis.csv'\n",
        "sepsis_dataset = pd.read_csv(path)"
      ],
      "execution_count": 0,
      "outputs": []
    },
    {
      "cell_type": "code",
      "metadata": {
        "id": "BLWbXj3B1CD_",
        "colab_type": "code",
        "colab": {}
      },
      "source": [
        "sepsis = sepsis_dataset[sepsis_dataset['sepsis_explicit']==1]\n",
        "not_sepsis = sepsis_dataset[sepsis_dataset['sepsis_explicit']!=1]"
      ],
      "execution_count": 0,
      "outputs": []
    },
    {
      "cell_type": "code",
      "metadata": {
        "id": "PGh97XlU1Hv9",
        "colab_type": "code",
        "outputId": "d2b39726-69ca-489b-e1ad-4001956a79a8",
        "colab": {
          "base_uri": "https://localhost:8080/",
          "height": 34
        }
      },
      "source": [
        "sepsis['icustay_id'].count()"
      ],
      "execution_count": 4,
      "outputs": [
        {
          "output_type": "execute_result",
          "data": {
            "text/plain": [
              "1538"
            ]
          },
          "metadata": {
            "tags": []
          },
          "execution_count": 4
        }
      ]
    },
    {
      "cell_type": "code",
      "metadata": {
        "id": "To1odVLn1KgH",
        "colab_type": "code",
        "outputId": "81a9004f-02b9-4045-a2b0-9ec172ed6bd0",
        "colab": {
          "base_uri": "https://localhost:8080/",
          "height": 34
        }
      },
      "source": [
        "not_sepsis['icustay_id'].count()"
      ],
      "execution_count": 5,
      "outputs": [
        {
          "output_type": "execute_result",
          "data": {
            "text/plain": [
              "14000"
            ]
          },
          "metadata": {
            "tags": []
          },
          "execution_count": 5
        }
      ]
    },
    {
      "cell_type": "code",
      "metadata": {
        "id": "t9x8gguzWff6",
        "colab_type": "code",
        "colab": {}
      },
      "source": [
        "X = sepsis_dataset.iloc[:,6:-2]\n",
        "Y = sepsis_dataset.iloc[:,3]\n",
        "X = MinMaxScaler().fit_transform(X.values)\n",
        "x_train, x_test, y_train, y_test = train_test_split(X,Y,test_size=0.2)"
      ],
      "execution_count": 0,
      "outputs": []
    },
    {
      "cell_type": "code",
      "metadata": {
        "id": "BUxZ9JLHQO9q",
        "colab_type": "code",
        "colab": {}
      },
      "source": [
        "model = Sequential()\n",
        "model.add(Dense(units=128,input_shape=(94,),activation='relu'))\n",
        "model.add(Dense(units=64,activation='relu'))\n",
        "model.add(Dense(units=16,activation='relu'))\n",
        "model.add(Dense(units=4,activation='relu'))\n",
        "model.add(Dense(units=1,activation='sigmoid'))\n",
        "\n",
        "model.compile(optimizer='adam',loss='binary_crossentropy',metrics=['accuracy'])\n",
        "model.summary()"
      ],
      "execution_count": 0,
      "outputs": []
    },
    {
      "cell_type": "code",
      "metadata": {
        "id": "a2b4Iqgt6PqQ",
        "colab_type": "code",
        "colab": {}
      },
      "source": [
        "history = model.fit(x=x_train,y=y_train,validation_data=(x_test,y_test),epochs=50)"
      ],
      "execution_count": 0,
      "outputs": []
    },
    {
      "cell_type": "code",
      "metadata": {
        "id": "m0Lf2i_L-Dk7",
        "colab_type": "code",
        "outputId": "081dcbec-87e9-4db6-adea-100d2cc8e408",
        "colab": {
          "base_uri": "https://localhost:8080/",
          "height": 295
        }
      },
      "source": [
        "plt.plot(history.history['accuracy'])\n",
        "plt.plot(history.history['val_accuracy'])\n",
        "plt.title('model accuracy')\n",
        "plt.ylabel('accuracy')\n",
        "plt.xlabel('epoch')\n",
        "plt.legend(['train', 'val'], loc='upper left')\n",
        "plt.show()"
      ],
      "execution_count": 9,
      "outputs": [
        {
          "output_type": "display_data",
          "data": {
            "text/plain": [
              "<Figure size 432x288 with 1 Axes>"
            ],
            "image/png": "[encoded data removed]"
          },
          "metadata": {
            "tags": [],
            "needs_background": "light"
          }
        }
      ]
    },
    {
      "cell_type": "code",
      "metadata": {
        "id": "Rj1jwfO73k9j",
        "colab_type": "code",
        "outputId": "c73e592c-0903-472c-d537-2c8cfedf7e50",
        "colab": {
          "base_uri": "https://localhost:8080/",
          "height": 104
        }
      },
      "source": [
        "X = sepsis_dataset.iloc[:,6:-2]\n",
        "y_true = sepsis_dataset.iloc[:,3]\n",
        "X = MinMaxScaler().fit_transform(X.values)\n",
        "y_pred = model.predict(X)\n",
        "y_pred = np.round(y_pred)\n",
        "print(confusion_matrix(y_true,y_pred))\n",
        "print(\"f1_score\\t:%f\"%(f1_score(y_true,y_pred)))\n",
        "print(\"recall_score\\t:%f\"%(recall_score(y_true,y_pred)))\n",
        "print(\"precision_score\\t:%f\"%(precision_score(y_true,y_pred)))"
      ],
      "execution_count": 16,
      "outputs": [
        {
          "output_type": "stream",
          "text": [
            "[[13904    96]\n",
            " [  732   806]]\n",
            "f1_score\t:0.660656\n",
            "recall_score\t:0.524057\n",
            "precision_score\t:0.893570\n"
          ],
          "name": "stdout"
        }
      ]
    },
    {
      "cell_type": "code",
      "metadata": {
        "id": "0FHx5kWAAF3e",
        "colab_type": "code",
        "outputId": "80b6cfd0-9946-4090-a8bd-9b591d60c04c",
        "colab": {
          "base_uri": "https://localhost:8080/",
          "height": 104
        }
      },
      "source": [
        "y_pred = sepsis_dataset['sepsis-3']\n",
        "y_true = sepsis_dataset.iloc[:,3]\n",
        "print(confusion_matrix(y_true,y_pred))\n",
        "print(\"f1_score\\t:%f\"%(f1_score(y_true,y_pred)))\n",
        "print(\"recall_score\\t:%f\"%(recall_score(y_true,y_pred)))\n",
        "print(\"precision_score\\t:%f\"%(precision_score(y_true,y_pred)))"
      ],
      "execution_count": 17,
      "outputs": [
        {
          "output_type": "stream",
          "text": [
            "[[6292 7708]\n",
            " [  56 1482]]\n",
            "f1_score\t:0.276286\n",
            "recall_score\t:0.963589\n",
            "precision_score\t:0.161262\n"
          ],
          "name": "stdout"
        }
      ]
    }
  ]
}