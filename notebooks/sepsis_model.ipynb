{
  "nbformat": 4,
  "nbformat_minor": 0,
  "metadata": {
    "colab": {
      "name": "sepsis-model.ipynb",
      "provenance": [],
      "authorship_tag": "ABX9TyOOIjEFvUQuOb/4ynpvDm8c",
      "include_colab_link": true
    },
    "kernelspec": {
      "name": "python3",
      "display_name": "Python 3"
    }
  },
  "cells": [
    {
      "cell_type": "markdown",
      "metadata": {
        "id": "view-in-github",
        "colab_type": "text"
      },
      "source": [
        "<a href=\"https://colab.research.google.com/github/AdarshShah/final-year-project/blob/master/notebooks/sepsis_model.ipynb\" target=\"_parent\"><img src=\"https://colab.research.google.com/assets/colab-badge.svg\" alt=\"Open In Colab\"/></a>"
      ]
    },
    {
      "cell_type": "code",
      "metadata": {
        "id": "QKS73pQAZFf8",
        "colab_type": "code",
        "colab": {}
      },
      "source": [
        "import math\n",
        "import pandas as pd\n",
        "import psycopg2\n",
        "import getpass\n",
        "import numpy as np\n",
        "import tensorflow as tf\n",
        "from sklearn.preprocessing import MinMaxScaler, StandardScaler\n",
        "from sklearn.model_selection import train_test_split\n",
        "from sklearn.metrics import confusion_matrix, f1_score, recall_score, precision_score\n",
        "from keras.models import Model, Sequential\n",
        "from keras.layers import Dense, LeakyReLU\n",
        "import matplotlib.pyplot as plt"
      ],
      "execution_count": 0,
      "outputs": []
    },
    {
      "cell_type": "code",
      "metadata": {
        "id": "1_hawoweZSN1",
        "colab_type": "code",
        "colab": {}
      },
      "source": [
        "path = '/home/adarsh/Documents/sepsis/dataset/dataset_sepsis.csv'\n",
        "sepsis_dataset = pd.read_csv(path)"
      ],
      "execution_count": 0,
      "outputs": []
    },
    {
      "cell_type": "code",
      "metadata": {
        "id": "BLWbXj3B1CD_",
        "colab_type": "code",
        "colab": {}
      },
      "source": [
        "sepsis = sepsis_dataset[sepsis_dataset['sepsis_explicit']==1]\n",
        "not_sepsis = sepsis_dataset[sepsis_dataset['sepsis_explicit']!=1]"
      ],
      "execution_count": 0,
      "outputs": []
    },
    {
      "cell_type": "code",
      "metadata": {
        "id": "PGh97XlU1Hv9",
        "colab_type": "code",
        "colab": {
          "base_uri": "https://localhost:8080/",
          "height": 34
        },
        "outputId": "738a92c3-e259-425f-f3bd-47784692f3c9"
      },
      "source": [
        "sepsis['icustay_id'].count()"
      ],
      "execution_count": 116,
      "outputs": [
        {
          "output_type": "execute_result",
          "data": {
            "text/plain": [
              "1538"
            ]
          },
          "metadata": {
            "tags": []
          },
          "execution_count": 116
        }
      ]
    },
    {
      "cell_type": "code",
      "metadata": {
        "id": "To1odVLn1KgH",
        "colab_type": "code",
        "colab": {
          "base_uri": "https://localhost:8080/",
          "height": 34
        },
        "outputId": "db42a749-0e86-4073-9748-6901e3ced975"
      },
      "source": [
        "not_sepsis['icustay_id'].count()"
      ],
      "execution_count": 117,
      "outputs": [
        {
          "output_type": "execute_result",
          "data": {
            "text/plain": [
              "14000"
            ]
          },
          "metadata": {
            "tags": []
          },
          "execution_count": 117
        }
      ]
    },
    {
      "cell_type": "code",
      "metadata": {
        "id": "t9x8gguzWff6",
        "colab_type": "code",
        "colab": {}
      },
      "source": [
        "X = sepsis_dataset.iloc[:,6:-2]\n",
        "Y = sepsis_dataset.iloc[:,3]\n",
        "X = MinMaxScaler().fit_transform(X.values)\n",
        "x_train, x_test, y_train, y_test = train_test_split(X,Y,test_size=0.2)"
      ],
      "execution_count": 0,
      "outputs": []
    },
    {
      "cell_type": "code",
      "metadata": {
        "id": "BUxZ9JLHQO9q",
        "colab_type": "code",
        "colab": {}
      },
      "source": [
        "model = Sequential()\n",
        "model.add(Dense(units=128,input_shape=(94,),activation='relu'))\n",
        "model.add(Dense(units=64,activation='relu'))\n",
        "model.add(Dense(units=16,activation='relu'))\n",
        "model.add(Dense(units=4,activation='relu'))\n",
        "model.add(Dense(units=1,activation='sigmoid'))\n",
        "\n",
        "model.compile(optimizer='adam',loss='binary_crossentropy',metrics=['accuracy'])\n",
        "model.summary()"
      ],
      "execution_count": 0,
      "outputs": []
    },
    {
      "cell_type": "code",
      "metadata": {
        "id": "a2b4Iqgt6PqQ",
        "colab_type": "code",
        "colab": {}
      },
      "source": [
        "history = model.fit(x=x_train,y=y_train,validation_data=(x_test,y_test),epochs=50)"
      ],
      "execution_count": 0,
      "outputs": []
    },
    {
      "cell_type": "code",
      "metadata": {
        "id": "m0Lf2i_L-Dk7",
        "colab_type": "code",
        "colab": {
          "base_uri": "https://localhost:8080/",
          "height": 295
        },
        "outputId": "fc522c43-2e4a-42e2-a032-54bdab1ca73e"
      },
      "source": [
        "plt.plot(history.history['accuracy'])\n",
        "plt.plot(history.history['val_accuracy'])\n",
        "plt.title('model accuracy')\n",
        "plt.ylabel('accuracy')\n",
        "plt.xlabel('epoch')\n",
        "plt.legend(['train', 'val'], loc='upper left')\n",
        "plt.show()"
      ],
      "execution_count": 131,
      "outputs": [
        {
          "output_type": "display_data",
          "data": {
            "text/plain": [
              "<Figure size 432x288 with 1 Axes>"
            ],
            "image/png": "[encoded data removed]"
          },
          "metadata": {
            "tags": [],
            "needs_background": "light"
          }
        }
      ]
    },
    {
      "cell_type": "code",
      "metadata": {
        "id": "Rj1jwfO73k9j",
        "colab_type": "code",
        "colab": {
          "base_uri": "https://localhost:8080/",
          "height": 52
        },
        "outputId": "46e227f0-dcbb-423a-c5e9-7d2ca137ab34"
      },
      "source": [
        "X = sepsis_dataset.iloc[:,6:-2]\n",
        "y_true = sepsis_dataset.iloc[:,3]\n",
        "X = MinMaxScaler().fit_transform(X.values)\n",
        "y_pred = model.predict(X)\n",
        "y_pred = np.round(y_pred)\n",
        "confusion_matrix(y_true,y_pred)"
      ],
      "execution_count": 106,
      "outputs": [
        {
          "output_type": "execute_result",
          "data": {
            "text/plain": [
              "array([[13910,    90],\n",
              "       [  671,   867]])"
            ]
          },
          "metadata": {
            "tags": []
          },
          "execution_count": 106
        }
      ]
    },
    {
      "cell_type": "code",
      "metadata": {
        "id": "0FHx5kWAAF3e",
        "colab_type": "code",
        "colab": {
          "base_uri": "https://localhost:8080/",
          "height": 52
        },
        "outputId": "56af0369-fd98-41a8-8ebf-aa5dad6a17a7"
      },
      "source": [
        "y_pred = sepsis_dataset['sepsis-3']\n",
        "y_true = sepsis_dataset.iloc[:,3]\n",
        "confusion_matrix(y_true,y_pred)"
      ],
      "execution_count": 119,
      "outputs": [
        {
          "output_type": "execute_result",
          "data": {
            "text/plain": [
              "array([[6292, 7708],\n",
              "       [  56, 1482]])"
            ]
          },
          "metadata": {
            "tags": []
          },
          "execution_count": 119
        }
      ]
    }
  ]
}